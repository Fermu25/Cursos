{
  "nbformat": 4,
  "nbformat_minor": 0,
  "metadata": {
    "colab": {
      "provenance": [],
      "include_colab_link": true
    },
    "kernelspec": {
      "name": "python3",
      "display_name": "Python 3"
    },
    "language_info": {
      "name": "python"
    }
  },
  "cells": [
    {
      "cell_type": "markdown",
      "metadata": {
        "id": "view-in-github",
        "colab_type": "text"
      },
      "source": [
        "<a href=\"https://colab.research.google.com/github/Fermu25/Cursos/blob/main/Practica1.ipynb\" target=\"_parent\"><img src=\"https://colab.research.google.com/assets/colab-badge.svg\" alt=\"Open In Colab\"/></a>"
      ]
    },
    {
      "cell_type": "markdown",
      "source": [
        "# Práctica 1."
      ],
      "metadata": {
        "id": "BJDg-am7bRPG"
      }
    },
    {
      "cell_type": "markdown",
      "source": [
        "## Diccionarios\n",
        "\n",
        "Escribir un programa que almacene las calificaciones de un semestre en el diccionario {'Electromagnetismo': 10, 'Electrónica': 9, 'Relatividad': 8,'Física Computacional': 10, 'Física Estadística': 9,} y después muestre por pantalla las calificaciones de cada asignatura en el formato *asignatura* como Key y *calificacion* como valor del Key. Al final debe mostrar también el promedio del semestre.\n"
      ],
      "metadata": {
        "id": "RrToz5ofe5jk"
      }
    },
    {
      "cell_type": "code",
      "source": [
        "Calif={'Electromagnetismo': 10, 'Electrónica': 9, 'Relatividad': 8,'Física Computacional': 10, 'Física Estadística': 9}\n",
        "print(Calif)\n",
        "n=int(len(Calif))\n",
        "Ndif=Calif.keys()\n",
        "s=0\n",
        "for i in Ndif:\n",
        "  s+=float(Calif.get(i))\n",
        "p=s/n\n",
        "print(\"El promedio es\",p)"
      ],
      "metadata": {
        "id": "Ev1ZnSzUf2nw",
        "outputId": "4e3f23bd-c16b-450d-897c-03654972ec67",
        "colab": {
          "base_uri": "https://localhost:8080/"
        }
      },
      "execution_count": null,
      "outputs": [
        {
          "output_type": "stream",
          "name": "stdout",
          "text": [
            "{'Electromagnetismo': 10, 'Electrónica': 9, 'Relatividad': 8, 'Física Computacional': 10, 'Física Estadística': 9}\n",
            "El promedio es 9.2\n"
          ]
        }
      ]
    },
    {
      "cell_type": "code",
      "source": [
        "peso={} #dicc vacío\n",
        "peso[\"H\"]=1 #Key H\n",
        "peso[\"He\"]=2\n",
        "peso[\"Cl\"]=35.5\n",
        "print(\"H\":1,\"He\":2,\"Cl\":35.5)\n",
        "\n"
      ],
      "metadata": {
        "id": "7ReM4TIlf55b"
      },
      "execution_count": null,
      "outputs": []
    },
    {
      "cell_type": "markdown",
      "source": [
        "## Programa básico de Python\n",
        "\n",
        "Un satélite se encuentra en una órbita circular alrededor de la Tierra, tal que completa un círculo en $T$ segundos, $T$ es el periodo de la órbita:\n",
        "\n",
        "i) Muestra que la altitud $h$ sobre la superficie de la Tierra será:\n",
        "$$\n",
        "h=\\left( \\frac{GMT^2}{4\\pi^2} \\right)^{\\tfrac{1}{3}} -R\n",
        "$$\n",
        "donde $G$ es la constante de gravitación universal con valor $G=6.67\\times10^{-11}$ m$^{3}$kg$^{-1}$s$^{-2}$, $M$ es la masa de la Tierra $M=5.97\\times10^{24}$kg y $R$ es el radio de la Tierra $R=6371$ kg.\n",
        "\n",
        "(ii) Escribe un programa que le pregunte al usuario el periodo que desea tenga su satélite girando alrededor de la Tierra y el programa le regrese la altitud, en metros, que deberá tener.\n",
        "\n",
        "(iii) ¿Qué altitud deberá tener el satélite su queremos que orbite la Tierra con un periodo de un día (órbita geosíncrona), 90 minutos, 45 minutos? ¿Qué observas?\n",
        "\n",
        "(iv) En práctica, una órbita geosíncrona es aquella cuya órbita tiene un periodo de un día sideral, que es de 23.93 horas, no de 24 horas. ¿Por qué es esto? ¿Cuál será la diferencia en altitud entre $T$= 23.93 horas y $T$= 24 horas.\n"
      ],
      "metadata": {
        "id": "IDU0tGLNf5Up"
      }
    },
    {
      "cell_type": "markdown",
      "source": [
        "Ley de grav.universal\n",
        "\\begin{equation}\n",
        "F=\\frac{GM_{T}m}{(R+h)^2}\n",
        "\\end{equation}\n",
        "La fuerza de atracción que ejerce la superficie de la tierra sobre un objeto a una distancia R+h en su orbita.\n",
        "Para un satélite de masa m, la fuerza de atracción de la ley de gravitacion es igual a la fuerza radial sobre el satélite\n",
        "\\begin{equation}\n",
        "F=ma_{r}\n",
        "\\end{equation}\n",
        "\\begin{equation}\n",
        "a_{r}=\\omega^{2}(R+h)\n",
        "\\end{equation}\n",
        "\\begin{equation}\n",
        "\\omega=\\frac{2\\pi}{T}\n",
        "\\end{equation}\n",
        "\\begin{equation}\n",
        "F=\\frac{4 \\pi^{2}m(R+h)}{T^2}\n",
        "\\end{equation}\n",
        "Igualando\n",
        "\\begin{equation}\n",
        "\\frac{GM_{T}m}{(R+h)^2}=\\frac{4 \\pi^{2}m(R+h)}{T^2}\n",
        "\\end{equation}\n",
        "$$\n",
        "\\frac{GM_{T}T^{2}}{4 \\pi^{2}}=(R+h)^3\n",
        "$$\n",
        "$$\n",
        "(R+h)=(\\frac{GM_{T}T^{2}}{4 \\pi^{2}})^{\\frac{1}{3}}\n",
        "$$\n",
        "$$\n",
        "h=\\left( \\frac{GMT^2}{4\\pi^2} \\right)^{\\tfrac{1}{3}} -R\n",
        "$$"
      ],
      "metadata": {
        "id": "tP1_RZCoeiYT"
      }
    },
    {
      "cell_type": "code",
      "source": [
        "import numpy as np\n",
        "G=6.67*10**(-11) #$G=6.67\\times10^{-11}$ m$^{3}$kg$^{-1}$s$^{-2}$\n",
        "M=5.97e24 #$M$ es la masa de la Tierra $M=5.97\\times10^{24}$kg\n",
        "R=6371 #$R$ es el radio de la Tierra $R=6371$ kg.\n",
        "def h(T):\n",
        "  h=((G*M*T**2)/(4*np.pi))**(1/3)-R\n",
        "  return h"
      ],
      "metadata": {
        "id": "aPZIzRpjgHze"
      },
      "execution_count": null,
      "outputs": []
    },
    {
      "cell_type": "code",
      "source": [
        "T=float(input(\"Cual es el periodo en segundos del satélite \\t\"))\n",
        "print(\"La altitud en metros del satélite es: h=%4.3f\" %h(T))"
      ],
      "metadata": {
        "id": "0vcguo_6e8KB",
        "colab": {
          "base_uri": "https://localhost:8080/"
        },
        "outputId": "ad554125-026b-4acc-9406-97700b017872"
      },
      "execution_count": null,
      "outputs": [
        {
          "output_type": "stream",
          "name": "stdout",
          "text": [
            "Cual es el periodo en segundos del satélite \t5000\n",
            "La altitud en metros del satélite es: h=9246505.592\n"
          ]
        }
      ]
    },
    {
      "cell_type": "code",
      "source": [
        "#¿Qué altitud deberá tener el satélite si queremos que orbite la Tierra con un periodo de un día (órbita geosíncrona), 90 minutos, 45 minutos?\n",
        "dia=24*60*60\n",
        "hor1=90*60\n",
        "hor2=45*60\n",
        "a=h(dia)\n",
        "b=h(hor1)\n",
        "c=h(hor2)\n",
        "dic={dia:a,hor1:b,hor2:c}\n",
        "print(\"Las altitudes son:\",dic)\n",
        "#Como el radio de la tierra es 6371km o 6,371,000 metros, significa que para los periodos de 90mins y 45mins el satélite estaría dentro de la atmósfera terrestre"
      ],
      "metadata": {
        "colab": {
          "base_uri": "https://localhost:8080/"
        },
        "id": "n2zQBdt8poA_",
        "outputId": "0374658c-7c83-46c2-fcac-79702d266747"
      },
      "execution_count": null,
      "outputs": [
        {
          "output_type": "stream",
          "name": "stdout",
          "text": [
            "Las altitudes son: {86400: 61838819.080814995, 5400: 9733636.102196055, 2700: 6129448.987091187}\n"
          ]
        }
      ]
    },
    {
      "cell_type": "markdown",
      "source": [
        "En práctica, una órbita geosíncrona es aquella cuya órbita tiene un periodo de un día sideral, que es de 23.93 horas, no de 24 horas. ¿Por qué es esto? ¿Cuál será la diferencia en altitud entre  T = 23.93 horas y  T = 24 horas."
      ],
      "metadata": {
        "id": "cEqVNQLHsfDm"
      }
    },
    {
      "cell_type": "code",
      "source": [
        "sideral=float(23.93*60*60)\n",
        "dia=24*60*60\n",
        "h1=h(sideral)\n",
        "h2=h(dia)\n",
        "print(\"Para la orbita sideral: h1=%4.3f\"%h1)\n",
        "print(\"Para la orbita sideral: h2=%4.3f\"%h2)\n",
        "print(\"La diferencia de altitud es:\", h2-h1)\n",
        "#No sé porque es la orbita sideral, pero son 12km de diferencia, supongo que es la diferencia entre dos capas de la atmosfera terrestre, no se la ionosfera y la estratosfera, imagino"
      ],
      "metadata": {
        "colab": {
          "base_uri": "https://localhost:8080/"
        },
        "id": "iwGuhcnfsgub",
        "outputId": "1119e057-504f-41ca-a413-095b4809ae9b"
      },
      "execution_count": null,
      "outputs": [
        {
          "output_type": "stream",
          "name": "stdout",
          "text": [
            "Para la orbita sideral: h1=61718506.012\n",
            "Para la orbita sideral: h2=61838819.081\n",
            "La diferencia de altitud es: 120313.06924135238\n"
          ]
        }
      ]
    },
    {
      "cell_type": "markdown",
      "source": [
        "## Matriz de Vandermonde\n",
        "\n",
        "Considera la matriz de Vandermonde, la cual se define como\n",
        "\n",
        "$$\n",
        "A_{ij} = v_i^{j} \\;\\;\\; i=0,1,2, \\cdots, n; \\;\\;\\; j=0,1,2,\\cdots, n\n",
        "$$\n",
        "\n",
        "Crea una función llamada *Vandermonde(v)* que reciba un vector $\\vec{v}$ y regrese la matriz A definida arriba.\n"
      ],
      "metadata": {
        "id": "Y26Q1FUagshj"
      }
    },
    {
      "cell_type": "code",
      "source": [
        "import numpy as np\n",
        "n=int(input('Da el numero de entradas del vector'))\n",
        "null_list=[]\n",
        "for i in range(n):\n",
        "    valor=float(input('Da el elemento %i'%i))\n",
        "    null_list.append(valor)\n",
        "v=np.array(null_list,float)\n",
        "print(v)\n",
        "def Vandermonde(v):\n",
        "  A=np.empty([n,n],float)\n",
        "  for i in range(n):\n",
        "    for j in range(n):\n",
        "      A[i,j]=(v[i])**j\n",
        "  return A\n",
        "print(Vandermonde(v))"
      ],
      "metadata": {
        "id": "gjTgWWNlhP2G",
        "colab": {
          "base_uri": "https://localhost:8080/"
        },
        "outputId": "e7ecf304-3176-4d48-fc05-336d121b7a72"
      },
      "execution_count": null,
      "outputs": [
        {
          "output_type": "stream",
          "name": "stdout",
          "text": [
            "Da el numero de entradas del vector3\n",
            "Da el elemento 03\n",
            "Da el elemento 14\n",
            "Da el elemento 25\n",
            "[3. 4. 5.]\n",
            "[[ 1.  3.  9.]\n",
            " [ 1.  4. 16.]\n",
            " [ 1.  5. 25.]]\n"
          ]
        }
      ]
    },
    {
      "cell_type": "markdown",
      "source": [
        "## Matriz tridiagonal\n",
        "\n",
        "Crea una función llamada tridiagonal que reciba un vector y regrese la matriz cuadrada\n",
        "\n",
        "$$\n",
        "A=\n",
        "\\begin{bmatrix}\n",
        "v_{0} & v_{1}^2 & 0 &  0 & 0 & \\dots  & 0 \\\\\n",
        "v_{1}^3 & v_{1} & v_{2}^2 &  0 & 0 & \\dots  & 0 \\\\\n",
        "0 & v_{2}^3 & v_2 &  v_{3}^2 & 0 & \\dots  & 0 \\\\\n",
        "0 & 0 & v_3^2 &  v_{3} & v_4^2 & \\dots  & 0 \\\\\n",
        "\\dots & \\dots  & \\dots & \\dots & \\dots & \\dots & \\dots\\\\\n",
        "0 & 0 & 0 & \\dots & v_{n-1}^3 & v_{n-1}  & v_{n}^2 \\\\\n",
        "0 & 0 & 0 & 0 & \\dots & v_{n}^3  & v_{n} \\\\\n",
        "\\end{bmatrix}\n",
        "$$\n",
        "\n",
        "\n",
        "Prueba con varios vectores e incluye estos vectores en tu código.\n",
        "\n"
      ],
      "metadata": {
        "id": "IQfZteBmhV9g"
      }
    },
    {
      "cell_type": "code",
      "source": [
        "import numpy as np\n",
        "v=np.array([1,2,3,4,5])\n",
        "n=len(v)\n",
        "def tridiagonal(v):\n",
        "  A=np.empty([n,n],float)\n",
        "  for i in range(n):\n",
        "   for j in range(n):\n",
        "    if i==j:\n",
        "     A[i,i]=v[i]\n",
        "    elif i==j-1:\n",
        "     A[i,j]=v[i+1]**2\n",
        "    elif i==j+1:\n",
        "     A[i,j]=v[i]**3\n",
        "    else:\n",
        "      A[i,j]=0\n",
        "  return A\n",
        "v=np.array([1,2,3,4,5])\n",
        "print(tridiagonal(v))"
      ],
      "metadata": {
        "id": "qWW-I1EliqyZ",
        "colab": {
          "base_uri": "https://localhost:8080/"
        },
        "outputId": "b221c1e8-f52d-4027-a631-8f7b384dbd02"
      },
      "execution_count": null,
      "outputs": [
        {
          "output_type": "stream",
          "name": "stdout",
          "text": [
            "[[  1.   4.   0.   0.   0.]\n",
            " [  8.   2.   9.   0.   0.]\n",
            " [  0.  27.   3.  16.   0.]\n",
            " [  0.   0.  64.   4.  25.]\n",
            " [  0.   0.   0. 125.   5.]]\n"
          ]
        }
      ]
    },
    {
      "cell_type": "markdown",
      "source": [
        "## Matriz de Pauli\n",
        "\n",
        "Las matrices de Pauli son muy populares en Mecánica Cuántica. Se sabe que para una partícula con espín $\\tfrac{1}{2}$, como es el electrón, las matrices de Pauli tienen la siguiente forma:\n",
        "\n",
        "\\begin{equation*}\n",
        "\\sigma_x=\n",
        "\\begin{bmatrix}\n",
        "0&1\\\\\n",
        "1&0\n",
        "\\end{bmatrix} \\hspace{0.5cm}\n",
        "\\sigma_y=\\begin{bmatrix}\n",
        "0&-i\\\\\n",
        "i&0\n",
        "\\end{bmatrix} \\hspace{0.5cm}\n",
        "\\sigma_z=\\begin{bmatrix}\n",
        "1&0\\\\\n",
        "0&-1\n",
        "\\end{bmatrix}\n",
        "\\end{equation*}\n",
        "\n",
        "Haz una función llamada *Pauli* que reciba el eje y regrese la matriz de Pauli correspondiente, es decir, escribas *mx=Pauli('x')* y regrese $\\sigma_x$.\n"
      ],
      "metadata": {
        "id": "671cFc1gitbD"
      }
    },
    {
      "cell_type": "code",
      "source": [
        "import cmath\n",
        "import numpy as np\n",
        "def Pauli(eje):\n",
        " sigmax=np.array(([0,1],[1,0]))\n",
        " sigmay=np.array(([0,-1j],[1j,0]),complex)\n",
        " sigmaz=np.array(([1,0],[0,-1]))\n",
        " if eje==\"x\":\n",
        "  return sigmax\n",
        " elif eje==\"y\":\n",
        "  return sigmay\n",
        " else:\n",
        "  return sigmaz\n",
        "eje=input(\"Qué matriz de Pauli deseas obtener, opciones disponibles 'x','y','z'\")\n",
        "print(Pauli(eje))"
      ],
      "metadata": {
        "id": "LLBHcEZbi5hQ",
        "colab": {
          "base_uri": "https://localhost:8080/"
        },
        "outputId": "c6aae290-f8b8-481e-9fd0-611b550fda44"
      },
      "execution_count": null,
      "outputs": [
        {
          "output_type": "stream",
          "name": "stdout",
          "text": [
            "Qué matriz de Pauli deseas obtener, opciones disponibles 'x','y','z'x\n",
            "[[0 1]\n",
            " [1 0]]\n"
          ]
        }
      ]
    },
    {
      "cell_type": "markdown",
      "source": [
        "## Propiedades de las matrices de Pauli\n",
        "\n",
        "Haremos 3 funciones para comprobar las propiedades más importantes de las matrices de Pauli.\n",
        "\n",
        "* $\\sigma_x^2=\\sigma_y^2=\\sigma_z^2=\\begin{bmatrix}\n",
        "1&0\\\\\n",
        "0&1\n",
        "\\end{bmatrix}$.\n",
        "\n",
        "Haz una función llamada *matriz\\_al\\_cuadrado*, que reciba una matriz y regrese su matriz al cuadrado. Ya que tengas tu función, prueba con las 3 matrices de Pauli, generadas en el problema anterior. Hint: Puedes reciclar el código de multiplicación de matrices.\n",
        "\n",
        "* $Tr(\\sigma_i)=0$.\n",
        "\n",
        "Haz una función llamada traza que reciba una matriz y regrese su traza. Recuerda que la traza de una matriz cuadrada es la suma de los elementos de la diagonal.\n",
        "\n",
        "* $det(\\sigma_i)=-1.$\n",
        "\n",
        "Haz una función que calcule el determinante de una matriz. Hint: Puedes usar el comando *numpy.linalg.det(M)*, importando *import numpy.linalg* para comprobar el determinante obtenido por tu código."
      ],
      "metadata": {
        "id": "EiA2CEkki8ds"
      }
    },
    {
      "cell_type": "code",
      "source": [
        "def matriz_al_cuadrado(A): #Haz una función llamada matriz_al_cuadrado, que reciba una matriz y regrese su matriz al cuadrado.\n",
        " r=len(A)\n",
        " c=len(A[0])\n",
        " P=np.empty([r,c]) #r=c porque trabajamos con matrices cuadradas  para poder elevar al cuadrado\n",
        " for i in range(r):\n",
        "  for j in range(r):\n",
        "   s=0\n",
        "   for k in range(r):\n",
        "    s+=A[i,k]*A[k,j]\n",
        "    P[i,j]=s\n",
        " return P"
      ],
      "metadata": {
        "id": "mrKX4wDYjkPx"
      },
      "execution_count": null,
      "outputs": []
    },
    {
      "cell_type": "code",
      "source": [
        "sigmax=np.array(([0,1],[1,0]))\n",
        "sigmay=np.array(([0,-1j],[1j,0]),complex)\n",
        "sigmaz=np.array(([1,0],[0,-1]))\n",
        "\n",
        "print(matriz_al_cuadrado(sigmax))\n",
        "print(matriz_al_cuadrado(sigmay))\n",
        "print(matriz_al_cuadrado(sigmaz))"
      ],
      "metadata": {
        "colab": {
          "base_uri": "https://localhost:8080/"
        },
        "id": "RyVwEb_TkeBy",
        "outputId": "c42f3fbb-2614-4a59-cd97-3a82f69f70ca"
      },
      "execution_count": null,
      "outputs": [
        {
          "output_type": "stream",
          "name": "stdout",
          "text": [
            "[[1. 0.]\n",
            " [0. 1.]]\n",
            "[[1. 0.]\n",
            " [0. 1.]]\n",
            "[[1. 0.]\n",
            " [0. 1.]]\n"
          ]
        },
        {
          "output_type": "stream",
          "name": "stderr",
          "text": [
            "<ipython-input-123-23661fa3e630>:10: ComplexWarning: Casting complex values to real discards the imaginary part\n",
            "  P[i,j]=s\n"
          ]
        }
      ]
    },
    {
      "cell_type": "code",
      "source": [
        "def traza(A): #Haz una función llamada traza que reciba una matriz y regrese su traza\n",
        " r=len(A)\n",
        " c=len(A[0])\n",
        " s=0\n",
        " for i in range(r):\n",
        "  for j in range(r):\n",
        "    if i==j:\n",
        "     s+=A[i,j]\n",
        " return s\n"
      ],
      "metadata": {
        "id": "EMspguKHNR1c"
      },
      "execution_count": null,
      "outputs": []
    },
    {
      "cell_type": "code",
      "source": [
        "sigmax=np.array(([0,1],[1,0]))\n",
        "sigmay=np.array(([0,-1j],[1j,0]),complex)\n",
        "sigmaz=np.array(([1,0],[0,-1]))\n",
        "eje=input(\"Para que matriz de Pauli quieres su traza, elige entre 'x','y' o 'z'\")\n",
        "if eje==\"x\":\n",
        " print(\"La traza de la matrix de Pauli en el eje %s es: t=%d\" %(eje, traza(sigmax)))\n",
        "elif eje==\"y\":\n",
        " print(\"La traza de la matrix de Pauli en el eje %s es: t=%d\" %(eje, traza(sigmay)))\n",
        "else:\n",
        " print(\"La traza de la matrix de Pauli en el eje %s es: t=%d\" %(eje, traza(sigmaz)))"
      ],
      "metadata": {
        "colab": {
          "base_uri": "https://localhost:8080/"
        },
        "id": "6Hki0HnPOTZR",
        "outputId": "59893591-60c7-4043-ea48-ded223b6a639"
      },
      "execution_count": null,
      "outputs": [
        {
          "output_type": "stream",
          "name": "stdout",
          "text": [
            "Para que matriz de Pauli quieres su traza, elige entre 'x','y' o 'z'z\n",
            "La traza de la matrix de Pauli en el eje z es: t=0\n"
          ]
        }
      ]
    },
    {
      "cell_type": "code",
      "source": [
        "import numpy as np\n",
        "def det(A):   #Haz una función que calcule el determinante de una matriz.\n",
        " n=len(A)\n",
        " if n==1:\n",
        "  return A[0,0]\n",
        " elif n==2:\n",
        "  return A[0,0]*A[1,1]-A[0,1]*A[1,0]\n",
        " else:\n",
        "  return (A[0,0]*A[1,1]*A[2,2]+A[0,1]*A[1,2]*A[0,2]+A[0,2]*A[1,0]*A[2,1])-(A[2,0]*A[1,1]*A[0,2]+A[2,1]*A[1,2]*A[0,0]+A[2,2]*A[1,0]*A[0,1])\n",
        " return det"
      ],
      "metadata": {
        "id": "ww4u6C8_QwDq"
      },
      "execution_count": null,
      "outputs": []
    },
    {
      "cell_type": "code",
      "source": [
        "import numpy as np\n",
        "sigmax=np.array(([0,1],[1,0]))\n",
        "sigmay=np.array(([0,-1j],[1j,0]),complex)\n",
        "sigmaz=np.array(([1,0],[0,-1]))\n",
        "det1=np.linalg.det(sigmax)\n",
        "print(det1)\n",
        "print(det(sigmax))\n",
        "M=np.array(([0,1,1],[1,0,1],[1,1,1]))\n",
        "det2=np.linalg.det(M)\n",
        "print(det(M))\n",
        "print(det2)"
      ],
      "metadata": {
        "id": "3zE0RwfeQ5MA",
        "colab": {
          "base_uri": "https://localhost:8080/"
        },
        "outputId": "0bea6906-e7b3-4bdf-a7c3-648953d87883"
      },
      "execution_count": null,
      "outputs": [
        {
          "output_type": "stream",
          "name": "stdout",
          "text": [
            "-1.0\n",
            "-1\n",
            "1\n",
            "1.0\n"
          ]
        }
      ]
    },
    {
      "cell_type": "markdown",
      "source": [
        "Estaba intenando hacer el determinante para una matriz de n-dimensiones con la regla de Laplace para determinantes, pero no supe como crear las submatrices y por más videos que vi no logré darme idea, entonces mejor hice solo para el caso de una matriz de 3x3 máximo que fue lo que puse en el else del penúltimo código, pero dejo parte de lo que hice por si hay algún tip o ayuda\n",
        "\n"
      ],
      "metadata": {
        "id": "yYb3ccZHI8OK"
      }
    },
    {
      "cell_type": "code",
      "source": [
        "#det=0\n",
        "#  for i in range(n):\n",
        "#   for j in range (n):\n",
        "#    Bi=np.empty([n-1,n-1])\n",
        "#    for k in range(n-1):\n",
        "#     for l in range(n-1):\n",
        "#      C[k,l]=A[k+(1 if k>=i else 0), l+(1 if l>=j else 0)]\n",
        "#      B[i].append(C[k,l])\n",
        "#    det+=A[i,j]*(-1)**(i+j)*(np.linalg.det(B[i]))"
      ],
      "metadata": {
        "id": "8WLKw9aBIXCT"
      },
      "execution_count": null,
      "outputs": []
    }
  ]
}