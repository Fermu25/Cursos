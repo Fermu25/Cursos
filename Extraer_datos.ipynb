{
  "nbformat": 4,
  "nbformat_minor": 0,
  "metadata": {
    "colab": {
      "provenance": [],
      "authorship_tag": "ABX9TyNwVLIju+bbOMeQ+cAb8MWc",
      "include_colab_link": true
    },
    "kernelspec": {
      "name": "python3",
      "display_name": "Python 3"
    },
    "language_info": {
      "name": "python"
    }
  },
  "cells": [
    {
      "cell_type": "markdown",
      "metadata": {
        "id": "view-in-github",
        "colab_type": "text"
      },
      "source": [
        "<a href=\"https://colab.research.google.com/github/Fermu25/Cursos/blob/main/Extraer_datos.ipynb\" target=\"_parent\"><img src=\"https://colab.research.google.com/assets/colab-badge.svg\" alt=\"Open In Colab\"/></a>"
      ]
    },
    {
      "cell_type": "code",
      "execution_count": 9,
      "metadata": {
        "id": "NJ1WYQ7jCI1o"
      },
      "outputs": [],
      "source": [
        "import pandas as pd\n",
        "import re\n",
        "\n",
        "# === Leer archivo (puede ser .csv o .xlsx) ===\n",
        "ruta = \"datos_log4.csv\"  # Cambia a .xlsx si es Excel\n",
        "df = pd.read_csv(ruta, header=None)  # Usa read_excel si es .xlsx and add header=None\n",
        "\n",
        "# === Suponemos que la columna se llama 'raw' ===\n",
        "def extraer_valores(linea):\n",
        "    # Expresión regular para encontrar TM y TCOR por sensor\n",
        "    patron = r\"T(\\d): TM=([\\d.]+) C, TCOR=([\\d.]+)\"\n",
        "    datos = re.findall(patron, linea)\n",
        "\n",
        "    # Construir diccionario con claves T1_TM, T1_TCOR, etc.\n",
        "    resultado = {}\n",
        "    for sensor, tm, tcor in datos:\n",
        "        resultado[f\"T{sensor}_TM\"] = float(tm)\n",
        "        resultado[f\"T{sensor}_TCOR\"] = float(tcor)\n",
        "    return pd.Series(resultado)\n",
        "\n",
        "# Aplicar a la columna que contiene los textos (ajusta el nombre si es necesario)\n",
        "df_resultado = df[0].apply(extraer_valores)\n",
        "\n",
        "# Combinar con el DataFrame original si deseas\n",
        "df_final = pd.concat([df, df_resultado], axis=1)\n",
        "\n",
        "# Guardar resultado si quieres\n",
        "df_final.to_csv(\"datos_procesados4.csv\", index=False)"
      ]
    }
  ]
}