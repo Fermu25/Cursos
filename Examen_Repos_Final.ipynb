{
  "cells": [
    {
      "cell_type": "markdown",
      "metadata": {
        "id": "view-in-github",
        "colab_type": "text"
      },
      "source": [
        "<a href=\"https://colab.research.google.com/github/Fermu25/Cursos/blob/main/Examen_Repos_Final.ipynb\" target=\"_parent\"><img src=\"https://colab.research.google.com/assets/colab-badge.svg\" alt=\"Open In Colab\"/></a>"
      ]
    },
    {
      "cell_type": "markdown",
      "metadata": {
        "id": "sbTVdVTtiX_B"
      },
      "source": [
        "# Reposición 1"
      ]
    },
    {
      "cell_type": "markdown",
      "metadata": {
        "id": "tmJwpnHLiX_F"
      },
      "source": [
        "## 1. Números Primos\n",
        "\n",
        "Como comentamos en clase, encontrar números primos muy grandes es muy importante para la sociedad actual, ya que tienen aplicaciones en criptografía.\n",
        "\n",
        "El objetivo de este ejercicio es que tu práctiques tu propia función de números primos.\n",
        "\n",
        "i) Haz una función llamada *primo* que reciba un número entero y evalúe si es primo o no (regrese un True si es primo y False si no lo es). La función también debe regresar el tiempo que tardó en cálcular el número primo (Hint: Usa la función time( ) del modulo time)\n",
        "\n",
        "ii) Evalúa la función *primo* del 1 a un rango dado y guarda los primos que encuentres en un diccionario, donde el *key* será el primo y el *value* será el tiempo de cómputo en que se tardó la máquina en determinar si es primo o no. Ve cambiando los rangos, e.g. (100,1000,10000,100000, ...) y observa.\n",
        "\n",
        "iii) Guarda las llaves en una lista llamada x, haz lo mismo para los valores del diccionario en y. Gráfica dichas listas en escala logaritmica usando la graficación log-log con el comando *loglog(x, y)*, luego de haber importado la librería pylab *from pylab import **. ¿Qué puedes decir del tiempo, es tiempo polinomial?"
      ]
    },
    {
      "cell_type": "code",
      "execution_count": null,
      "metadata": {
        "id": "3ZlikSe7iX_G"
      },
      "outputs": [],
      "source": []
    },
    {
      "cell_type": "markdown",
      "metadata": {
        "id": "Vo3dJQlqiX_H"
      },
      "source": [
        "## 2. Recursividad\n",
        "\n",
        "Euclides mostró que el máximo común divisor g(m,n) de dos enteros no negativos satisface:\n",
        "$$\n",
        "g(m,n)={\\begin{cases}{\\mbox{si }}n = 0 &\\Rightarrow m\\\\{\\mbox{si }}n>0&\\Rightarrow g(n,m_{\\hspace 1mm mod \\hspace 2mm n})\\end{cases}}\n",
        "$$\n",
        "\n",
        "i) Escribe una función *g(m,n)* que calcule el máximo común divisor de *m* y *n* usando la fórmula recursiva de arriba. Prueba con varios valores de $n$, ¿Cuál fue el valor máximo al que llegaste?\n",
        "\n",
        "ii) Memoisa tu código. Explica línea a línea la función de Memoisación que hicimos en clase"
      ]
    },
    {
      "cell_type": "code",
      "execution_count": null,
      "metadata": {
        "id": "5yN9t6GviX_I"
      },
      "outputs": [],
      "source": []
    },
    {
      "cell_type": "markdown",
      "metadata": {
        "id": "nSg20BJDiX_I"
      },
      "source": [
        "## 3. Errores de cancelación\n",
        "\n",
        "Incluso cuando se trata de operaciones sencillas pueden haber\n",
        "errores numéricos que hay que considerar. Por ejemplo, la serie\n",
        "\\begin{equation*}\n",
        "    S^\\text{derecho} = \\sum_{n=1}^N \\frac{1}{n},\n",
        "\\end{equation*}\n",
        "y la serie\n",
        "\\begin{equation*}\n",
        "    S^\\text{revés} = \\sum_{n=N}^1 \\frac{1}{n},\n",
        "\\end{equation*}\n",
        "pueden dar resultados distintos.\n",
        "\n",
        "(i) Calcule el valor de $S^\\text{derecho}$ y $S^\\text{revés}$ como función de $N$, usa la estructura de función para diseñar una función *suma_derecho(n)* y *suma_reves(n)*.\n",
        "\n",
        "(ii) Haz una gráfica log-log de $(S^\\text{derecho}-S^\\text{revés})/(|S^\\text{derecho}|+|S^\\text{revés}|)$ como función de $N$.\n"
      ]
    },
    {
      "cell_type": "code",
      "execution_count": null,
      "metadata": {
        "id": "BSFeFj-diX_J"
      },
      "outputs": [],
      "source": []
    },
    {
      "cell_type": "markdown",
      "metadata": {
        "id": "apK_02rPiX_J"
      },
      "source": [
        "## 4. Contexto de Python\n",
        "Supongamos que tenemos una función f(x) y queremos calcular su derivada en un punto x. Podemos hacerlo con lápiz y papel si conocemos la forma matemática de la función, o podemos hacerlo en la computadora usando la definición de la derivada:\n",
        "\n",
        "$$ \\frac{df}{dx}=\\lim_{\\delta  \\rightarrow 0 }\\frac{f(x)-f(x-\\delta)}{\\delta}$$\n",
        "\n",
        "En Python no podemos tomar el límite cuando $\\delta$ llega a cero, pero podemos obtener una aproximación razonable haciendo $\\delta$ pequeño.\n",
        "\n",
        "$$ \\frac{df}{dx} \\approx \\frac{f(x)-f(x-\\delta)}{\\delta}$$\n",
        "\n",
        "i) Escribe un programa que defina una función f(x) que devuelva el valor x(x - 1).  En el mismo programa defina una función derivada genérica de una variable real que tome como argumentos de función: el nombre de una función, un valor de x para el que se calcula la derivada y un valor para la variable límite $\\delta$. A continuación haga que su programa calcule e imprima la derivada de la función f(x) en el punto x = 1 utilizando la fórmula anterior con $\\delta$ = 10-2. Calcula analíticamente el valor real de la misma derivada y compáralo con la respuesta que da tu programa. Las dos no coincidirán perfectamente. ¿Por qué?\n",
        "\n",
        "\n",
        "ii) Con *Dataframe* de *Pandas* calcula la derivada para $\\delta$= $10^{-2}, 10^{-4}, 10^{-6}, 10^{-8}, 10^{-10}, 10^{-12}, 10^{-14}. 10^{-16} y 10^{-18}$.  Deberías ver que la precisión del cálculo mejora inicialmente a medida que \\delta$ se hace más pequeño, pero luego vuelve a empeorar. ¿A qué se debe esto?\n",
        "\n",
        "iii) Usando *Decimal* y *get_context* modifica tu función para que la función *derivada* se adapte a la delta dada por el usuario. Nota: Si el usuario no específica la delta, usamos un contexto de $1x10^{-16}$"
      ]
    },
    {
      "cell_type": "code",
      "execution_count": null,
      "metadata": {
        "id": "Q8f3CRzliX_J"
      },
      "outputs": [],
      "source": []
    },
    {
      "cell_type": "markdown",
      "metadata": {
        "id": "mi79G_jpiX_J"
      },
      "source": [
        "# Reposición 2"
      ]
    },
    {
      "cell_type": "markdown",
      "metadata": {
        "id": "gmzwaHADiX_K"
      },
      "source": [
        "## 1. Viga Voladiza\n",
        "\n",
        "En el campo de la construccion, una viga voladiza es una estructura que esta soportada solo uno de sus lados. La ecuacion que describe la frecuencia de oscilacion de la viga es la siguiente:\n",
        "\n",
        "$$ f(\\beta) = \\sinh(\\beta)\\sin(\\beta) - 1. $$\n",
        "\n",
        "donde\n",
        "\n",
        "$\\beta_{n}^{4} = (2\\pi f_{n})^{2} \\frac{mL^{3}}{EI}$\n",
        "\n",
        "$f_{n}$ La frecuencia enesima\n",
        "\n",
        "$m = 4.41$ kg la masa de la viga\n",
        "\n",
        "$L = 0.9m $ la logitud\n",
        "\n",
        "$E = 200x10^{9} $ La eslasticidad en pascales\n",
        "\n",
        "$I = 3.255 x10^{-8}$ El momento de inercia de la seccion transversal\n",
        "\n",
        "#### a)\n",
        "Determina dos frecuencias para la viga tales que $f(\\beta)=0$. Asegurate de tomar frecuencias con significado fisico.\n",
        "\n",
        "#### b)\n",
        "Discute con tus propias palabras lo que sucederia si la viga logra tales frecuencias"
      ]
    },
    {
      "cell_type": "code",
      "source": [
        "import matplotlib.pyplot as plt\n",
        "from math import *\n",
        "import numpy as np\n",
        "import pandas as pd\n",
        "\n",
        "#Método de secante\n",
        "def secante(f,a,b,epsilon=1e-6):\n",
        "  contador=0\n",
        "  x0=a\n",
        "  x1=b\n",
        "  dx=abs(x1-x0)\n",
        "  while dx > epsilon:\n",
        "    x2=x0-((x1-x0)/(f(x1)-f(x0)))*f(x0)\n",
        "    dx=abs(x1-x0)\n",
        "    x0=x1\n",
        "    x1=x2\n",
        "    contador=contador+1\n",
        "  return[contador,x2]\n",
        "\n",
        "#Condiciones iniciales\n",
        "m=4.41\n",
        "L= 0.9\n",
        "E=200*1e9\n",
        "I=3.255*1e-8\n",
        "#Función de frecuencias\n",
        "beta=np.linspace(0.1,3.5,500)\n",
        "f= lambda beta: np.sinh(beta)*np.sin(beta)-1\n",
        "plt.plot(beta,f(beta),\"k\")\n",
        "plt.grid(True)\n",
        "#Ejercicio a\n",
        "#Vemos que las raíces se encuentran entre (1,0) y (3.1,0)\n",
        "betas_iniciales=[(0,2),(3.5,4)]\n",
        "#Constante\n",
        "constante=np.sqrt(E*I/(m*L**3))\n",
        "#Encontrar las raíces\n",
        "raices = [secante(f,a,b)[1] for a,b in betas_iniciales]\n",
        "#Calcular las frecuencias\n",
        "frecuencias=[(beta**2/(2*np.pi))*constante for beta in raices]\n",
        "#imprimir frecuencias de las raíces\n",
        "print(f'Frecuencias encontradas:{frecuencias} Hz')\n",
        "\n",
        "#Inciso b\n",
        "#Si la viga logra tales frecuencias entonces se encuentra un punto de resonancia, por lo que la viga se rompería ya que las frecuencias encontradas\n",
        "#representan las frecuencias naturales de vibración de la viga.\n",
        "#Durante la resonancia las oscilaciones de la viga se amplificaran en gran medida, tal como el caso del puente que se cayó por entrar en resonancia\n",
        "#Se puede producir un aumento significativo en la amplitud de las oscilaciones, lo que puede llevar a daños estructurales.\n",
        "#Cómo en el caso de una copa de vidrio cuando se encuentra la frecuencias de resonancia, esta se rompe explotando en pedazos, lo cual en el caso de la viga\n",
        "#Significa una fractura que pondría en riesgo la estabilidad de la estructura tal como es el caso del puente.\n",
        "\n",
        "\n",
        "\n",
        "\n",
        "\n",
        "\n",
        "\n",
        "\n"
      ],
      "metadata": {
        "colab": {
          "base_uri": "https://localhost:8080/",
          "height": 448
        },
        "id": "EhWzAXbYjUJP",
        "outputId": "c30eb84b-3f5e-47f8-e88b-f7570c31cac8"
      },
      "execution_count": null,
      "outputs": [
        {
          "output_type": "stream",
          "name": "stdout",
          "text": [
            "Frecuencias encontradas:[7.244172813036104, 66.45534030977322] Hz\n"
          ]
        },
        {
          "output_type": "display_data",
          "data": {
            "text/plain": [
              "<Figure size 640x480 with 1 Axes>"
            ],
            "image/png": "[encoded data removed]"
          },
          "metadata": {}
        }
      ]
    },
    {
      "cell_type": "markdown",
      "metadata": {
        "id": "ZcaVEfndiX_L"
      },
      "source": [
        "## 2. Eficiencia de un motor\n",
        "\n",
        "\n",
        "Este problema trata de un ciclo termodinamico de un motor. La eficiencia del motor esta dada por la siguiente expresion:\n",
        "\n",
        "$$\\eta = \\frac{\\ln(T_{2}/T_{1}) + (1 - T_{2}/T_{1})} {\\ln(T_{2}/T_{1}) - (1 - T_{2}/T_{1})/(\\gamma -1) }.$$\n",
        "\n",
        "i)\n",
        "Encuentra el valor de $T_{2}$ que logra una eficiencia del 30%, considera $T_{1}$ = 400K, $\\gamma = 5/3$ Que tipo de gas hace funcionar al motor?\n",
        "\n",
        "ii)\n",
        "Repite el proceso para $\\gamma = 7/5$.\n",
        "\n",
        "iii)\n",
        "Realiza una grafica donde muestres la variacion de la eficiencia al aumentar $T_{2}$. Discute la grafica y el significado fisico del sistema, recuerda analizar los casos limite."
      ]
    },
    {
      "cell_type": "code",
      "source": [
        "#Método de la secante\n",
        "def secante(f,a,b,epsilon=1e-6):\n",
        "  contador=0\n",
        "  x0=a\n",
        "  x1=b\n",
        "  dx=abs(x1-x0)\n",
        "  while dx > epsilon:\n",
        "    x2=x0-((x1-x0)/(f(x1)-f(x0)))*f(x0)\n",
        "    dx=abs(x1-x0)\n",
        "    x0=x1\n",
        "    x1=x2\n",
        "    contador=contador+1\n",
        "  return[contador,x2]"
      ],
      "metadata": {
        "id": "G89-naJS1L6o"
      },
      "execution_count": null,
      "outputs": []
    },
    {
      "cell_type": "code",
      "execution_count": null,
      "metadata": {
        "id": "5xKVJjjAiX_M",
        "colab": {
          "base_uri": "https://localhost:8080/"
        },
        "outputId": "a4d3b99e-025a-4619-d8d9-1427b66e905e"
      },
      "outputs": [
        {
          "output_type": "stream",
          "name": "stdout",
          "text": [
            "[8, 73.90234362079399]\n",
            "[10, 42.94209855631637]\n"
          ]
        }
      ],
      "source": [
        "#Ejercicio 2\n",
        "f_2= lambda x: (np.log(x/T1)+(1-x/T1))/(np.log(x/T1)-(1-x/T1)/(ga-1)) - 0.3\n",
        "#a)\n",
        "T1=400\n",
        "ga=5/3\n",
        "print(secante(f_2,50,100,1e-12))\n",
        "\n",
        "#b)\n",
        "T1=400\n",
        "ga = 7/5\n",
        "print(secante(f_2,10,100,1e-12))\n"
      ]
    },
    {
      "cell_type": "code",
      "source": [
        "x=np.linspace(0,500,1000)\n",
        "f_2= lambda x: (np.log(x/T1)+(1-x/T1))/(np.log(x/T1)-(1-x/T1)/(ga-1)) - 0.3\n",
        "plt.plot(x,f_2(x),\"k\")\n",
        "plt.grid(True)\n",
        "plt.show()"
      ],
      "metadata": {
        "colab": {
          "base_uri": "https://localhost:8080/",
          "height": 502
        },
        "id": "zqoZHSpx4VFg",
        "outputId": "fe879c1d-dffd-4b6d-9896-764e635961ff"
      },
      "execution_count": null,
      "outputs": [
        {
          "output_type": "stream",
          "name": "stderr",
          "text": [
            "<ipython-input-46-c44000976e54>:2: RuntimeWarning: divide by zero encountered in log\n",
            "  f_2= lambda x: (np.log(x/T1)+(1-x/T1))/(np.log(x/T1)-(1-x/T1)/(ga-1)) - 0.3\n",
            "<ipython-input-46-c44000976e54>:2: RuntimeWarning: invalid value encountered in divide\n",
            "  f_2= lambda x: (np.log(x/T1)+(1-x/T1))/(np.log(x/T1)-(1-x/T1)/(ga-1)) - 0.3\n"
          ]
        },
        {
          "output_type": "display_data",
          "data": {
            "text/plain": [
              "<Figure size 640x480 with 1 Axes>"
            ],
            "image/png": "[encoded data removed]"
          },
          "metadata": {}
        }
      ]
    },
    {
      "cell_type": "markdown",
      "source": [
        "Vemos que al aumentar la temperatura la eficiencia decae abruptamente, sobre todo cuando T2 tiende a la temperatura T1 y cuando T2 es igual a T1 la eficiencia $\\eta$ tiende a cero prácticamente porque no hay diferencia de temperatura que impulse el ciclo termodinámico, de hecho el valor de eficiencia es negativo.\n",
        "Si T2 se tiende a cero la eficiencia se aproxima a un límite máximo que depende del valor de $\\gamma$, en la gráfica se puede observar que ese valor es del $30\\%$. \\\\\n",
        "Podríamos decir que es como la eficiencia de un ciclo de Carnot ideal"
      ],
      "metadata": {
        "id": "s0LfDr0D4eVi"
      }
    },
    {
      "cell_type": "markdown",
      "metadata": {
        "id": "xxHuRD9eiX_M"
      },
      "source": [
        "## 3. Método de Ridders\n",
        "\n",
        "Describe en papel, con tus propias palabras de que trata el método de Ridders, su error asociado y su convergencia.\\\\\n",
        "\n",
        "El método de Ridders es un método numérico utilizado para encontrar las raíces de una función no lineal. Es una versión mejorada de los métodos como bisección o secante, combiando carácterísticas de ambos métodos para lograr una mayor convergencia.\n",
        "La idea consiste en una transformación lineal de la función original, pasando de un espacio a otro donde sea más sencillo encontrar una solución en el nuevo espacio.\\\\\n",
        "La idea es tomar dos puntos iniciales a,b tales que su respectivo valor f(a) y f(b) son de signos opuestos. Esto asegura que hay al menos una raíz en el intervalo [a, b] según el teorema de valor intermedio tal como es el método de bisección.\\\\\n",
        "Una vez obtenido el valor intermedio, se calcula el valor de la función en el punto medio del intervalo c= (a+b)/2.\n",
        "Luego se introduce una transformación lineal con una función exponencial muy creativa y rara, para crear una nueva función g(x) que tiene una raíz más fácil de encontrar, por medio de un cambio de variable y resolviendo una ecuación cuadrática y luego se aplica la transformación lineal inversa para regresar a la función original.\n",
        "\n",
        "Dependiendo del signo de f(x), ajustamos el intervalo de búsqueda y simplemente se repiten los pasos anteriores hasta que el intervalo sea lo suficientemente pequeño o hasta que f(x) sea suficientemente cercano a cero o al error definido.\n",
        "\n",
        "El error en el método de Ridders disminuye de forma exponencial con cada iteración.\n",
        "En comparación a la tasa de convergencia se encuentra entre la del método de bisección que converge linealmente y la del método de Newton que lo hace de forma cuadrática.\n",
        "\n",
        "\n",
        "\n"
      ]
    },
    {
      "cell_type": "markdown",
      "source": [],
      "metadata": {
        "id": "FMFtIHSY0gtN"
      }
    },
    {
      "cell_type": "markdown",
      "metadata": {
        "id": "wG3FghgIiX_M"
      },
      "source": [
        "# Reposición 3"
      ]
    },
    {
      "cell_type": "code",
      "execution_count": 1,
      "metadata": {
        "id": "AJdWCOKoiX_M"
      },
      "outputs": [],
      "source": [
        "from pylab import *\n",
        "from IPython.display import Image"
      ]
    },
    {
      "cell_type": "code",
      "execution_count": 2,
      "metadata": {
        "id": "kBHkdZDgiX_N"
      },
      "outputs": [],
      "source": [
        "#f la ec de la EDO\n",
        "#xo la condicion inicial\n",
        "#a,b los extremos del intervalo\n",
        "#N las interaciones\n",
        "\n",
        "def Euler(f, a, b, xo, N):\n",
        "    h=(b-a)/N\n",
        "    x=[xo]\n",
        "    for i in range(N-1):\n",
        "        x.append(x[i]+h*f(x[i],a+h*(i+1)))\n",
        "    return x\n",
        "\n",
        "def RK2(f, a, b, xo, N):\n",
        "    h=(b-a)/N\n",
        "    x=[xo]\n",
        "    for i in range(N-1):\n",
        "        k1=h*f(x[i],a+h*(i+1))\n",
        "        k2=h*f(x[i]+0.5*k1,a+h*(i+1)+0.5*h)\n",
        "        x.append(x[i]+k2)\n",
        "    return x\n",
        "\n",
        "def RK4(f, a, b, xo, N):\n",
        "    h=(b-a)/N\n",
        "    x=[xo]\n",
        "    for i in range(N-1):\n",
        "        k1=h*f(x[i],a+h*(i+1))\n",
        "        k2=h*f(x[i]+0.5*k1,a+h*(i+1)+0.5*h)\n",
        "        k3=h*f(x[i]+0.5*k2,a+h*(i+1)+0.5*h)\n",
        "        k4=h*f(x[i]+k3,a+h*(i+1)+h)\n",
        "        x.append(x[i]+(k1+2*k2+2*k3+k4)/6)\n",
        "    return x\n",
        "\n",
        "#Funcion que devuelve las soluciones de una EDO de segundo orden\n",
        "#f es la ecuacion diferencial\n",
        "#to y tf el intervalo de tiempo donde se bucan las soluciones\n",
        "#xi la condicion inicial de la solucion\n",
        "#vi la condicion inicial de la derivada\n",
        "#h es el tamaño de paso\n",
        "#metodo, es la tecnica a utilizar\n",
        "def EDO2(f, to, tf, xi, vi, h, metodo):\n",
        "    lista_t = arange(to,tf,h)\n",
        "    lista_x = []\n",
        "    lista_v = []\n",
        "    r = array([xi,vi],float)\n",
        "    for t in lista_t:\n",
        "        lista_x.append(r[0])\n",
        "        lista_v.append(r[1])\n",
        "        metodo(f,r,t,h)\n",
        "    return (lista_t, lista_x, lista_v)\n",
        "\n",
        "\n",
        "#Para EDO de orden 2 acopladas\n",
        "#f es la ecuacion diferencial\n",
        "#to y tf el intervalo de tiempo donde se bucan las soluciones\n",
        "#xi  la condicion inicial de la solucion de la primera funcion\n",
        "#vxi la condicion inicial de la derivada de la primera funcion\n",
        "#yi  la condicion inicial de la solucion de la segunda funcion\n",
        "#vyi la condicion inicial de la derivada de la segunda funcion\n",
        "#h es el tamaño de paso\n",
        "#metodo, es la tecnica a utilizar, de la slistadas arriba\n",
        "\n",
        "def EDO2_acoplada(f, to, tf, xi, yi, vxi, vyi, h, metodo):\n",
        "    lista_t = arange(to,tf,h)\n",
        "    lista_x  = []\n",
        "    lista_y  = []\n",
        "    lista_vx = []\n",
        "    lista_vy = []\n",
        "    r = array([xi,yi,vxi,vyi],float)\n",
        "    for t in lista_t:\n",
        "        lista_x.append(r[0])\n",
        "        lista_y.append(r[1])\n",
        "        lista_vx.append(r[2])\n",
        "        lista_vy.append(r[3])\n",
        "        metodo(f,r,t,h)\n",
        "    return (lista_t, lista_x, lista_y, lista_vx, lista_vy)\n",
        "\n",
        "def Euler2(f,r,t,h):\n",
        "    r += h * f(r,t)\n",
        "\n",
        "def RK22(f,r,t,h):\n",
        "    k1 = f(r,t)\n",
        "    k2 = f(r+ 0.5*h*k1, t+0.5*h)\n",
        "    r += h * k2\n",
        "\n",
        "def RK42(f,r,t,h):\n",
        "    k1 = f(r,t)\n",
        "    k2 = f(r + 0.5*h*k1, t + 0.5*h)\n",
        "    k3 = f(r + 0.5*h*k2, t+ 0.5*h)\n",
        "    k4 = f(r + h*k3, t + h)\n",
        "    r += h/6 * (k1 + 2*k2 + 2*k3 + k4)"
      ]
    },
    {
      "cell_type": "markdown",
      "metadata": {
        "id": "3KEejNnFiX_O"
      },
      "source": [
        "## 1. Modelo de Crecimiento de Tumores\n",
        "\n",
        "En la investigación del cáncer, se utilizan modelos matemáticos para comprender el crecimiento y la progresión de los tumores. Uno de los modelos más simples pero efectivos es el modelo de crecimiento de tumores de Gompertz.\n",
        "\n",
        "El modelo de Gompertz describe el crecimiento de un tumor como una función del tiempo. Se puede expresar con la siguiente ecuación diferencial:\n",
        "\n",
        "$ \\frac{dV}{dt} = -kV\\log\\left(\\frac{V}{V_{max}}\\right) $\n",
        "\n",
        "Donde:\n",
        "\n",
        "- $ V(t) $ es el volumen del tumor en el tiempo $ t $.\n",
        "- $ V_{max} $ es el volumen máximo que el tumor puede alcanzar de acuerdo al entorno biologico donde se presenta.\n",
        "- $ k $ es una constante de crecimiento.\n",
        "\n",
        "\n",
        "\n",
        "**a)** Supongamos que un investigador está estudiando el crecimiento de un tumor en un paciente. Si el volumen inicial del tumor es de $ V_{max} = 500 $ cm3 y la constante de crecimiento es $ k = 0.1 $ cm³/día, ¿cuál será el volumen del tumor después de 30 días si el volumen inciial V_o= 0.2cm3?. Realiza una grafica del crecimiento del tumor para 30 dias. Repite el procedimiento y grafica el Volumen hasta que el tumor logre su máximo crecimiento, ¿Cuantos dias transcurrieron?\n",
        "\n",
        "\n",
        "**b)** Un medicamento experimental se administra a un grupo de pacientes con tumores. Se observa que el medicamento reduce la constante de crecimiento $ k $ a la tercera parte  \n",
        "Grafica el crecimietno del tumor para 150 dias si se administra el medicamento y si no es administrado. Compara el comportamiento de ambas graficas y menciona con tus propias palabras cual es el beneficio del medicamento, en cuanto tiempo se podrian observar los mejores resultados y si recomendarias el usarlo.  "
      ]
    },
    {
      "cell_type": "markdown",
      "metadata": {
        "id": "RkHpRrkbiX_O"
      },
      "source": [
        "## 2. Dos masas con dos resortes\n",
        "\n",
        "Un Sistema de doble amortiguamiento puede ser descrito por la siguiente ecuacion diferencial:\n",
        "\n",
        "\n",
        " $$  m_1\\ddot{\\theta}_1 = - k_1\\theta_1 + k_2(\\theta_2 - \\theta_1)   $$\n",
        " $$  m_2\\ddot{\\theta}_2 = - k_2(\\theta_2 - \\theta_1)   $$\n",
        "\n",
        "\n",
        "\n",
        "Notemos que podemos reescribir el anterior sistema de ecuaciones de manera matricial como\n",
        "\n",
        "\n",
        "$$ \\left(\\begin{matrix} m_1 & 0\\\\ 0 & m_2\\end{matrix}\\right)\n",
        "\\left(\\begin{matrix} \\ddot{\\theta}_1 \\\\ \\ddot{\\theta}_2 \\end{matrix}\\right)\n",
        "= \\left(\\begin{matrix} - k_1\\theta_1 + k_2(\\theta_2 - \\theta_1) \\\\  \n",
        "- k_2(\\theta_2 - \\theta_1) \\end{matrix}\\right)\n",
        "$$\n",
        "\n",
        "\n",
        "**a)** Encuentra las soluciones entre $t_o = 0$ y $t_f=30$  si $m_1 = m_2 = 1$, $g= 9.8$ $k_1=0.3$  $k_2 = 0.8$ para las condiciones iniciales\n",
        "\n",
        "* $\\theta_1 = 0$\n",
        "\n",
        "* $\\dot{\\theta}_1 = 0$\n",
        "\n",
        "* $\\theta_2 = \\pi/3$\n",
        "\n",
        "* $\\dot{\\theta}_2 = 0$\n",
        "\n",
        "**b)**\n",
        "Repite el procedimiento si la segunda masa aumenta aumenta al doble, $g= 9.8$ $k_1=1$  $k_2 = 0.8$\n",
        "\n",
        "* $\\theta_1 = 0$\n",
        "\n",
        "* $\\dot{\\theta}_1 = 0$\n",
        "\n",
        "* $\\theta_2 = \\pi/6$\n",
        "\n",
        "* $\\dot{\\theta}_2 = 0.5$\n",
        "\n",
        "**C)** Analiza el espacio fase de ambas ecuaciones, comenta con tus propias palabras el significado físico del sistema. Recuerda que espacio fase es una gran herramienta para obtener informacion física."
      ]
    },
    {
      "cell_type": "code",
      "execution_count": null,
      "metadata": {
        "id": "fO_BW5bxiX_P"
      },
      "outputs": [],
      "source": []
    },
    {
      "cell_type": "markdown",
      "metadata": {
        "id": "ECtz7bhaiX_P"
      },
      "source": [
        "## 3. Leap-Frog\n",
        "\n",
        "En tus propias palabras, explica el método de Leap-Frog. Haz una comparación con el método de Runge-Kutta de órden 2."
      ]
    },
    {
      "cell_type": "code",
      "execution_count": null,
      "metadata": {
        "id": "cu0B-ZNbiX_P"
      },
      "outputs": [],
      "source": []
    }
  ],
  "metadata": {
    "kernelspec": {
      "display_name": "Python 3",
      "language": "python",
      "name": "python3"
    },
    "language_info": {
      "codemirror_mode": {
        "name": "ipython",
        "version": 3
      },
      "file_extension": ".py",
      "mimetype": "text/x-python",
      "name": "python",
      "nbconvert_exporter": "python",
      "pygments_lexer": "ipython3",
      "version": "3.8.3"
    },
    "colab": {
      "provenance": [],
      "include_colab_link": true
    }
  },
  "nbformat": 4,
  "nbformat_minor": 0
}