{
  "nbformat": 4,
  "nbformat_minor": 0,
  "metadata": {
    "colab": {
      "provenance": [],
      "include_colab_link": true
    },
    "kernelspec": {
      "name": "python3",
      "display_name": "Python 3"
    },
    "language_info": {
      "name": "python"
    }
  },
  "cells": [
    {
      "cell_type": "markdown",
      "metadata": {
        "id": "view-in-github",
        "colab_type": "text"
      },
      "source": [
        "<a href=\"https://colab.research.google.com/github/Fermu25/Cursos/blob/main/Clase1_6Feb.ipynb\" target=\"_parent\"><img src=\"https://colab.research.google.com/assets/colab-badge.svg\" alt=\"Open In Colab\"/></a>"
      ]
    },
    {
      "cell_type": "markdown",
      "source": [
        "# Introducción a Python\n",
        "\n",
        "Esta celda es tipo Markdown y puedes escribir en latex y en html para que quede bonito el Notebook.\n",
        "\n",
        "Ejemplo de Latex:\n",
        "\n",
        "$$\n",
        "Ax_n+cV=0\n",
        "$$"
      ],
      "metadata": {
        "id": "NPmIO29HUa0B"
      }
    },
    {
      "cell_type": "code",
      "execution_count": null,
      "metadata": {
        "id": "Oggdq1jTSTEL"
      },
      "outputs": [],
      "source": [
        "a=3 #entera"
      ]
    },
    {
      "cell_type": "code",
      "source": [
        "b=4.0 #float"
      ],
      "metadata": {
        "id": "ZszYszz4VZ3K"
      },
      "execution_count": null,
      "outputs": []
    },
    {
      "cell_type": "code",
      "source": [
        "c='cadena de caracteres' #string"
      ],
      "metadata": {
        "id": "BnAHq4oEVeae"
      },
      "execution_count": null,
      "outputs": []
    },
    {
      "cell_type": "code",
      "source": [
        "v1=[1,2,3,4,5] #lista o vector"
      ],
      "metadata": {
        "id": "wKl4J9GNVjfZ"
      },
      "execution_count": null,
      "outputs": []
    },
    {
      "cell_type": "code",
      "source": [
        "v2=[10,20,30,40,50]"
      ],
      "metadata": {
        "id": "FyM6Pga7WgV6"
      },
      "execution_count": null,
      "outputs": []
    },
    {
      "cell_type": "code",
      "source": [
        "v1+v2 #concatenar"
      ],
      "metadata": {
        "colab": {
          "base_uri": "https://localhost:8080/"
        },
        "id": "K0a1ecb5Wln0",
        "outputId": "4e817e77-82d2-4f84-fa14-c034193cdcf4"
      },
      "execution_count": null,
      "outputs": [
        {
          "output_type": "execute_result",
          "data": {
            "text/plain": [
              "[1, 2, 3, 4, 5, 10, 20, 30, 40, 50]"
            ]
          },
          "metadata": {},
          "execution_count": 6
        }
      ]
    },
    {
      "cell_type": "code",
      "source": [
        "v1[4]+v2[4]"
      ],
      "metadata": {
        "colab": {
          "base_uri": "https://localhost:8080/"
        },
        "id": "NmNZFe2rWp9F",
        "outputId": "97a80997-8962-4538-94ac-0892f4ec17e0"
      },
      "execution_count": null,
      "outputs": [
        {
          "output_type": "execute_result",
          "data": {
            "text/plain": [
              "55"
            ]
          },
          "metadata": {},
          "execution_count": 8
        }
      ]
    },
    {
      "cell_type": "code",
      "source": [
        "#para obtener un elemento o indice de la lista\n",
        "print(v1[0]) #indexar"
      ],
      "metadata": {
        "colab": {
          "base_uri": "https://localhost:8080/"
        },
        "id": "4ccTiccJW79e",
        "outputId": "f796a3f5-5dfb-4d48-da4f-3627cd8f1d82"
      },
      "execution_count": null,
      "outputs": [
        {
          "output_type": "stream",
          "name": "stdout",
          "text": [
            "1\n"
          ]
        }
      ]
    },
    {
      "cell_type": "code",
      "source": [
        "print(v2)\n",
        "print(v2[2:]) #slicing\n"
      ],
      "metadata": {
        "colab": {
          "base_uri": "https://localhost:8080/"
        },
        "id": "nikmeMC-XQzN",
        "outputId": "03628d4a-3d31-4343-d7ec-a4afab68e104"
      },
      "execution_count": null,
      "outputs": [
        {
          "output_type": "stream",
          "name": "stdout",
          "text": [
            "[10, 20, 30, 40, 50]\n",
            "[30, 40, 50]\n"
          ]
        }
      ]
    },
    {
      "cell_type": "code",
      "source": [
        "v3=[[1,2,3,4], [10,20,30,40]] #lista de listas"
      ],
      "metadata": {
        "id": "lhM7duxjXhZc"
      },
      "execution_count": null,
      "outputs": []
    },
    {
      "cell_type": "code",
      "source": [
        "v3[0][1:]"
      ],
      "metadata": {
        "colab": {
          "base_uri": "https://localhost:8080/"
        },
        "id": "5V-jeq1pZlGc",
        "outputId": "aa5e90f0-ef43-46c9-9573-848a04ff9d6f"
      },
      "execution_count": null,
      "outputs": [
        {
          "output_type": "execute_result",
          "data": {
            "text/plain": [
              "[2, 3, 4]"
            ]
          },
          "metadata": {},
          "execution_count": 24
        }
      ]
    },
    {
      "cell_type": "code",
      "source": [
        "v3[1][1:]"
      ],
      "metadata": {
        "colab": {
          "base_uri": "https://localhost:8080/"
        },
        "id": "HdstMzi0agGv",
        "outputId": "09ce41ef-f12b-4904-8038-461fd15bb773"
      },
      "execution_count": null,
      "outputs": [
        {
          "output_type": "execute_result",
          "data": {
            "text/plain": [
              "[20, 30, 40]"
            ]
          },
          "metadata": {},
          "execution_count": 25
        }
      ]
    },
    {
      "cell_type": "code",
      "source": [
        "len(v1) #la función len me ayuda a saber cuantos elementos tiene la lista"
      ],
      "metadata": {
        "colab": {
          "base_uri": "https://localhost:8080/"
        },
        "id": "vAqnnPafa9Sg",
        "outputId": "de82b883-c8de-43b8-da57-c0049ed1a563"
      },
      "execution_count": null,
      "outputs": [
        {
          "output_type": "execute_result",
          "data": {
            "text/plain": [
              "5"
            ]
          },
          "metadata": {},
          "execution_count": 27
        }
      ]
    },
    {
      "cell_type": "code",
      "source": [
        "s1='hola'\n",
        "s2=' a todos'\n",
        "print(s1+s2)  #concatenación"
      ],
      "metadata": {
        "colab": {
          "base_uri": "https://localhost:8080/"
        },
        "id": "v-QoI-x5bcR6",
        "outputId": "7d1fb250-71fa-40a9-a424-b672e3cc85c7"
      },
      "execution_count": null,
      "outputs": [
        {
          "output_type": "stream",
          "name": "stdout",
          "text": [
            "hola a todos\n"
          ]
        }
      ]
    },
    {
      "cell_type": "code",
      "source": [
        "s2[3:]"
      ],
      "metadata": {
        "colab": {
          "base_uri": "https://localhost:8080/",
          "height": 35
        },
        "id": "SQHA8g54brp1",
        "outputId": "cfa24d4c-3a4f-44fd-bea3-b1e3326972b8"
      },
      "execution_count": null,
      "outputs": [
        {
          "output_type": "execute_result",
          "data": {
            "text/plain": [
              "'todos'"
            ],
            "application/vnd.google.colaboratory.intrinsic+json": {
              "type": "string"
            }
          },
          "metadata": {},
          "execution_count": 31
        }
      ]
    },
    {
      "cell_type": "code",
      "source": [
        "s1*3"
      ],
      "metadata": {
        "colab": {
          "base_uri": "https://localhost:8080/",
          "height": 35
        },
        "id": "qW-AUzyRbzVX",
        "outputId": "4a6890fd-59fe-4c2a-b318-d1b922f1b372"
      },
      "execution_count": null,
      "outputs": [
        {
          "output_type": "execute_result",
          "data": {
            "text/plain": [
              "'holaholahola'"
            ],
            "application/vnd.google.colaboratory.intrinsic+json": {
              "type": "string"
            }
          },
          "metadata": {},
          "execution_count": 32
        }
      ]
    },
    {
      "cell_type": "code",
      "source": [
        "v1*2"
      ],
      "metadata": {
        "colab": {
          "base_uri": "https://localhost:8080/"
        },
        "id": "szALG13tb9mQ",
        "outputId": "369680a2-ca4d-41d2-bae9-c21a81955c83"
      },
      "execution_count": null,
      "outputs": [
        {
          "output_type": "execute_result",
          "data": {
            "text/plain": [
              "[1, 2, 3, 4, 5, 1, 2, 3, 4, 5]"
            ]
          },
          "metadata": {},
          "execution_count": 33
        }
      ]
    },
    {
      "cell_type": "code",
      "source": [
        "10%3 #Residuo"
      ],
      "metadata": {
        "colab": {
          "base_uri": "https://localhost:8080/"
        },
        "id": "UEyyAvv9cBva",
        "outputId": "d1b267be-3045-4108-c374-ac07b084dd02"
      },
      "execution_count": null,
      "outputs": [
        {
          "output_type": "execute_result",
          "data": {
            "text/plain": [
              "1"
            ]
          },
          "metadata": {},
          "execution_count": 36
        }
      ]
    },
    {
      "cell_type": "code",
      "source": [
        "3**2 #elevar al cuadrado"
      ],
      "metadata": {
        "colab": {
          "base_uri": "https://localhost:8080/"
        },
        "id": "GzAjXejoc2Oq",
        "outputId": "1897384e-b741-4352-977c-0a04003ddcb5"
      },
      "execution_count": null,
      "outputs": [
        {
          "output_type": "execute_result",
          "data": {
            "text/plain": [
              "9"
            ]
          },
          "metadata": {},
          "execution_count": 37
        }
      ]
    },
    {
      "cell_type": "code",
      "source": [
        "True or False"
      ],
      "metadata": {
        "colab": {
          "base_uri": "https://localhost:8080/"
        },
        "id": "5M9dIY6UdF2R",
        "outputId": "f9a6887d-0626-4971-ad57-eff26055ce9b"
      },
      "execution_count": null,
      "outputs": [
        {
          "output_type": "execute_result",
          "data": {
            "text/plain": [
              "True"
            ]
          },
          "metadata": {},
          "execution_count": 40
        }
      ]
    },
    {
      "cell_type": "code",
      "source": [
        "True and False"
      ],
      "metadata": {
        "colab": {
          "base_uri": "https://localhost:8080/"
        },
        "id": "ikb7h97eddJu",
        "outputId": "0abfa5d3-1397-4f6a-a54c-15b2941c1600"
      },
      "execution_count": null,
      "outputs": [
        {
          "output_type": "execute_result",
          "data": {
            "text/plain": [
              "False"
            ]
          },
          "metadata": {},
          "execution_count": 41
        }
      ]
    },
    {
      "cell_type": "code",
      "source": [
        "1<5 #menor que"
      ],
      "metadata": {
        "colab": {
          "base_uri": "https://localhost:8080/"
        },
        "id": "-tTGATx-do5O",
        "outputId": "118fd8a7-cab6-46ca-b073-c0f95247b661"
      },
      "execution_count": null,
      "outputs": [
        {
          "output_type": "execute_result",
          "data": {
            "text/plain": [
              "True"
            ]
          },
          "metadata": {},
          "execution_count": 42
        }
      ]
    },
    {
      "cell_type": "code",
      "source": [
        "1>=5 #mayor o igual que"
      ],
      "metadata": {
        "colab": {
          "base_uri": "https://localhost:8080/"
        },
        "id": "k_de3gKGdrYN",
        "outputId": "409d7f6b-b6d3-4749-c84c-6fb963b59864"
      },
      "execution_count": null,
      "outputs": [
        {
          "output_type": "execute_result",
          "data": {
            "text/plain": [
              "False"
            ]
          },
          "metadata": {},
          "execution_count": 43
        }
      ]
    },
    {
      "cell_type": "code",
      "source": [
        "False + 1"
      ],
      "metadata": {
        "colab": {
          "base_uri": "https://localhost:8080/"
        },
        "id": "NxgQPGY0dtuQ",
        "outputId": "2bd2e86f-18c5-486c-d98d-ba94a04a6872"
      },
      "execution_count": null,
      "outputs": [
        {
          "output_type": "execute_result",
          "data": {
            "text/plain": [
              "1"
            ]
          },
          "metadata": {},
          "execution_count": 44
        }
      ]
    },
    {
      "cell_type": "code",
      "source": [
        "True +5"
      ],
      "metadata": {
        "colab": {
          "base_uri": "https://localhost:8080/"
        },
        "id": "aVRjj4i3d5P8",
        "outputId": "397b9fdb-49d0-421f-eee2-be59b4081aec"
      },
      "execution_count": null,
      "outputs": [
        {
          "output_type": "execute_result",
          "data": {
            "text/plain": [
              "6"
            ]
          },
          "metadata": {},
          "execution_count": 45
        }
      ]
    },
    {
      "cell_type": "code",
      "source": [
        "54 or 1"
      ],
      "metadata": {
        "colab": {
          "base_uri": "https://localhost:8080/"
        },
        "id": "9gomgN5Md6vw",
        "outputId": "85ca8a10-e5a7-4705-e2fb-835ea44affd7"
      },
      "execution_count": null,
      "outputs": [
        {
          "output_type": "execute_result",
          "data": {
            "text/plain": [
              "54"
            ]
          },
          "metadata": {},
          "execution_count": 46
        }
      ]
    },
    {
      "cell_type": "code",
      "source": [
        "54 and 1"
      ],
      "metadata": {
        "colab": {
          "base_uri": "https://localhost:8080/"
        },
        "id": "o5zNOmf3eCF_",
        "outputId": "1380240e-924f-45e9-c65d-f15b72b4d173"
      },
      "execution_count": null,
      "outputs": [
        {
          "output_type": "execute_result",
          "data": {
            "text/plain": [
              "1"
            ]
          },
          "metadata": {},
          "execution_count": 47
        }
      ]
    },
    {
      "cell_type": "code",
      "source": [
        "54 != 3 #distinto que"
      ],
      "metadata": {
        "colab": {
          "base_uri": "https://localhost:8080/"
        },
        "id": "CZJgsAh9eE9B",
        "outputId": "75066623-8a13-4493-a87e-6a8c50b5edd1"
      },
      "execution_count": null,
      "outputs": [
        {
          "output_type": "execute_result",
          "data": {
            "text/plain": [
              "True"
            ]
          },
          "metadata": {},
          "execution_count": 48
        }
      ]
    },
    {
      "cell_type": "code",
      "source": [
        "True==1"
      ],
      "metadata": {
        "colab": {
          "base_uri": "https://localhost:8080/"
        },
        "id": "q4PBoggieQia",
        "outputId": "638191fb-6707-4852-ec7a-23ec2daf9c04"
      },
      "execution_count": null,
      "outputs": [
        {
          "output_type": "execute_result",
          "data": {
            "text/plain": [
              "True"
            ]
          },
          "metadata": {},
          "execution_count": 49
        }
      ]
    },
    {
      "cell_type": "code",
      "source": [
        "a=2\n",
        "b=3\n",
        "a+=b"
      ],
      "metadata": {
        "id": "6MdN27Lkea_w"
      },
      "execution_count": null,
      "outputs": []
    },
    {
      "cell_type": "code",
      "source": [
        "z=2\n",
        "z+=2 #z=z+2\n",
        "print(z)\n",
        "z-=2\n",
        "print(z)\n",
        "z*=2\n",
        "print(z)\n",
        "z/=2\n",
        "print(z)\n",
        "z**=2\n",
        "print(z)"
      ],
      "metadata": {
        "colab": {
          "base_uri": "https://localhost:8080/"
        },
        "id": "OcRPKgHme51l",
        "outputId": "5fd5e8c3-5f4d-4bd7-f62a-f35b978f36c9"
      },
      "execution_count": null,
      "outputs": [
        {
          "output_type": "stream",
          "name": "stdout",
          "text": [
            "4\n",
            "2\n",
            "4\n",
            "2.0\n",
            "4.0\n"
          ]
        }
      ]
    },
    {
      "cell_type": "markdown",
      "source": [
        "## Funciones predeterminadas de **Python**"
      ],
      "metadata": {
        "id": "uZsr5ULwf6D6"
      }
    },
    {
      "cell_type": "code",
      "source": [
        "abs(-4)"
      ],
      "metadata": {
        "colab": {
          "base_uri": "https://localhost:8080/"
        },
        "id": "OW8BS5OlfKGW",
        "outputId": "49be4f40-a4e6-4e83-c21c-297aacf71b6f"
      },
      "execution_count": null,
      "outputs": [
        {
          "output_type": "execute_result",
          "data": {
            "text/plain": [
              "4"
            ]
          },
          "metadata": {},
          "execution_count": 60
        }
      ]
    },
    {
      "cell_type": "code",
      "source": [
        "print('Puedo imprimir', 'variables multiples', 3 )"
      ],
      "metadata": {
        "colab": {
          "base_uri": "https://localhost:8080/"
        },
        "id": "in3OkgZngTgD",
        "outputId": "d0ec00ee-8da4-451e-dc2f-954a6fdcb6af"
      },
      "execution_count": null,
      "outputs": [
        {
          "output_type": "stream",
          "name": "stdout",
          "text": [
            "Puedo imprimir variables multiples 3\n"
          ]
        }
      ]
    },
    {
      "cell_type": "code",
      "source": [
        "a=3\n",
        "b=float(a) #float\n",
        "print(type(b))\n",
        "\n",
        "c=float('3')\n",
        "print(c)\n",
        "\n",
        "d=int(z) #funcion que convierte a enteros\n",
        "print(d)\n",
        "\n",
        "f=str(3) #funcion que convierte a cadena de caracteres\n",
        "print(f)"
      ],
      "metadata": {
        "colab": {
          "base_uri": "https://localhost:8080/"
        },
        "id": "1vto5J4fgbsS",
        "outputId": "1ece103f-b874-47d4-a24c-0782d384d2a1"
      },
      "execution_count": null,
      "outputs": [
        {
          "output_type": "stream",
          "name": "stdout",
          "text": [
            "<class 'float'>\n",
            "3.0\n",
            "4\n",
            "3\n"
          ]
        }
      ]
    },
    {
      "cell_type": "code",
      "source": [
        "# primer programa, cálculo del volumen de una esfera\n",
        "#from math import pi,sin,tan,sqrt\n",
        "from math import * #* todo\n",
        "r=float(input('Que radio quieres? '))\n",
        "print(type(r))\n",
        "vol=(4/3)*(pi)*r**3\n",
        "print(vol)"
      ],
      "metadata": {
        "colab": {
          "base_uri": "https://localhost:8080/"
        },
        "id": "M7N88SYugkuS",
        "outputId": "eec839fb-437c-47e7-f3f8-26e07591f58e"
      },
      "execution_count": null,
      "outputs": [
        {
          "output_type": "stream",
          "name": "stdout",
          "text": [
            "Que radio quieres? 3\n",
            "<class 'float'>\n",
            "113.09733552923254\n"
          ]
        }
      ]
    },
    {
      "cell_type": "code",
      "source": [
        "input?"
      ],
      "metadata": {
        "id": "iBGlBlb4hdMD"
      },
      "execution_count": null,
      "outputs": []
    },
    {
      "cell_type": "markdown",
      "source": [
        "### Ejercicio:\n",
        "\n",
        "Diseña un programa que pida el valor de los tres lados de un triángulo y calcule el valor de su área y perímetro. Puedes usar la fórmula de Herón de Alejandría."
      ],
      "metadata": {
        "id": "eAEtzqgWk_Qq"
      }
    },
    {
      "cell_type": "markdown",
      "source": [
        "# Estructuras de Control\n",
        "\n",
        "Nos permiten organizar el código que haremos"
      ],
      "metadata": {
        "id": "sb_60fWdosjn"
      }
    },
    {
      "cell_type": "markdown",
      "source": [
        "## If-else"
      ],
      "metadata": {
        "id": "EHi4-sa6qdjc"
      }
    },
    {
      "cell_type": "code",
      "source": [
        "a=input('Mascotas: ')\n",
        "if a=='perro':\n",
        "  print('woaf')\n",
        "elif a=='gato':\n",
        "  print('miau')\n",
        "elif a=='conejo':\n",
        "  print('mmmm')\n",
        "elif a=='vaca':\n",
        "  print('mu')\n",
        "else:\n",
        "  print('da un animal valido')"
      ],
      "metadata": {
        "colab": {
          "base_uri": "https://localhost:8080/"
        },
        "id": "yj8v6EO0o0sE",
        "outputId": "bdd93a1f-5e53-4537-b9ce-996ba16c560d"
      },
      "execution_count": null,
      "outputs": [
        {
          "output_type": "stream",
          "name": "stdout",
          "text": [
            "Mascotas: pez\n",
            "da un animal valido\n"
          ]
        }
      ]
    },
    {
      "cell_type": "code",
      "source": [
        "# ax+b=0\n",
        "\n",
        "a=float(input('Da tu coeficiente a: '))\n",
        "b=float(input('Da tu coeficiente b: '))\n",
        "if a==0:\n",
        "  print('No es una ecuación lineal')\n",
        "else:\n",
        "  print(-b/a)"
      ],
      "metadata": {
        "colab": {
          "base_uri": "https://localhost:8080/"
        },
        "id": "-jCnYtYNq0lv",
        "outputId": "9546cfe5-8c2c-4302-c8b7-12327fc93c2e"
      },
      "execution_count": null,
      "outputs": [
        {
          "output_type": "stream",
          "name": "stdout",
          "text": [
            "Da tu coeficiente a: 4\n",
            "Da tu coeficiente b: 0\n",
            "-0.0\n"
          ]
        }
      ]
    },
    {
      "cell_type": "code",
      "source": [
        "# resolver la ecuación cuadrática ax**2+bx+c=0\n",
        "from math import sqrt\n",
        "a=float(input('Da tu coeficiente a: '))\n",
        "b=float(input('Da tu coeficiente b: '))\n",
        "c=float(input('Da tu coeficiente c: '))\n",
        "\n",
        "if a==0:\n",
        "  print ('No es una cuadrática')\n",
        "elif b!=0:\n",
        "  print('Es una ecuación lineal')\n",
        "elif a!=0:\n",
        "  print('Hagan la solucion con la chicharronera')"
      ],
      "metadata": {
        "colab": {
          "base_uri": "https://localhost:8080/"
        },
        "id": "QRIyKNxstECT",
        "outputId": "2431b3e8-5f0a-4a2d-f0d7-ea88e33959be"
      },
      "execution_count": null,
      "outputs": [
        {
          "output_type": "stream",
          "name": "stdout",
          "text": [
            "Da tu coeficiente a: 9\n",
            "Da tu coeficiente b: 2\n",
            "Da tu coeficiente c: 0\n",
            "Es una ecuación lineal\n"
          ]
        }
      ]
    },
    {
      "cell_type": "markdown",
      "source": [
        "## Mientras  *while*\n",
        "\n",
        "La segunda estructura de control que usaremos es la estructura ciclíca, que hace iterativamente una operación."
      ],
      "metadata": {
        "id": "Tho5XZX2vFGp"
      }
    },
    {
      "cell_type": "code",
      "source": [
        "i=0\n",
        "while i<10:\n",
        "  i+=1\n",
        "  print(i)\n",
        "\n"
      ],
      "metadata": {
        "colab": {
          "base_uri": "https://localhost:8080/"
        },
        "id": "8KBPnX-BubKp",
        "outputId": "53beb502-a9e9-439f-c903-24ca7c5f6de8"
      },
      "execution_count": null,
      "outputs": [
        {
          "output_type": "stream",
          "name": "stdout",
          "text": [
            "1\n",
            "2\n",
            "3\n",
            "4\n",
            "5\n",
            "6\n",
            "7\n",
            "8\n",
            "9\n",
            "10\n"
          ]
        }
      ]
    },
    {
      "cell_type": "code",
      "source": [
        "i=0\n",
        "s=0\n",
        "while i<10:\n",
        "  i+=1\n",
        "  s+=i\n",
        "  print(i,s)\n"
      ],
      "metadata": {
        "colab": {
          "base_uri": "https://localhost:8080/"
        },
        "id": "SpQRb1cYvfkv",
        "outputId": "c80f14f2-c75e-4372-c26f-d47f1c0be114"
      },
      "execution_count": null,
      "outputs": [
        {
          "output_type": "stream",
          "name": "stdout",
          "text": [
            "1 1\n",
            "2 3\n",
            "3 6\n",
            "4 10\n",
            "5 15\n",
            "6 21\n",
            "7 28\n",
            "8 36\n",
            "9 45\n",
            "10 55\n"
          ]
        }
      ]
    },
    {
      "cell_type": "markdown",
      "source": [
        "$$\\sum_{i=0}^{10} i^2$$"
      ],
      "metadata": {
        "id": "LflxwuKUwcim"
      }
    },
    {
      "cell_type": "code",
      "source": [
        "i=0\n",
        "s=0\n",
        "while i<10:\n",
        "  i+=1\n",
        "  s+=i**2\n",
        "  print(i,s)"
      ],
      "metadata": {
        "colab": {
          "base_uri": "https://localhost:8080/"
        },
        "id": "i8pcpDj8wWFY",
        "outputId": "7cbeede7-65ec-47ef-fc90-ad2695bcefc9"
      },
      "execution_count": null,
      "outputs": [
        {
          "output_type": "stream",
          "name": "stdout",
          "text": [
            "1 1\n",
            "2 5\n",
            "3 14\n",
            "4 30\n",
            "5 55\n",
            "6 91\n",
            "7 140\n",
            "8 204\n",
            "9 285\n",
            "10 385\n"
          ]
        }
      ]
    },
    {
      "cell_type": "markdown",
      "source": [
        "$$\\sum_{i=1}^{N} \\frac{1}{2^i}$$"
      ],
      "metadata": {
        "id": "lvjcZe9GxDrE"
      }
    },
    {
      "cell_type": "code",
      "source": [
        "i=0\n",
        "s=0\n",
        "while i<1000:\n",
        "  i+=1\n",
        "  s+=1/(2**i)\n",
        "print(i,s)"
      ],
      "metadata": {
        "colab": {
          "base_uri": "https://localhost:8080/"
        },
        "id": "Hk7JRf77wy-m",
        "outputId": "f6633d64-55d3-4bac-b447-33298a578906"
      },
      "execution_count": null,
      "outputs": [
        {
          "output_type": "stream",
          "name": "stdout",
          "text": [
            "1000 1.0\n"
          ]
        }
      ]
    },
    {
      "cell_type": "code",
      "source": [
        "while 1:\n",
        "  a=input('mascota o escribe salida: ')\n",
        "  if a=='perro':\n",
        "    print('woaf')\n",
        "  elif a=='gato':\n",
        "    print('miau')\n",
        "  elif a=='conejo':\n",
        "    print('mmmm')\n",
        "  elif a=='vaca':\n",
        "    print('mu')\n",
        "  elif a=='salida':\n",
        "    print('Adios')\n",
        "    break\n",
        "  else:\n",
        "    print('da un animal valido')"
      ],
      "metadata": {
        "colab": {
          "base_uri": "https://localhost:8080/"
        },
        "id": "BWfg9_7uxlUk",
        "outputId": "7ac8204a-ea9d-4a3b-d6a4-fb9051e0c4de"
      },
      "execution_count": null,
      "outputs": [
        {
          "output_type": "stream",
          "name": "stdout",
          "text": [
            "mascota o escribe salida: perro\n",
            "woaf\n",
            "mascota o escribe salida: gato\n",
            "miau\n",
            "mascota o escribe salida: conejo\n",
            "mmmm\n",
            "mascota o escribe salida: salida\n",
            "Adios\n"
          ]
        }
      ]
    },
    {
      "cell_type": "code",
      "source": [],
      "metadata": {
        "id": "DWjZDp81yy46"
      },
      "execution_count": null,
      "outputs": []
    }
  ]
}