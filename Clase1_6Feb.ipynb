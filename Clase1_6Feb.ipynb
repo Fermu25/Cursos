{
  "nbformat": 4,
  "nbformat_minor": 0,
  "metadata": {
    "colab": {
      "provenance": [],
      "include_colab_link": true
    },
    "kernelspec": {
      "name": "python3",
      "display_name": "Python 3"
    },
    "language_info": {
      "name": "python"
    }
  },
  "cells": [
    {
      "cell_type": "markdown",
      "metadata": {
        "id": "view-in-github",
        "colab_type": "text"
      },
      "source": [
        "<a href=\"https://colab.research.google.com/github/Fermu25/Cursos/blob/main/Clase1_6Feb.ipynb\" target=\"_parent\"><img src=\"https://colab.research.google.com/assets/colab-badge.svg\" alt=\"Open In Colab\"/></a>"
      ]
    },
    {
      "cell_type": "markdown",
      "source": [
        "# Introducción a Python\n",
        "\n",
        "Esta celda es tipo Markdown y puedes escribir en latex y en html para que quede bonito el Notebook.\n",
        "\n",
        "Ejemplo de Latex:\n",
        "\n",
        "$$\n",
        "Ax_n+cV=0\n",
        "$$"
      ],
      "metadata": {
        "id": "NPmIO29HUa0B"
      }
    },
    {
      "cell_type": "code",
      "execution_count": null,
      "metadata": {
        "id": "Oggdq1jTSTEL"
      },
      "outputs": [],
      "source": [
        "a=3 #entera 32bits"
      ]
    },
    {
      "cell_type": "code",
      "source": [
        "b=4.0 #float 64 bits"
      ],
      "metadata": {
        "id": "ZszYszz4VZ3K"
      },
      "execution_count": null,
      "outputs": []
    },
    {
      "cell_type": "code",
      "source": [
        "c='cadena de caracteres' #string 128"
      ],
      "metadata": {
        "id": "BnAHq4oEVeae"
      },
      "execution_count": null,
      "outputs": []
    },
    {
      "cell_type": "code",
      "source": [
        "v1=[1,2,3,4,5] #lista o vector 128bits asignados en la memoria"
      ],
      "metadata": {
        "id": "wKl4J9GNVjfZ"
      },
      "execution_count": null,
      "outputs": []
    },
    {
      "cell_type": "code",
      "source": [
        "v2=[10,20,30,40,50]"
      ],
      "metadata": {
        "id": "FyM6Pga7WgV6"
      },
      "execution_count": null,
      "outputs": []
    },
    {
      "cell_type": "code",
      "source": [
        "v1+v2 #concatenar"
      ],
      "metadata": {
        "colab": {
          "base_uri": "https://localhost:8080/"
        },
        "id": "K0a1ecb5Wln0",
        "outputId": "4e817e77-82d2-4f84-fa14-c034193cdcf4"
      },
      "execution_count": null,
      "outputs": [
        {
          "output_type": "execute_result",
          "data": {
            "text/plain": [
              "[1, 2, 3, 4, 5, 10, 20, 30, 40, 50]"
            ]
          },
          "metadata": {},
          "execution_count": 6
        }
      ]
    },
    {
      "cell_type": "code",
      "source": [
        "v1[4]+v2[4]"
      ],
      "metadata": {
        "colab": {
          "base_uri": "https://localhost:8080/"
        },
        "id": "NmNZFe2rWp9F",
        "outputId": "97a80997-8962-4538-94ac-0892f4ec17e0"
      },
      "execution_count": null,
      "outputs": [
        {
          "output_type": "execute_result",
          "data": {
            "text/plain": [
              "55"
            ]
          },
          "metadata": {},
          "execution_count": 8
        }
      ]
    },
    {
      "cell_type": "code",
      "source": [
        "#para obtener un elemento o indice de la lista\n",
        "print(v1[0]) #indexar"
      ],
      "metadata": {
        "colab": {
          "base_uri": "https://localhost:8080/"
        },
        "id": "4ccTiccJW79e",
        "outputId": "f796a3f5-5dfb-4d48-da4f-3627cd8f1d82"
      },
      "execution_count": null,
      "outputs": [
        {
          "output_type": "stream",
          "name": "stdout",
          "text": [
            "1\n"
          ]
        }
      ]
    },
    {
      "cell_type": "code",
      "source": [
        "print(v2)\n",
        "print(v2[2:]) #slicing\n"
      ],
      "metadata": {
        "colab": {
          "base_uri": "https://localhost:8080/"
        },
        "id": "nikmeMC-XQzN",
        "outputId": "03628d4a-3d31-4343-d7ec-a4afab68e104"
      },
      "execution_count": null,
      "outputs": [
        {
          "output_type": "stream",
          "name": "stdout",
          "text": [
            "[10, 20, 30, 40, 50]\n",
            "[30, 40, 50]\n"
          ]
        }
      ]
    },
    {
      "cell_type": "code",
      "source": [
        "v3=[[1,2,3,4], [10,20,30,40]] #lista de listas"
      ],
      "metadata": {
        "id": "lhM7duxjXhZc"
      },
      "execution_count": null,
      "outputs": []
    },
    {
      "cell_type": "code",
      "source": [
        "v3[0][1:]"
      ],
      "metadata": {
        "colab": {
          "base_uri": "https://localhost:8080/"
        },
        "id": "5V-jeq1pZlGc",
        "outputId": "aa5e90f0-ef43-46c9-9573-848a04ff9d6f"
      },
      "execution_count": null,
      "outputs": [
        {
          "output_type": "execute_result",
          "data": {
            "text/plain": [
              "[2, 3, 4]"
            ]
          },
          "metadata": {},
          "execution_count": 24
        }
      ]
    },
    {
      "cell_type": "code",
      "source": [
        "v3[1][1:]"
      ],
      "metadata": {
        "colab": {
          "base_uri": "https://localhost:8080/"
        },
        "id": "HdstMzi0agGv",
        "outputId": "09ce41ef-f12b-4904-8038-461fd15bb773"
      },
      "execution_count": null,
      "outputs": [
        {
          "output_type": "execute_result",
          "data": {
            "text/plain": [
              "[20, 30, 40]"
            ]
          },
          "metadata": {},
          "execution_count": 25
        }
      ]
    },
    {
      "cell_type": "code",
      "source": [
        "len(v1) #la función len me ayuda a saber cuantos elementos tiene la lista"
      ],
      "metadata": {
        "colab": {
          "base_uri": "https://localhost:8080/"
        },
        "id": "vAqnnPafa9Sg",
        "outputId": "de82b883-c8de-43b8-da57-c0049ed1a563"
      },
      "execution_count": null,
      "outputs": [
        {
          "output_type": "execute_result",
          "data": {
            "text/plain": [
              "5"
            ]
          },
          "metadata": {},
          "execution_count": 27
        }
      ]
    },
    {
      "cell_type": "code",
      "source": [
        "s1='hola'\n",
        "s2=' a todos'\n",
        "print(s1+s2)  #concatenación"
      ],
      "metadata": {
        "colab": {
          "base_uri": "https://localhost:8080/"
        },
        "id": "v-QoI-x5bcR6",
        "outputId": "7d1fb250-71fa-40a9-a424-b672e3cc85c7"
      },
      "execution_count": null,
      "outputs": [
        {
          "output_type": "stream",
          "name": "stdout",
          "text": [
            "hola a todos\n"
          ]
        }
      ]
    },
    {
      "cell_type": "code",
      "source": [
        "s2[3:]"
      ],
      "metadata": {
        "colab": {
          "base_uri": "https://localhost:8080/",
          "height": 35
        },
        "id": "SQHA8g54brp1",
        "outputId": "cfa24d4c-3a4f-44fd-bea3-b1e3326972b8"
      },
      "execution_count": null,
      "outputs": [
        {
          "output_type": "execute_result",
          "data": {
            "text/plain": [
              "'todos'"
            ],
            "application/vnd.google.colaboratory.intrinsic+json": {
              "type": "string"
            }
          },
          "metadata": {},
          "execution_count": 31
        }
      ]
    },
    {
      "cell_type": "code",
      "source": [
        "s1*3"
      ],
      "metadata": {
        "colab": {
          "base_uri": "https://localhost:8080/",
          "height": 35
        },
        "id": "qW-AUzyRbzVX",
        "outputId": "4a6890fd-59fe-4c2a-b318-d1b922f1b372"
      },
      "execution_count": null,
      "outputs": [
        {
          "output_type": "execute_result",
          "data": {
            "text/plain": [
              "'holaholahola'"
            ],
            "application/vnd.google.colaboratory.intrinsic+json": {
              "type": "string"
            }
          },
          "metadata": {},
          "execution_count": 32
        }
      ]
    },
    {
      "cell_type": "code",
      "source": [
        "v1*2"
      ],
      "metadata": {
        "colab": {
          "base_uri": "https://localhost:8080/"
        },
        "id": "szALG13tb9mQ",
        "outputId": "369680a2-ca4d-41d2-bae9-c21a81955c83"
      },
      "execution_count": null,
      "outputs": [
        {
          "output_type": "execute_result",
          "data": {
            "text/plain": [
              "[1, 2, 3, 4, 5, 1, 2, 3, 4, 5]"
            ]
          },
          "metadata": {},
          "execution_count": 33
        }
      ]
    },
    {
      "cell_type": "code",
      "source": [
        "10%3 #Residuo"
      ],
      "metadata": {
        "colab": {
          "base_uri": "https://localhost:8080/"
        },
        "id": "UEyyAvv9cBva",
        "outputId": "d1b267be-3045-4108-c374-ac07b084dd02"
      },
      "execution_count": null,
      "outputs": [
        {
          "output_type": "execute_result",
          "data": {
            "text/plain": [
              "1"
            ]
          },
          "metadata": {},
          "execution_count": 36
        }
      ]
    },
    {
      "cell_type": "code",
      "source": [
        "3**2 #elevar al cuadrado"
      ],
      "metadata": {
        "colab": {
          "base_uri": "https://localhost:8080/"
        },
        "id": "GzAjXejoc2Oq",
        "outputId": "1897384e-b741-4352-977c-0a04003ddcb5"
      },
      "execution_count": null,
      "outputs": [
        {
          "output_type": "execute_result",
          "data": {
            "text/plain": [
              "9"
            ]
          },
          "metadata": {},
          "execution_count": 37
        }
      ]
    },
    {
      "cell_type": "code",
      "source": [
        "True or False"
      ],
      "metadata": {
        "colab": {
          "base_uri": "https://localhost:8080/"
        },
        "id": "5M9dIY6UdF2R",
        "outputId": "f9a6887d-0626-4971-ad57-eff26055ce9b"
      },
      "execution_count": null,
      "outputs": [
        {
          "output_type": "execute_result",
          "data": {
            "text/plain": [
              "True"
            ]
          },
          "metadata": {},
          "execution_count": 40
        }
      ]
    },
    {
      "cell_type": "code",
      "source": [
        "True and False"
      ],
      "metadata": {
        "colab": {
          "base_uri": "https://localhost:8080/"
        },
        "id": "ikb7h97eddJu",
        "outputId": "0abfa5d3-1397-4f6a-a54c-15b2941c1600"
      },
      "execution_count": null,
      "outputs": [
        {
          "output_type": "execute_result",
          "data": {
            "text/plain": [
              "False"
            ]
          },
          "metadata": {},
          "execution_count": 41
        }
      ]
    },
    {
      "cell_type": "code",
      "source": [
        "1<5 #menor que"
      ],
      "metadata": {
        "colab": {
          "base_uri": "https://localhost:8080/"
        },
        "id": "-tTGATx-do5O",
        "outputId": "118fd8a7-cab6-46ca-b073-c0f95247b661"
      },
      "execution_count": null,
      "outputs": [
        {
          "output_type": "execute_result",
          "data": {
            "text/plain": [
              "True"
            ]
          },
          "metadata": {},
          "execution_count": 42
        }
      ]
    },
    {
      "cell_type": "code",
      "source": [
        "1>=5 #mayor o igual que"
      ],
      "metadata": {
        "colab": {
          "base_uri": "https://localhost:8080/"
        },
        "id": "k_de3gKGdrYN",
        "outputId": "409d7f6b-b6d3-4749-c84c-6fb963b59864"
      },
      "execution_count": null,
      "outputs": [
        {
          "output_type": "execute_result",
          "data": {
            "text/plain": [
              "False"
            ]
          },
          "metadata": {},
          "execution_count": 43
        }
      ]
    },
    {
      "cell_type": "code",
      "source": [
        "False + 1"
      ],
      "metadata": {
        "colab": {
          "base_uri": "https://localhost:8080/"
        },
        "id": "NxgQPGY0dtuQ",
        "outputId": "2bd2e86f-18c5-486c-d98d-ba94a04a6872"
      },
      "execution_count": null,
      "outputs": [
        {
          "output_type": "execute_result",
          "data": {
            "text/plain": [
              "1"
            ]
          },
          "metadata": {},
          "execution_count": 44
        }
      ]
    },
    {
      "cell_type": "code",
      "source": [
        "True +5"
      ],
      "metadata": {
        "colab": {
          "base_uri": "https://localhost:8080/"
        },
        "id": "aVRjj4i3d5P8",
        "outputId": "397b9fdb-49d0-421f-eee2-be59b4081aec"
      },
      "execution_count": null,
      "outputs": [
        {
          "output_type": "execute_result",
          "data": {
            "text/plain": [
              "6"
            ]
          },
          "metadata": {},
          "execution_count": 45
        }
      ]
    },
    {
      "cell_type": "code",
      "source": [
        "54 or 1"
      ],
      "metadata": {
        "colab": {
          "base_uri": "https://localhost:8080/"
        },
        "id": "9gomgN5Md6vw",
        "outputId": "85ca8a10-e5a7-4705-e2fb-835ea44affd7"
      },
      "execution_count": null,
      "outputs": [
        {
          "output_type": "execute_result",
          "data": {
            "text/plain": [
              "54"
            ]
          },
          "metadata": {},
          "execution_count": 46
        }
      ]
    },
    {
      "cell_type": "code",
      "source": [
        "54 and 1"
      ],
      "metadata": {
        "colab": {
          "base_uri": "https://localhost:8080/"
        },
        "id": "o5zNOmf3eCF_",
        "outputId": "1380240e-924f-45e9-c65d-f15b72b4d173"
      },
      "execution_count": null,
      "outputs": [
        {
          "output_type": "execute_result",
          "data": {
            "text/plain": [
              "1"
            ]
          },
          "metadata": {},
          "execution_count": 47
        }
      ]
    },
    {
      "cell_type": "code",
      "source": [
        "54 != 3 #distinto que"
      ],
      "metadata": {
        "colab": {
          "base_uri": "https://localhost:8080/"
        },
        "id": "CZJgsAh9eE9B",
        "outputId": "75066623-8a13-4493-a87e-6a8c50b5edd1"
      },
      "execution_count": null,
      "outputs": [
        {
          "output_type": "execute_result",
          "data": {
            "text/plain": [
              "True"
            ]
          },
          "metadata": {},
          "execution_count": 48
        }
      ]
    },
    {
      "cell_type": "code",
      "source": [
        "True==1"
      ],
      "metadata": {
        "colab": {
          "base_uri": "https://localhost:8080/"
        },
        "id": "q4PBoggieQia",
        "outputId": "638191fb-6707-4852-ec7a-23ec2daf9c04"
      },
      "execution_count": null,
      "outputs": [
        {
          "output_type": "execute_result",
          "data": {
            "text/plain": [
              "True"
            ]
          },
          "metadata": {},
          "execution_count": 49
        }
      ]
    },
    {
      "cell_type": "code",
      "source": [
        "a=2\n",
        "b=3\n",
        "a+=b"
      ],
      "metadata": {
        "id": "6MdN27Lkea_w"
      },
      "execution_count": null,
      "outputs": []
    },
    {
      "cell_type": "code",
      "source": [
        "z=2\n",
        "z+=2 #z=z+2\n",
        "print(z)\n",
        "z-=2\n",
        "print(z)\n",
        "z*=2\n",
        "print(z)\n",
        "z/=2\n",
        "print(z)\n",
        "z**=2\n",
        "print(z)"
      ],
      "metadata": {
        "colab": {
          "base_uri": "https://localhost:8080/"
        },
        "id": "OcRPKgHme51l",
        "outputId": "898c8ba8-3579-4f40-8fa9-93f355c7dada"
      },
      "execution_count": null,
      "outputs": [
        {
          "output_type": "stream",
          "name": "stdout",
          "text": [
            "4\n",
            "2\n",
            "4\n",
            "2.0\n",
            "4.0\n"
          ]
        }
      ]
    },
    {
      "cell_type": "markdown",
      "source": [
        "## Funciones predeterminadas de **Python**"
      ],
      "metadata": {
        "id": "uZsr5ULwf6D6"
      }
    },
    {
      "cell_type": "code",
      "source": [
        "abs(-4)"
      ],
      "metadata": {
        "colab": {
          "base_uri": "https://localhost:8080/"
        },
        "id": "OW8BS5OlfKGW",
        "outputId": "49be4f40-a4e6-4e83-c21c-297aacf71b6f"
      },
      "execution_count": null,
      "outputs": [
        {
          "output_type": "execute_result",
          "data": {
            "text/plain": [
              "4"
            ]
          },
          "metadata": {},
          "execution_count": 60
        }
      ]
    },
    {
      "cell_type": "code",
      "source": [
        "print('Puedo imprimir', 'variables multiples', 3 )"
      ],
      "metadata": {
        "colab": {
          "base_uri": "https://localhost:8080/"
        },
        "id": "in3OkgZngTgD",
        "outputId": "d0ec00ee-8da4-451e-dc2f-954a6fdcb6af"
      },
      "execution_count": null,
      "outputs": [
        {
          "output_type": "stream",
          "name": "stdout",
          "text": [
            "Puedo imprimir variables multiples 3\n"
          ]
        }
      ]
    },
    {
      "cell_type": "code",
      "source": [
        "a=3\n",
        "b=float(a) #float\n",
        "print(type(b))\n",
        "\n",
        "c=float('3')\n",
        "print(c)\n",
        "\n",
        "d=int(z) #funcion que convierte a enteros\n",
        "print(d)\n",
        "\n",
        "f=str(3) #funcion que convierte a cadena de caracteres\n",
        "print(f)"
      ],
      "metadata": {
        "colab": {
          "base_uri": "https://localhost:8080/"
        },
        "id": "1vto5J4fgbsS",
        "outputId": "1ece103f-b874-47d4-a24c-0782d384d2a1"
      },
      "execution_count": null,
      "outputs": [
        {
          "output_type": "stream",
          "name": "stdout",
          "text": [
            "<class 'float'>\n",
            "3.0\n",
            "4\n",
            "3\n"
          ]
        }
      ]
    },
    {
      "cell_type": "code",
      "source": [
        "# primer programa, cálculo del volumen de una esfera\n",
        "#from math import pi,sin,tan,sqrt\n",
        "from math import * #* todo\n",
        "r=float(input('Que radio quieres? '))\n",
        "print(type(r))\n",
        "vol=(4/3)*(pi)*r**3\n",
        "print(vol)"
      ],
      "metadata": {
        "id": "M7N88SYugkuS"
      },
      "execution_count": null,
      "outputs": []
    },
    {
      "cell_type": "code",
      "source": [
        "input?"
      ],
      "metadata": {
        "id": "iBGlBlb4hdMD"
      },
      "execution_count": null,
      "outputs": []
    },
    {
      "cell_type": "markdown",
      "source": [
        "### Ejercicio:\n",
        "\n",
        "Diseña un programa que pida el valor de los tres lados de un triángulo y calcule el valor de su área y perímetro. Puedes usar la fórmula de Herón de Alejandría."
      ],
      "metadata": {
        "id": "eAEtzqgWk_Qq"
      }
    },
    {
      "cell_type": "markdown",
      "source": [
        "# Estructuras de Control\n",
        "\n",
        "Nos permiten organizar el código que haremos"
      ],
      "metadata": {
        "id": "sb_60fWdosjn"
      }
    },
    {
      "cell_type": "markdown",
      "source": [
        "## If-else"
      ],
      "metadata": {
        "id": "EHi4-sa6qdjc"
      }
    },
    {
      "cell_type": "markdown",
      "source": [
        "Primera estructura la estructura condicional, si se cumple esto, haces esto\n",
        "si condición:\\\\\n",
        "->sentencia\\\\\n",
        "Caso contrario\\\\\n",
        "->otra sentencia\\\\"
      ],
      "metadata": {
        "id": "gtQU3_C2nXpb"
      }
    },
    {
      "cell_type": "markdown",
      "source": [
        "true and false son las variables booleanas que vamos a usar\n",
        "and, or, not son los operadores booleanos que vamos a utilizar"
      ],
      "metadata": {
        "id": "ssl04e2rn4gz"
      }
    },
    {
      "cell_type": "code",
      "source": [
        "a=input('Mascotas: ')\n",
        "if a=='perro':\n",
        "  print('woaf')\n",
        "elif a=='gato':\n",
        "  print('miau')\n",
        "elif a=='conejo':\n",
        "  print('mmmm')\n",
        "elif a=='vaca':\n",
        "  print('mu')\n",
        "else:\n",
        "  print('da un animal valido')"
      ],
      "metadata": {
        "colab": {
          "base_uri": "https://localhost:8080/"
        },
        "id": "yj8v6EO0o0sE",
        "outputId": "bdd93a1f-5e53-4537-b9ce-996ba16c560d"
      },
      "execution_count": null,
      "outputs": [
        {
          "output_type": "stream",
          "name": "stdout",
          "text": [
            "Mascotas: pez\n",
            "da un animal valido\n"
          ]
        }
      ]
    },
    {
      "cell_type": "code",
      "source": [
        "# ax+b=0\n",
        "\n",
        "a=float(input('Da tu coeficiente a: '))\n",
        "b=float(input('Da tu coeficiente b: '))\n",
        "if a==0:\n",
        "  print('No es una ecuación lineal')\n",
        "else:\n",
        "  print(-b/a)"
      ],
      "metadata": {
        "id": "-jCnYtYNq0lv"
      },
      "execution_count": null,
      "outputs": []
    },
    {
      "cell_type": "code",
      "source": [
        "# resolver la ecuación cuadrática ax**2+bx+c=0  TAREA\n",
        "from math import sqrt\n",
        "a=float(input('Da tu coeficiente a: '))\n",
        "b=float(input('Da tu coeficiente b: '))\n",
        "c=float(input('Da tu coeficiente c: '))\n",
        "dis=float(b**2-4*a*c)\n",
        "if a==0:\n",
        "  print ('No es una cuadrática')\n",
        "elif b!=0:\n",
        "  print('Es una ecuación lineal')\n",
        "elif a!=0:\n",
        "  if dis<0:\n",
        "    print('No está en los reales')\n",
        "    elif dis>0:\n",
        "      print((float(-b+sqrt(b**2-4*a*c))/(2*a)))\n",
        "      print(float((-b-sqrt(b**2-4*a*c))/(2*a)))\n",
        "  print('Hagan la solucion con la chicharronera')"
      ],
      "metadata": {
        "id": "QRIyKNxstECT"
      },
      "execution_count": null,
      "outputs": []
    },
    {
      "cell_type": "code",
      "source": [
        "#Usar complejos en phyton\n",
        "z1=1+1j #j se usa para designar complejos 1j no 1*j\n",
        "z2=2+j\n",
        "print(z1+z2)\n",
        "print(z1/z2)\n",
        "print(z1-z2)\n",
        "print(z1*3j)\n",
        "print(complex(z1))"
      ],
      "metadata": {
        "id": "Ku2hjidXqlFX"
      },
      "execution_count": null,
      "outputs": []
    },
    {
      "cell_type": "code",
      "source": [
        "from math import *\n",
        "#programa que resuelve la ecuación a*x**\"+b*x+c=0\n",
        "a=float(input(\"Da el coeficiente a \\t\")) #\\t tabulacion, \\b espacio \\n salto linea, darle formato a la salida\n",
        "b=float(input(\"Da el coeficiente b \\t\"))\n",
        "c=float(input(\"Da el coeficiente c \\t\"))\n",
        "if a!=0:\n",
        " x1=(-b+sqrt(b**2-4*a*c))/(2*a)\n",
        " x2=(-b-sqrt(b**2-4*a*c))/(2*a)\n",
        "# print(\"x1=%4.3f y x2=%4.3f\" %(x1,x2)) #%me vas a dar una variable con 4 cifras significativas, de las cuales 3 son decimales y va a ser de tipo flotante, como es el mismo comentario no puse una \",\" por eso quedó todo junto\n",
        " print(\"x1=\",x1)\n",
        " print(\"x2=\",x2)\n",
        "elif b!=0:\n",
        "  x=-c/b\n",
        "  print('solucion de la ecuación lineal es x=%4.3f'%x)\n",
        "elif c!=0:\n",
        "    print(\"La ecuacion no tiene solucion \")\n",
        "else:\n",
        "    print(\"La ecuacuon tiene infinidad de soluciones\")"
      ],
      "metadata": {
        "id": "LDnr9_BgsG7n",
        "colab": {
          "base_uri": "https://localhost:8080/"
        },
        "outputId": "5fb52957-09e2-4310-a822-97b73c166e7c"
      },
      "execution_count": null,
      "outputs": [
        {
          "output_type": "stream",
          "name": "stdout",
          "text": [
            "Da el coeficiente a \t1\n",
            "Da el coeficiente b \t5\n",
            "Da el coeficiente c \t1\n",
            "x1= -0.20871215252208009\n",
            "x2= -4.7912878474779195\n"
          ]
        }
      ]
    },
    {
      "cell_type": "markdown",
      "source": [
        "## Mientras  *while*\n",
        "\n",
        "La segunda estructura de control que usaremos es la estructura ciclíca, que hace iterativamente una operación."
      ],
      "metadata": {
        "id": "Tho5XZX2vFGp"
      }
    },
    {
      "cell_type": "code",
      "source": [
        "i=0\n",
        "while i<10:\n",
        "  i+=1\n",
        "  print(i)\n",
        "\n"
      ],
      "metadata": {
        "colab": {
          "base_uri": "https://localhost:8080/"
        },
        "id": "8KBPnX-BubKp",
        "outputId": "53beb502-a9e9-439f-c903-24ca7c5f6de8"
      },
      "execution_count": null,
      "outputs": [
        {
          "output_type": "stream",
          "name": "stdout",
          "text": [
            "1\n",
            "2\n",
            "3\n",
            "4\n",
            "5\n",
            "6\n",
            "7\n",
            "8\n",
            "9\n",
            "10\n"
          ]
        }
      ]
    },
    {
      "cell_type": "code",
      "source": [
        "i=0\n",
        "s=0 #variable que va a guardar la variable suma\n",
        "while i<100:\n",
        "  i+=1 #Le sumo 1 a i\n",
        "  s+=i #Le sumo la i anterior\n",
        "  print(i,s)\n"
      ],
      "metadata": {
        "colab": {
          "base_uri": "https://localhost:8080/"
        },
        "id": "SpQRb1cYvfkv",
        "outputId": "7b9d311a-a633-40cf-a1d9-424618d5ffac"
      },
      "execution_count": null,
      "outputs": [
        {
          "output_type": "stream",
          "name": "stdout",
          "text": [
            "1 1\n",
            "2 3\n",
            "3 6\n",
            "4 10\n",
            "5 15\n",
            "6 21\n",
            "7 28\n",
            "8 36\n",
            "9 45\n",
            "10 55\n",
            "11 66\n",
            "12 78\n",
            "13 91\n",
            "14 105\n",
            "15 120\n",
            "16 136\n",
            "17 153\n",
            "18 171\n",
            "19 190\n",
            "20 210\n",
            "21 231\n",
            "22 253\n",
            "23 276\n",
            "24 300\n",
            "25 325\n",
            "26 351\n",
            "27 378\n",
            "28 406\n",
            "29 435\n",
            "30 465\n",
            "31 496\n",
            "32 528\n",
            "33 561\n",
            "34 595\n",
            "35 630\n",
            "36 666\n",
            "37 703\n",
            "38 741\n",
            "39 780\n",
            "40 820\n",
            "41 861\n",
            "42 903\n",
            "43 946\n",
            "44 990\n",
            "45 1035\n",
            "46 1081\n",
            "47 1128\n",
            "48 1176\n",
            "49 1225\n",
            "50 1275\n",
            "51 1326\n",
            "52 1378\n",
            "53 1431\n",
            "54 1485\n",
            "55 1540\n",
            "56 1596\n",
            "57 1653\n",
            "58 1711\n",
            "59 1770\n",
            "60 1830\n",
            "61 1891\n",
            "62 1953\n",
            "63 2016\n",
            "64 2080\n",
            "65 2145\n",
            "66 2211\n",
            "67 2278\n",
            "68 2346\n",
            "69 2415\n",
            "70 2485\n",
            "71 2556\n",
            "72 2628\n",
            "73 2701\n",
            "74 2775\n",
            "75 2850\n",
            "76 2926\n",
            "77 3003\n",
            "78 3081\n",
            "79 3160\n",
            "80 3240\n",
            "81 3321\n",
            "82 3403\n",
            "83 3486\n",
            "84 3570\n",
            "85 3655\n",
            "86 3741\n",
            "87 3828\n",
            "88 3916\n",
            "89 4005\n",
            "90 4095\n",
            "91 4186\n",
            "92 4278\n",
            "93 4371\n",
            "94 4465\n",
            "95 4560\n",
            "96 4656\n",
            "97 4753\n",
            "98 4851\n",
            "99 4950\n",
            "100 5050\n"
          ]
        }
      ]
    },
    {
      "cell_type": "markdown",
      "source": [
        "$$\\sum_{i=0}^{10} i^2$$"
      ],
      "metadata": {
        "id": "LflxwuKUwcim"
      }
    },
    {
      "cell_type": "code",
      "source": [
        "i=0\n",
        "s=0\n",
        "while i<10:\n",
        "  i+=1\n",
        "  s+=i**2\n",
        "  print(i,s)"
      ],
      "metadata": {
        "colab": {
          "base_uri": "https://localhost:8080/"
        },
        "id": "i8pcpDj8wWFY",
        "outputId": "7cbeede7-65ec-47ef-fc90-ad2695bcefc9"
      },
      "execution_count": null,
      "outputs": [
        {
          "output_type": "stream",
          "name": "stdout",
          "text": [
            "1 1\n",
            "2 5\n",
            "3 14\n",
            "4 30\n",
            "5 55\n",
            "6 91\n",
            "7 140\n",
            "8 204\n",
            "9 285\n",
            "10 385\n"
          ]
        }
      ]
    },
    {
      "cell_type": "markdown",
      "source": [
        "$$\\sum_{i=1}^{N} \\frac{1}{2^i}$$"
      ],
      "metadata": {
        "id": "lvjcZe9GxDrE"
      }
    },
    {
      "cell_type": "code",
      "source": [
        "i=0\n",
        "s=0\n",
        "while i<1000:\n",
        "  i+=1\n",
        "  s+=1/(2**i)\n",
        "print(i,s)"
      ],
      "metadata": {
        "colab": {
          "base_uri": "https://localhost:8080/"
        },
        "id": "Hk7JRf77wy-m",
        "outputId": "f6633d64-55d3-4bac-b447-33298a578906"
      },
      "execution_count": null,
      "outputs": [
        {
          "output_type": "stream",
          "name": "stdout",
          "text": [
            "1000 1.0\n"
          ]
        }
      ]
    },
    {
      "cell_type": "code",
      "source": [
        "#Calculo del factorial\n",
        "i=1. #variable de tipo entero, si pongo i=1. ya son flotantes,pero ya no puedo hacer el factorial, lo que pasa es que en entero son 32bits, pero en flotante son 64bits, entonces hace 64bits*6abits y a la ram le cuesta más hacerlo, consume más recursos de computo, pensar si de verdad necesito las cifras decimales\n",
        "s=1.\n",
        "while i<5: #limite 170 en colab con flotantes\n",
        " i+=1\n",
        " s*=i\n",
        "print(i,s)"
      ],
      "metadata": {
        "colab": {
          "base_uri": "https://localhost:8080/"
        },
        "id": "eGrLKBaZ0Lft",
        "outputId": "6df24934-bf4f-4936-874a-049f27237cd1"
      },
      "execution_count": null,
      "outputs": [
        {
          "output_type": "stream",
          "name": "stdout",
          "text": [
            "5.0 120.0\n"
          ]
        }
      ]
    },
    {
      "cell_type": "code",
      "source": [
        "while 1:  #Tarea programar piedra papel tijera, lagarto, spot y programarlo, spot gana todo\n",
        "  a=input('mascota o escribe salida: ')\n",
        "  if a=='perro':\n",
        "    print('woaf')\n",
        "  elif a=='gato':\n",
        "    print('miau')\n",
        "  elif a=='conejo':\n",
        "    print('mmmm')\n",
        "  elif a=='vaca':\n",
        "    print('mu')\n",
        "  elif a=='salida':\n",
        "    print('Adios')\n",
        "    break\n",
        "  else:\n",
        "    print('da un animal valido')"
      ],
      "metadata": {
        "colab": {
          "base_uri": "https://localhost:8080/"
        },
        "id": "BWfg9_7uxlUk",
        "outputId": "7ac8204a-ea9d-4a3b-d6a4-fb9051e0c4de"
      },
      "execution_count": null,
      "outputs": [
        {
          "output_type": "stream",
          "name": "stdout",
          "text": [
            "mascota o escribe salida: perro\n",
            "woaf\n",
            "mascota o escribe salida: gato\n",
            "miau\n",
            "mascota o escribe salida: conejo\n",
            "mmmm\n",
            "mascota o escribe salida: salida\n",
            "Adios\n"
          ]
        }
      ]
    },
    {
      "cell_type": "code",
      "source": [
        "#piedraa papel tiejera\n",
        "from random import choice #choice es para la seleccion random aleatorio un elemento de una lista dada y y solo importo la funcion choice para que no ocupe tante ram\n",
        "while True:\n",
        "  opcion=input('Escoge entre piedra, papel y tijera \\n')\n",
        "  compu=['piedra','papel','tijera']#Elemento cero piedra\n",
        "  x=choice(compu) #Esta es la seleccion de la compu contra el usuario\n",
        "  if opcion =='piedra':\n",
        "    if x=='piedra':\n",
        "      print(\"Es un empate, ambos eligieron \", x)\n",
        "    elif x=='papel':\n",
        "      print('Gano la computadora porque eligio ',x)\n",
        "    elif x=='tijera':\n",
        "      print(\"Gano el usuario, la computadora eligio\",x)\n",
        "    else:\n",
        "      print('El usuario ingreso una opcion no valida')\n",
        "  elif opcion=='papel':\n",
        "    if x=='piedra':\n",
        "      print(\"Gano el usuario, la computadora eligio\",x)\n",
        "    elif x=='papel':\n",
        "      print(\"Es un empate, ambos eligieron \", x)\n",
        "    elif x=='tijera':\n",
        "      print('Gano la computadora porque eligio ',x)\n",
        "    else:\n",
        "      print('El usuario ingreso una opcion no valida')\n",
        "  else:\n",
        "    if x=='piedra':\n",
        "      print('Gano la computadora porque eligio ',x)\n",
        "    elif x=='papel':\n",
        "      print(\"Gano el usuario, la computadora eligio\",x)\n",
        "    elif x=='tijera':\n",
        "      print(\"Es un empate, ambos eligieron \", x)\n",
        "    else:\n",
        "      print('El usuario ingreso una opcion no valida')\n",
        "  break"
      ],
      "metadata": {
        "colab": {
          "base_uri": "https://localhost:8080/"
        },
        "id": "KSWw94kF222c",
        "outputId": "edaf21de-6d13-4edc-a31c-e0757081f7e7"
      },
      "execution_count": null,
      "outputs": [
        {
          "output_type": "stream",
          "name": "stdout",
          "text": [
            "Escoge entre piedra, papel y tijera \n",
            "piedra\n",
            "Gano el usuario, la computadora eligio tijera\n"
          ]
        }
      ]
    },
    {
      "cell_type": "markdown",
      "source": [
        "### **Ciclo For y For-in**"
      ],
      "metadata": {
        "id": "mC2fGph18nnQ"
      }
    },
    {
      "cell_type": "code",
      "source": [
        "for i in [0,1,2]:\n",
        "  print(i)\n"
      ],
      "metadata": {
        "id": "DWjZDp81yy46",
        "colab": {
          "base_uri": "https://localhost:8080/"
        },
        "outputId": "b9618cf0-b0f7-44a1-f9e1-046e4d433022"
      },
      "execution_count": null,
      "outputs": [
        {
          "output_type": "stream",
          "name": "stdout",
          "text": [
            "0\n",
            "1\n",
            "2\n"
          ]
        }
      ]
    },
    {
      "cell_type": "code",
      "source": [
        "for i in ['piedra', 'papel', 'tijera']:\n",
        "  print('La seleccion es: \\t',i)"
      ],
      "metadata": {
        "colab": {
          "base_uri": "https://localhost:8080/"
        },
        "id": "kRkDnDbT89rj",
        "outputId": "90dbb4e2-2994-41ec-bc57-7284020eaea0"
      },
      "execution_count": null,
      "outputs": [
        {
          "output_type": "stream",
          "name": "stdout",
          "text": [
            "La seleccion es: \t piedra\n",
            "La seleccion es: \t papel\n",
            "La seleccion es: \t tijera\n"
          ]
        }
      ]
    },
    {
      "cell_type": "code",
      "source": [
        "#Suma de Gauss con for\n",
        "s=0\n",
        "for i in range(0,101,1): #Range inicio 0, paso final 0, tamaño de paso 1 [0,10) así está programada range\n",
        "  s+=i\n",
        "  print(i,s)"
      ],
      "metadata": {
        "id": "ATAcTqzO9M26"
      },
      "execution_count": null,
      "outputs": []
    },
    {
      "cell_type": "code",
      "source": [
        "list(range(0,10,1)) #convertir en lista"
      ],
      "metadata": {
        "colab": {
          "base_uri": "https://localhost:8080/"
        },
        "id": "Dc-yahr59yzm",
        "outputId": "f1b8e371-ce82-48a6-c696-19d196d6eb79"
      },
      "execution_count": null,
      "outputs": [
        {
          "output_type": "execute_result",
          "data": {
            "text/plain": [
              "[0, 1, 2, 3, 4, 5, 6, 7, 8, 9]"
            ]
          },
          "metadata": {},
          "execution_count": 61
        }
      ]
    },
    {
      "cell_type": "code",
      "source": [
        "#Suma geometrica\n",
        "s=0\n",
        "for i in range(11): #default del paso inicial sea 0 y el tamaño de paso sea 1, así está programado range\n",
        " s+=1/2**i\n",
        " print(i,s)"
      ],
      "metadata": {
        "colab": {
          "base_uri": "https://localhost:8080/"
        },
        "id": "q3RiMxey-IJr",
        "outputId": "0b5ebf57-5b6f-477e-b386-3da052f6e8b6"
      },
      "execution_count": null,
      "outputs": [
        {
          "output_type": "stream",
          "name": "stdout",
          "text": [
            "0 1.0\n",
            "1 1.5\n",
            "2 1.75\n",
            "3 1.875\n",
            "4 1.9375\n",
            "5 1.96875\n",
            "6 1.984375\n",
            "7 1.9921875\n",
            "8 1.99609375\n",
            "9 1.998046875\n",
            "10 1.9990234375\n"
          ]
        }
      ]
    },
    {
      "cell_type": "markdown",
      "source": [
        "sum m,i=n (i+1)^2\n"
      ],
      "metadata": {
        "id": "qIrz8i5z_Sth"
      }
    },
    {
      "cell_type": "code",
      "source": [
        "n=int(input('Da el valor de n \\t'))\n",
        "m=int(input('Da el valor de m \\t'))\n",
        "s=0\n",
        "for i in range(n,m+1,1):\n",
        "  s+=(i+1)**2\n",
        "print(s)"
      ],
      "metadata": {
        "colab": {
          "base_uri": "https://localhost:8080/"
        },
        "id": "TI94k-mj_QqZ",
        "outputId": "59082650-a86e-48c3-b94e-38279147594d"
      },
      "execution_count": null,
      "outputs": [
        {
          "output_type": "stream",
          "name": "stdout",
          "text": [
            "Da el valor de n \t-3\n",
            "Da el valor de m \t3\n",
            "35\n"
          ]
        }
      ]
    },
    {
      "cell_type": "markdown",
      "source": [
        "while mientras no se como evoluciona i, sino que evoluciona conforme avanza el programa, pero si sé como evoluciona i y cuantos valores de i voy a utilizar, utilizo el for in\n"
      ],
      "metadata": {
        "id": "pNAgP-BVAnhy"
      }
    },
    {
      "cell_type": "markdown",
      "source": [
        "Nuestras propias funciones"
      ],
      "metadata": {
        "id": "9f0oLpWMA0cj"
      }
    },
    {
      "cell_type": "code",
      "source": [
        "def f(x): #Escribo def nombre de la funcion y la variable de la que depende\n",
        " y=(x+1)**2\n",
        " return y"
      ],
      "metadata": {
        "id": "5PnFCdzZAzlv"
      },
      "execution_count": null,
      "outputs": []
    },
    {
      "cell_type": "code",
      "source": [
        "f(5)"
      ],
      "metadata": {
        "id": "KnWn5HC0BdYW"
      },
      "execution_count": null,
      "outputs": []
    },
    {
      "cell_type": "code",
      "source": [
        "def s(x,y,z):\n",
        "  t=x**2+y**2+z**2\n",
        "  return t"
      ],
      "metadata": {
        "id": "qVqcls5MBmAm"
      },
      "execution_count": null,
      "outputs": []
    },
    {
      "cell_type": "code",
      "source": [
        "s(0,1,0)"
      ],
      "metadata": {
        "colab": {
          "base_uri": "https://localhost:8080/"
        },
        "id": "NEuJS-uzB4NZ",
        "outputId": "ced2ad95-d5d5-4f04-fedf-19a47f394450"
      },
      "execution_count": null,
      "outputs": [
        {
          "output_type": "execute_result",
          "data": {
            "text/plain": [
              "1"
            ]
          },
          "metadata": {},
          "execution_count": 74
        }
      ]
    },
    {
      "cell_type": "code",
      "source": [
        "#funcion promedio\n",
        "def promedio(l):\n",
        "  n=len(l) #contar elementos de la lista, hasta que uso len phyton se entera que l es una lista\n",
        "  s=0 #variable que va a guardAR LA SUMA\n",
        "  for i in range(0,n,1): #for i in l: s+=i\n",
        "   s+=l[i]\n",
        "  return s/n"
      ],
      "metadata": {
        "id": "fHi-E-ZZCF7i"
      },
      "execution_count": null,
      "outputs": []
    },
    {
      "cell_type": "code",
      "source": [
        "promedio([1,2,3])"
      ],
      "metadata": {
        "colab": {
          "base_uri": "https://localhost:8080/"
        },
        "id": "9Ra_6NGjDa_p",
        "outputId": "e0d4d8ad-f720-42ff-9abe-e86b2d303c59"
      },
      "execution_count": null,
      "outputs": [
        {
          "output_type": "execute_result",
          "data": {
            "text/plain": [
              "2.0"
            ]
          },
          "metadata": {},
          "execution_count": 83
        }
      ]
    },
    {
      "cell_type": "markdown",
      "source": [
        "Tarea moral leer capitulos"
      ],
      "metadata": {
        "id": "VFdf0sUsD7Sz"
      }
    }
  ]
}