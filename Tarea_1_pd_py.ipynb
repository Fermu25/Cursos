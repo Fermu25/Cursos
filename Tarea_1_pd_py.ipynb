{
  "nbformat": 4,
  "nbformat_minor": 0,
  "metadata": {
    "colab": {
      "provenance": [],
      "authorship_tag": "ABX9TyPHfg952FKvH9cteQ+iEdWd",
      "include_colab_link": true
    },
    "kernelspec": {
      "name": "python3",
      "display_name": "Python 3"
    },
    "language_info": {
      "name": "python"
    }
  },
  "cells": [
    {
      "cell_type": "markdown",
      "metadata": {
        "id": "view-in-github",
        "colab_type": "text"
      },
      "source": [
        "<a href=\"https://colab.research.google.com/github/Fermu25/Cursos/blob/main/Tarea_1_pd_py.ipynb\" target=\"_parent\"><img src=\"https://colab.research.google.com/assets/colab-badge.svg\" alt=\"Open In Colab\"/></a>"
      ]
    },
    {
      "cell_type": "markdown",
      "source": [
        "Ejercicio 1: Sumar los primeros 50 números pares sin fórmulas\n",
        "\n"
      ],
      "metadata": {
        "id": "AgnX9bDseMCy"
      }
    },
    {
      "cell_type": "code",
      "execution_count": 3,
      "metadata": {
        "colab": {
          "base_uri": "https://localhost:8080/"
        },
        "id": "r4wIRv9zeKjg",
        "outputId": "21e16ed2-c53d-4614-dcfe-81bc8ed407da"
      },
      "outputs": [
        {
          "output_type": "stream",
          "name": "stdout",
          "text": [
            "La suma de los primeros 50 números pares es: 2550\n"
          ]
        }
      ],
      "source": [
        "suma_total = 0\n",
        "for i in range(1, 51):\n",
        "    numero_par = i * 2\n",
        "    suma_total += numero_par\n",
        "\n",
        "print(\"La suma de los primeros 50 números pares es:\", suma_total)"
      ]
    },
    {
      "cell_type": "markdown",
      "source": [
        "Ejercicio 2: Ordenar lista por número de vocales"
      ],
      "metadata": {
        "id": "CcbNjodzqVGo"
      }
    },
    {
      "cell_type": "code",
      "source": [
        "def contar_vocales(palabra):\n",
        "    vocales = \"aeiouáéíóúAEIOU\"\n",
        "    cantidad = 0\n",
        "    for letra in palabra:\n",
        "        if letra in vocales:\n",
        "            cantidad += 1\n",
        "    return cantidad\n",
        "\n",
        "lista_palabras = [\"neuroembriología\",\n",
        "\"ñiquiñaque\",\"nitrificación\",\"nomenclátor\",\"nostálgico\",\"novelístico\",\"novohispano\",\"obliteración\",\"obsequioso\",\"obstetricia\",\n",
        "\"occidentalizar\",\"octogenario\",\"oftalmólogo\",\"oligoelemento\",\"onomatopeya\",\"organización\",\"orientativo\",\"ornamentación\",\"otorrinolaringólogo\"]\n",
        "lista_palabras.sort(key=contar_vocales)\n",
        "print(\"Lista ordenada por número de vocales:\", lista_palabras)"
      ],
      "metadata": {
        "colab": {
          "base_uri": "https://localhost:8080/"
        },
        "id": "3cyaHd_jqV2e",
        "outputId": "a4127762-1d6d-46fd-ef96-020f239e6210"
      },
      "execution_count": 7,
      "outputs": [
        {
          "output_type": "stream",
          "name": "stdout",
          "text": [
            "Lista ordenada por número de vocales: ['nomenclátor', 'nostálgico', 'novelístico', 'novohispano', 'obstetricia', 'oftalmólogo', 'ñiquiñaque', 'nitrificación', 'obliteración', 'obsequioso', 'occidentalizar', 'octogenario', 'onomatopeya', 'organización', 'orientativo', 'ornamentación', 'oligoelemento', 'neuroembriología', 'otorrinolaringólogo']\n"
          ]
        }
      ]
    },
    {
      "cell_type": "markdown",
      "source": [
        "Ejercicio 3: Verificar miembros comunes entre dos listas"
      ],
      "metadata": {
        "id": "9VWNtEutqY3E"
      }
    },
    {
      "cell_type": "code",
      "source": [
        "def elemento_comun(lista1, lista2):\n",
        "    for elemento1 in lista1:\n",
        "        for elemento2 in lista2:\n",
        "            if elemento1 == elemento2:\n",
        "                return True\n",
        "    return False\n",
        "\n",
        "print(elemento_comun([1, 2, 3], [4, 5, 3]))\n",
        "print(elemento_comun([\"AR0358\", \"AR0608\", \"AR3102\", \"AR3068\", \"AR3520\", \"AR3521\", \"AR3525\", \"AR3524\", \"AR3522\",\n",
        "    \"AR2619\", \"AR0884\", \"AR0473\", \"AR0471\", \"AR3971\", \"AR2704\", \"AR2705\", \"AR0241\", \"AR0363\",\n",
        "    \"AR0360\", \"AR0093\", \"AR0423\", \"AR3967\", \"AR0340\", \"AR4565\", \"AR2930\", \"AR0776\", \"AR3404\",\n",
        "    \"AR3405\", \"AR3406\", \"AR3092\", \"AR0175\", \"AR0178\", \"AR3412\", \"AR0485\", \"AR3380\", \"AR3402\", \"AR0176\"],\n",
        "     [\"AR3413\", \"AR3672\", \"AR1190\", \"AR4155\", \"AR3407\", \"AR3399\", \"AR3419\", \"AR3634\", \"AR3866\",\n",
        "    \"AR3417\", \"AR3091\", \"AR3408\", \"AR3632\", \"AR1934\", \"AR1191\", \"AR3578\", \"AR3775\", \"AR4488\",\n",
        "    \"AR4308\", \"AR0548\", \"AR3052\", \"AR0605\", \"AR0001\", \"AR3171\", \"AR3423\", \"AR3119\", \"AR3118\",\n",
        "    \"AR0059\", \"AR0617\", \"AR3411\", \"AR0033\", \"AR0368\", \"AR2910\", \"AR3448\", \"AR1805\", \"AR3449\",\n",
        "    \"AR1837\", \"AR0836\", \"AR1104\", \"AR0392\", \"AR3507\", \"AR2641\", \"AR0777\", \"AR0276\", \"AR1524\",\n",
        "    \"AR3790\", \"AR0442\", \"AR2892\", \"AR1239\", \"AR0832\", \"AR0833\", \"AR3116\", \"AR0775\", \"AR0536\",\n",
        "    \"AR1586\", \"AR3788\", \"AR0302\", \"AR0368\", \"AR0773\", \"AR1071\", \"AR3382\", \"AR0807\", \"AR1865\",\n",
        "    \"AR0119\", \"AR2860\", \"AR4565\", \"AR4710\", \"AR1827\", \"AR2700\", \"AR4274\", \"AR3063\", \"AR3061\",\n",
        "    \"AR3429\", \"AR2708\", \"AR1657\", \"AR4602\", \"AR3427\", \"AR3811\", \"AR1540\", \"AR1541\"]))\n"
      ],
      "metadata": {
        "colab": {
          "base_uri": "https://localhost:8080/"
        },
        "id": "Bou5x2-wqbwo",
        "outputId": "c26beee2-6189-4d19-af22-12910f5525e6"
      },
      "execution_count": 9,
      "outputs": [
        {
          "output_type": "stream",
          "name": "stdout",
          "text": [
            "True\n",
            "True\n"
          ]
        }
      ]
    },
    {
      "cell_type": "markdown",
      "source": [
        "Ejercicio 4: Reemplazar todas las apariciones del primer carácter"
      ],
      "metadata": {
        "id": "w3xrzkuqqeYF"
      }
    },
    {
      "cell_type": "code",
      "source": [
        "def reemplazar(cadena):\n",
        "    primero = cadena[0]\n",
        "    resto = cadena[1:].replace(primero, '$')\n",
        "    return primero + resto\n",
        "\n",
        "print(reemplazar('restart'))\n"
      ],
      "metadata": {
        "colab": {
          "base_uri": "https://localhost:8080/"
        },
        "id": "B9lRI7uhqhMl",
        "outputId": "80805ec6-b907-46c4-924d-ac4fd3e8b62c"
      },
      "execution_count": 12,
      "outputs": [
        {
          "output_type": "stream",
          "name": "stdout",
          "text": [
            "resta$t\n"
          ]
        }
      ]
    },
    {
      "cell_type": "markdown",
      "source": [
        "Ejercicio 5: Contar letras y dígitos"
      ],
      "metadata": {
        "id": "6mpbv_Chqknq"
      }
    },
    {
      "cell_type": "code",
      "source": [
        "def contar_letras_digitos(cadena):\n",
        "    letras = 0\n",
        "    digitos = 0\n",
        "    for caracter in cadena:\n",
        "        if caracter.isalpha():\n",
        "            letras += 1\n",
        "        elif caracter.isdigit():\n",
        "            digitos += 1\n",
        "    return letras, digitos\n",
        "\n",
        "texto = \"AR3429\"\n",
        "letras, digitos = contar_letras_digitos(texto)\n",
        "print(\"Letras =\", letras)\n",
        "print(\"Dígitos =\", digitos)\n"
      ],
      "metadata": {
        "colab": {
          "base_uri": "https://localhost:8080/"
        },
        "id": "56XWuWgO073-",
        "outputId": "1f0b5dfe-e2a0-4ef3-ee03-66e3a7197dba"
      },
      "execution_count": 14,
      "outputs": [
        {
          "output_type": "stream",
          "name": "stdout",
          "text": [
            "Letras = 2\n",
            "Dígitos = 4\n"
          ]
        }
      ]
    },
    {
      "cell_type": "markdown",
      "source": [
        "Ejercicio 6: Tabla de multiplicar del 1 al 10"
      ],
      "metadata": {
        "id": "jbM3kLjuqqu7"
      }
    },
    {
      "cell_type": "code",
      "source": [
        "numero = float(input(\"Introduce un número: \"))\n",
        "for i in range(1, 11):\n",
        "    print(f\"{numero} x {i} = {numero * i}\")\n"
      ],
      "metadata": {
        "colab": {
          "base_uri": "https://localhost:8080/"
        },
        "id": "RdwNR3CZqthS",
        "outputId": "63bf0320-fab3-46d3-e382-4b9320206369"
      },
      "execution_count": 22,
      "outputs": [
        {
          "output_type": "stream",
          "name": "stdout",
          "text": [
            "Introduce un número: 3.14151692\n",
            "3.14151692 x 1 = 3.14151692\n",
            "3.14151692 x 2 = 6.28303384\n",
            "3.14151692 x 3 = 9.424550759999999\n",
            "3.14151692 x 4 = 12.56606768\n",
            "3.14151692 x 5 = 15.7075846\n",
            "3.14151692 x 6 = 18.849101519999998\n",
            "3.14151692 x 7 = 21.99061844\n",
            "3.14151692 x 8 = 25.13213536\n",
            "3.14151692 x 9 = 28.27365228\n",
            "3.14151692 x 10 = 31.4151692\n"
          ]
        }
      ]
    },
    {
      "cell_type": "markdown",
      "source": [
        "Ejercicio 7: Validación de contraseña"
      ],
      "metadata": {
        "id": "FmBCptKDqv3T"
      }
    },
    {
      "cell_type": "code",
      "source": [
        "import re\n",
        "def validar(contraseña):\n",
        "    if (6 <= len(contraseña) <= 16 and\n",
        "        re.search(r\"[a-z]\", contraseña) and\n",
        "        re.search(r\"[A-Z]\", contraseña) and\n",
        "        re.search(r\"[0-9]\", contraseña) and\n",
        "        re.search(r\"[$#@]\", contraseña)):\n",
        "        print(\"Contraseña válida\")\n",
        "    else:\n",
        "        print(\"Contraseña no válida\")\n",
        "\n",
        "validar(\"!2x9(0}wf{A7\")\n",
        "validar(\"rv(LX5j682b$\")\n",
        "validar(\"}}cI4,l96V17\")"
      ],
      "metadata": {
        "colab": {
          "base_uri": "https://localhost:8080/"
        },
        "id": "1J5SV2O0qy_v",
        "outputId": "c841925d-7d16-4a6d-f5a6-7bcbb285d34c"
      },
      "execution_count": 25,
      "outputs": [
        {
          "output_type": "stream",
          "name": "stdout",
          "text": [
            "Contraseña no válida\n",
            "Contraseña válida\n",
            "Contraseña no válida\n"
          ]
        }
      ]
    },
    {
      "cell_type": "markdown",
      "source": [
        "Ejercicio 8: Contar ocurrencias de cada carácter"
      ],
      "metadata": {
        "id": "aa3OsJiqq1pe"
      }
    },
    {
      "cell_type": "code",
      "source": [
        "from collections import Counter\n",
        "cadena = \"Mariana\"\n",
        "conteo = Counter(cadena)\n",
        "\n",
        "for caracter, cantidad in conteo.items():\n",
        "    print(f'\"{caracter}\": {cantidad}')\n"
      ],
      "metadata": {
        "colab": {
          "base_uri": "https://localhost:8080/"
        },
        "id": "YangcGuy3hcg",
        "outputId": "2dfb3980-a1a5-4aa9-d4cf-6806c424c334"
      },
      "execution_count": 28,
      "outputs": [
        {
          "output_type": "stream",
          "name": "stdout",
          "text": [
            "\"M\": 1\n",
            "\"a\": 3\n",
            "\"r\": 1\n",
            "\"i\": 1\n",
            "\"n\": 1\n"
          ]
        }
      ]
    },
    {
      "cell_type": "markdown",
      "source": [
        "Ejercicio 9: Eliminar el n-ésimo carácter de una cadena"
      ],
      "metadata": {
        "id": "qRBAMsJAq68M"
      }
    },
    {
      "cell_type": "code",
      "source": [
        "def eliminar_n_ésimo_caracter(cadena, n):\n",
        "    if n <= 0 or n > len(cadena):\n",
        "        return cadena, print(\"cadena inválida o n fuera de rango\")\n",
        "    return cadena[:n-1] + cadena[n:]\n",
        "\n",
        "print(eliminar_n_ésimo_caracter(\"electroencefalografista\", 3))"
      ],
      "metadata": {
        "colab": {
          "base_uri": "https://localhost:8080/"
        },
        "id": "3JSFhvaD4k4R",
        "outputId": "2bd7342f-5d28-4b21-b7c5-4c1b5dadea7f"
      },
      "execution_count": 35,
      "outputs": [
        {
          "output_type": "stream",
          "name": "stdout",
          "text": [
            "elctroencefalografista\n"
          ]
        }
      ]
    },
    {
      "cell_type": "markdown",
      "source": [
        "# Ejercicios_Pandas"
      ],
      "metadata": {
        "id": "GF0vZ0PYrItB"
      }
    },
    {
      "cell_type": "markdown",
      "source": [
        "Ejercicio 1 – ¿Qué hace zip()?"
      ],
      "metadata": {
        "id": "nBM8ZXQgrLKs"
      }
    },
    {
      "cell_type": "code",
      "source": [
        "import pandas as pd\n",
        "import numpy as np\n",
        "\n",
        "lista = list('abcedfghijklmnopqrstuvwxyz')\n",
        "arreglo = np.arange(26)\n",
        "diccionario = dict(zip(lista, arreglo))\n",
        "\n",
        "serie_1 = pd.Series(lista)\n",
        "serie_2 = pd.Series(arreglo)\n",
        "serie_3 = pd.Series(diccionario)\n",
        "\n",
        "print(\"Serie 1:\\n\", serie_1)\n",
        "print(\"Serie 2:\\n\", serie_2)\n",
        "print(\"Serie 3:\\n\", serie_3)\n",
        "#Convierte lista, array y diccionario a Series"
      ],
      "metadata": {
        "colab": {
          "base_uri": "https://localhost:8080/"
        },
        "id": "swEJib4CrOvj",
        "outputId": "4a83aa52-a435-46d8-d1f5-25eba77cf83c"
      },
      "execution_count": 37,
      "outputs": [
        {
          "output_type": "stream",
          "name": "stdout",
          "text": [
            "Serie 1:\n",
            " 0     a\n",
            "1     b\n",
            "2     c\n",
            "3     e\n",
            "4     d\n",
            "5     f\n",
            "6     g\n",
            "7     h\n",
            "8     i\n",
            "9     j\n",
            "10    k\n",
            "11    l\n",
            "12    m\n",
            "13    n\n",
            "14    o\n",
            "15    p\n",
            "16    q\n",
            "17    r\n",
            "18    s\n",
            "19    t\n",
            "20    u\n",
            "21    v\n",
            "22    w\n",
            "23    x\n",
            "24    y\n",
            "25    z\n",
            "dtype: object\n",
            "Serie 2:\n",
            " 0      0\n",
            "1      1\n",
            "2      2\n",
            "3      3\n",
            "4      4\n",
            "5      5\n",
            "6      6\n",
            "7      7\n",
            "8      8\n",
            "9      9\n",
            "10    10\n",
            "11    11\n",
            "12    12\n",
            "13    13\n",
            "14    14\n",
            "15    15\n",
            "16    16\n",
            "17    17\n",
            "18    18\n",
            "19    19\n",
            "20    20\n",
            "21    21\n",
            "22    22\n",
            "23    23\n",
            "24    24\n",
            "25    25\n",
            "dtype: int64\n",
            "Serie 3:\n",
            " a     0\n",
            "b     1\n",
            "c     2\n",
            "e     3\n",
            "d     4\n",
            "f     5\n",
            "g     6\n",
            "h     7\n",
            "i     8\n",
            "j     9\n",
            "k    10\n",
            "l    11\n",
            "m    12\n",
            "n    13\n",
            "o    14\n",
            "p    15\n",
            "q    16\n",
            "r    17\n",
            "s    18\n",
            "t    19\n",
            "u    20\n",
            "v    21\n",
            "w    22\n",
            "x    23\n",
            "y    24\n",
            "z    25\n",
            "dtype: int64\n"
          ]
        }
      ]
    },
    {
      "cell_type": "markdown",
      "source": [
        "Ejercicio 2 – Convertir series a DataFrame"
      ],
      "metadata": {
        "id": "cbeQae1srRBX"
      }
    },
    {
      "cell_type": "code",
      "source": [
        "df = pd.concat([serie_1, serie_2], axis=1)\n",
        "df.columns = ['letra', 'número']\n",
        "df = df.reset_index(drop=True)\n",
        "print(df)\n",
        "#Si no se aplica reset_index, el DataFrame conserva los índices originales de cada serie"
      ],
      "metadata": {
        "colab": {
          "base_uri": "https://localhost:8080/"
        },
        "id": "WiuZlqyTrTdM",
        "outputId": "f165ac93-6159-4fa2-cd95-99dff64211df"
      },
      "execution_count": 39,
      "outputs": [
        {
          "output_type": "stream",
          "name": "stdout",
          "text": [
            "   letra  número\n",
            "0      a       0\n",
            "1      b       1\n",
            "2      c       2\n",
            "3      e       3\n",
            "4      d       4\n",
            "5      f       5\n",
            "6      g       6\n",
            "7      h       7\n",
            "8      i       8\n",
            "9      j       9\n",
            "10     k      10\n",
            "11     l      11\n",
            "12     m      12\n",
            "13     n      13\n",
            "14     o      14\n",
            "15     p      15\n",
            "16     q      16\n",
            "17     r      17\n",
            "18     s      18\n",
            "19     t      19\n",
            "20     u      20\n",
            "21     v      21\n",
            "22     w      22\n",
            "23     x      23\n",
            "24     y      24\n",
            "25     z      25\n"
          ]
        }
      ]
    },
    {
      "cell_type": "markdown",
      "source": [
        "Ejercicio 3 – Intersección y diferencia entre series"
      ],
      "metadata": {
        "id": "nmi_lUE5rVXm"
      }
    },
    {
      "cell_type": "code",
      "source": [
        "serie_1 = pd.Series([1, 2, 3, 4, 5])\n",
        "serie_2 = pd.Series([4, 5, 6, 7, 8])\n",
        "\n",
        "comunes = serie_1[serie_1.isin(serie_2)]\n",
        "print(\"Comunes:\", comunes.tolist())\n",
        "\n",
        "solo_en_1 = serie_1[~serie_1.isin(serie_2)]\n",
        "solo_en_2 = serie_2[~serie_2.isin(serie_1)]\n",
        "print(\"Solo en 1:\", solo_en_1.tolist())\n",
        "print(\"Solo en 2:\", solo_en_2.tolist())\n",
        "\n",
        "unicos = pd.concat([solo_en_1, solo_en_2]).reset_index(drop=True)\n",
        "print(\"No comunes combinados:\\n\", unicos)\n"
      ],
      "metadata": {
        "colab": {
          "base_uri": "https://localhost:8080/"
        },
        "id": "NYmdflSW7uTG",
        "outputId": "d3a46770-a81f-43aa-cb5d-63cbbbc76632"
      },
      "execution_count": 40,
      "outputs": [
        {
          "output_type": "stream",
          "name": "stdout",
          "text": [
            "Comunes: [4, 5]\n",
            "Solo en 1: [1, 2, 3]\n",
            "Solo en 2: [6, 7, 8]\n",
            "No comunes combinados:\n",
            " 0    1\n",
            "1    2\n",
            "2    3\n",
            "3    6\n",
            "4    7\n",
            "5    8\n",
            "dtype: int64\n"
          ]
        }
      ]
    },
    {
      "cell_type": "markdown",
      "source": [
        "Ejercicio 4 – Mapeo de números a letras con np.take()"
      ],
      "metadata": {
        "id": "QcMUBOg_sCY1"
      }
    },
    {
      "cell_type": "code",
      "source": [
        "import numpy as np\n",
        "import pandas as pd\n",
        "\n",
        "lista_letras = list('abcdefghij')\n",
        "print(\"Lista de letras:\", lista_letras)\n",
        "\n",
        "np.random.seed(7)\n",
        "\n",
        "aleatorios = np.random.randint(0, 10, size=30)\n",
        "print(\"\\nArreglo de números aleatorios:\\n\", aleatorios)\n",
        "\n",
        "letras_aleatorias = np.take(lista_letras, aleatorios)\n",
        "print(\"\\nArreglo de letras:\\n\", letras_aleatorias)\n",
        "\n",
        "serie_letras = pd.Series(letras_aleatorias)\n",
        "\n",
        "frecuencia = serie_letras.value_counts()\n",
        "print(\"\\nFrecuencia de letras:\\n\", frecuencia)\n",
        "\n"
      ],
      "metadata": {
        "colab": {
          "base_uri": "https://localhost:8080/"
        },
        "id": "wxtBepi8sDFd",
        "outputId": "47395d85-d652-4bb9-a6ab-63d992578697"
      },
      "execution_count": 44,
      "outputs": [
        {
          "output_type": "stream",
          "name": "stdout",
          "text": [
            "Lista de letras: ['a', 'b', 'c', 'd', 'e', 'f', 'g', 'h', 'i', 'j']\n",
            "\n",
            "Arreglo de números aleatorios:\n",
            " [4 9 6 3 3 7 7 9 7 8 9 8 7 6 4 0 7 0 7 6 3 5 8 8 7 5 0 0 2 8]\n",
            "\n",
            "Arreglo de letras:\n",
            " ['e' 'j' 'g' 'd' 'd' 'h' 'h' 'j' 'h' 'i' 'j' 'i' 'h' 'g' 'e' 'a' 'h' 'a'\n",
            " 'h' 'g' 'd' 'f' 'i' 'i' 'h' 'f' 'a' 'a' 'c' 'i']\n",
            "\n",
            "Frecuencia de letras:\n",
            " h    7\n",
            "i    5\n",
            "a    4\n",
            "d    3\n",
            "j    3\n",
            "g    3\n",
            "e    2\n",
            "f    2\n",
            "c    1\n",
            "Name: count, dtype: int64\n"
          ]
        }
      ]
    },
    {
      "cell_type": "markdown",
      "source": [
        "Ejercicio 5 – Obtener letras por posición"
      ],
      "metadata": {
        "id": "Mr_eWzBdsNBI"
      }
    },
    {
      "cell_type": "code",
      "source": [
        "import pandas as pd\n",
        "\n",
        "serie_letras = pd.Series(list('abcdefghijklmnopqrstuvwxyz'))\n",
        "posicion = [0, 4, 8, 14, 20]\n",
        "\n",
        "letras_seleccionadas = serie_letras.take(posicion)\n",
        "print(letras_seleccionadas)\n",
        "\n",
        "\n"
      ],
      "metadata": {
        "colab": {
          "base_uri": "https://localhost:8080/"
        },
        "id": "YkhquPUSsP-S",
        "outputId": "bdac9c75-272a-4b06-dcd3-d31b4572e923"
      },
      "execution_count": 57,
      "outputs": [
        {
          "output_type": "stream",
          "name": "stdout",
          "text": [
            "0     a\n",
            "4     e\n",
            "8     i\n",
            "14    o\n",
            "20    u\n",
            "dtype: object\n"
          ]
        }
      ]
    },
    {
      "cell_type": "markdown",
      "source": [
        "Ejercicio 6 – Compuestos con H y temperatura crítica < 100 K"
      ],
      "metadata": {
        "id": "KUkI02xPsSNt"
      }
    },
    {
      "cell_type": "code",
      "source": [
        "df = pd.read_csv('unique_m.csv')\n",
        "filtro = (df['H'] > 0) & (df['critical_temp'] < 100)\n",
        "compuestos_filtrados = df[filtro]\n",
        "num_compuestos = len(compuestos_filtrados)\n",
        "print(num_compuestos)"
      ],
      "metadata": {
        "colab": {
          "base_uri": "https://localhost:8080/"
        },
        "collapsed": true,
        "id": "G6q5V5ASsU4Q",
        "outputId": "c4c9200d-a045-4dc3-fd54-bf5e52c02adc"
      },
      "execution_count": 61,
      "outputs": [
        {
          "output_type": "stream",
          "name": "stdout",
          "text": [
            "296\n"
          ]
        }
      ]
    },
    {
      "cell_type": "code",
      "source": [
        "Ejercicio 7 – Promedio y cuartiles"
      ],
      "metadata": {
        "id": "PjqdF0sYsZko"
      },
      "execution_count": null,
      "outputs": []
    },
    {
      "cell_type": "code",
      "source": [
        "promedio_H = compuestos_filtrados['H'].mean()\n",
        "print(\"Promedio de H:\", promedio_H)\n",
        "\n",
        "cuartiles_Tc = compuestos_filtrados['critical_temp'].quantile([0.25, 0.5, 0.75])\n",
        "print(\"Cuartiles de Tc:\\n\", cuartiles_Tc)\n"
      ],
      "metadata": {
        "colab": {
          "base_uri": "https://localhost:8080/"
        },
        "id": "CSIUOb9lsaLB",
        "outputId": "7491b4e9-e8fa-452b-f167-1880b2090799"
      },
      "execution_count": 64,
      "outputs": [
        {
          "output_type": "stream",
          "name": "stdout",
          "text": [
            "Promedio de H: 1.256847972972973\n",
            "Cuartiles de Tc:\n",
            " 0.25     4.37125\n",
            "0.50    13.70000\n",
            "0.75    45.07500\n",
            "Name: critical_temp, dtype: float64\n"
          ]
        }
      ]
    },
    {
      "cell_type": "markdown",
      "source": [
        "Ejercicio 8 – Superconductores con Ti y O, Tc < 80K"
      ],
      "metadata": {
        "id": "k9FH44m6sdBY"
      }
    },
    {
      "cell_type": "code",
      "source": [
        "superconductores = df[\n",
        "    (df['critical_temp'] < 80) &\n",
        "    (df['Ti'] > 0) &\n",
        "    (df['O'] > 0)\n",
        "]\n",
        "\n",
        "cantidad = len(superconductores)\n",
        "print(cantidad)"
      ],
      "metadata": {
        "colab": {
          "base_uri": "https://localhost:8080/"
        },
        "collapsed": true,
        "id": "Waim-Wvasf2u",
        "outputId": "50e3ad29-d353-4c89-e01b-6a88f1cd6f1f"
      },
      "execution_count": 67,
      "outputs": [
        {
          "output_type": "stream",
          "name": "stdout",
          "text": [
            "185\n"
          ]
        }
      ]
    }
  ]
}