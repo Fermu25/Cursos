{
  "nbformat": 4,
  "nbformat_minor": 0,
  "metadata": {
    "colab": {
      "provenance": [],
      "include_colab_link": true
    },
    "kernelspec": {
      "name": "python3",
      "display_name": "Python 3"
    },
    "language_info": {
      "name": "python"
    }
  },
  "cells": [
    {
      "cell_type": "markdown",
      "metadata": {
        "id": "view-in-github",
        "colab_type": "text"
      },
      "source": [
        "<a href=\"https://colab.research.google.com/github/Fermu25/Cursos/blob/main/Operaciones_basicas.ipynb\" target=\"_parent\"><img src=\"https://colab.research.google.com/assets/colab-badge.svg\" alt=\"Open In Colab\"/></a>"
      ]
    },
    {
      "cell_type": "code",
      "source": [
        "1/2/4.0\n",
        "#Se divide de izquierda a derecha, es decir, primero divide 1/2 y el resultado lo divide entre 4.0. Con la primer división transforma los valores enteros en flotantes."
      ],
      "metadata": {
        "colab": {
          "base_uri": "https://localhost:8080/"
        },
        "id": "W5X76c0NbnO6",
        "outputId": "18992b2b-c6ea-4e53-9944-aa1b7b07691d"
      },
      "execution_count": null,
      "outputs": [
        {
          "output_type": "execute_result",
          "data": {
            "text/plain": [
              "0.125"
            ]
          },
          "metadata": {},
          "execution_count": 3
        }
      ]
    },
    {
      "cell_type": "code",
      "source": [
        "2.0*(1.0/2)+1/2.0\n",
        "#Sigue la jerarquía de operaciones,primero hace los paréntesis, divide 1.0/2 convirtiendo en flotante el resultado, el resultado lo multiplica por 2.0. Después divide 1/2.0 transformando el resultado en flotante para finalmente hacer la suma de ambos resultados."
      ],
      "metadata": {
        "colab": {
          "base_uri": "https://localhost:8080/"
        },
        "id": "ckW6N5rXbrmN",
        "outputId": "dcd10f6a-de50-441d-82d1-5a8aa7fd7fbd"
      },
      "execution_count": null,
      "outputs": [
        {
          "output_type": "execute_result",
          "data": {
            "text/plain": [
              "1.5"
            ]
          },
          "metadata": {},
          "execution_count": 4
        }
      ]
    },
    {
      "cell_type": "code",
      "source": [
        "3e3/10\n",
        "#Genera una potenciación de 10^3 con 3e3 que devuelve 3000 y ese resultado lo divide por 10 arrojando un 300 como flotante por el .0"
      ],
      "metadata": {
        "colab": {
          "base_uri": "https://localhost:8080/"
        },
        "id": "nGFKvyoRcHWl",
        "outputId": "e125bad9-af83-4d79-c4a9-0be3ed41b998"
      },
      "execution_count": null,
      "outputs": [
        {
          "output_type": "execute_result",
          "data": {
            "text/plain": [
              "300.0"
            ]
          },
          "metadata": {},
          "execution_count": 7
        }
      ]
    },
    {
      "cell_type": "code",
      "source": [
        "10/5e-3+1\n",
        "#Esta operación primero eleva a la 10^-3, luego por 5e-3 arrojando 0.005, después hace la división 10/0.005 y por último le suma un 1, dado que tenemos divisiones, el resultado final será tipo flotante"
      ],
      "metadata": {
        "colab": {
          "base_uri": "https://localhost:8080/"
        },
        "id": "Fa_NL-YwcZIF",
        "outputId": "e7f64bcc-6ae1-4a3a-df67-874a29e42649"
      },
      "execution_count": null,
      "outputs": [
        {
          "output_type": "execute_result",
          "data": {
            "text/plain": [
              "2001.0"
            ]
          },
          "metadata": {},
          "execution_count": 6
        }
      ]
    },
    {
      "cell_type": "code",
      "source": [
        "True == True != False\n",
        "#Se evalúa si True es igual a True(su valor, es como un 1=1), lo cual es True y luego pregunta si True es diferente de False(1 distinto de 0), lo cual es True."
      ],
      "metadata": {
        "colab": {
          "base_uri": "https://localhost:8080/"
        },
        "id": "OULNWffEcgUb",
        "outputId": "ba4523ee-7775-4385-c757-4fa78dfd7d27"
      },
      "execution_count": null,
      "outputs": [
        {
          "output_type": "execute_result",
          "data": {
            "text/plain": [
              "True"
            ]
          },
          "metadata": {},
          "execution_count": 10
        }
      ]
    },
    {
      "cell_type": "code",
      "source": [
        "palindromo =\"abcba\"\n",
        "(4*\"<\"+palindromo+\">\"*4)*2\n",
        "#Repite 4 veces el simbolo \"<\" añade el valor de la variable palindromo que es un string y luego añade 4 veces el símbolo \">\", todo ese string lo repite dos veces"
      ],
      "metadata": {
        "colab": {
          "base_uri": "https://localhost:8080/",
          "height": 35
        },
        "id": "Klpjyw9IcgIo",
        "outputId": "57793ac0-5e1c-47e3-9ead-e8dbdef488c7"
      },
      "execution_count": null,
      "outputs": [
        {
          "output_type": "execute_result",
          "data": {
            "text/plain": [
              "'<<<<abcba>>>><<<<abcba>>>>'"
            ],
            "application/vnd.google.colaboratory.intrinsic+json": {
              "type": "string"
            }
          },
          "metadata": {},
          "execution_count": 11
        }
      ]
    },
    {
      "cell_type": "code",
      "source": [
        "from math import sin, pi\n",
        "round(4*sin(3*pi/2))\n",
        "#Calcula el seno de 3/2pi , el resultado lo multiplica por 4 y finalmente se redondea a un entero, en este caso -4"
      ],
      "metadata": {
        "colab": {
          "base_uri": "https://localhost:8080/"
        },
        "id": "_yJhTgAFdZ9L",
        "outputId": "0a3b4914-88e9-4c95-8037-8b5c5fb7cde7"
      },
      "execution_count": null,
      "outputs": [
        {
          "output_type": "execute_result",
          "data": {
            "text/plain": [
              "-4"
            ]
          },
          "metadata": {},
          "execution_count": 13
        }
      ]
    },
    {
      "cell_type": "code",
      "source": [
        "from math import sqrt\n",
        "\n",
        "a = float(input('Dame el valor del lado a: '))\n",
        "b = float(input('Dame el valor del lado b: '))\n",
        "c = float(input('Dame el valor del lado c: '))\n",
        "\n",
        "if a+b>c and a+c> b and b+c>a:\n",
        "  s=(a+b+c)/2\n",
        "  k=s*(s-a)*(s-b)*(s-c)\n",
        "  Area = sqrt(k)\n",
        "  print(f'El área del triángulo es: A={Area}')\n",
        "else:\n",
        "  print('Los valores dados no pueden formar un triángulo')4"
      ],
      "metadata": {
        "colab": {
          "base_uri": "https://localhost:8080/"
        },
        "id": "Dqmrvsgpe3JX",
        "outputId": "16b0c861-0e3b-4a03-9772-0f74be5c0179"
      },
      "execution_count": null,
      "outputs": [
        {
          "output_type": "stream",
          "name": "stdout",
          "text": [
            "Dame el valor del lado a: 5\n",
            "Dame el valor del lado b: 6\n",
            "Dame el valor del lado c: 4\n",
            "El área del triángulo es: A=9.921567416492215\n"
          ]
        }
      ]
    },
    {
      "cell_type": "code",
      "source": [
        "# resolver la ecuación cuadrática ax**2+bx+c=0  TAREA\n",
        "from math import sqrt\n",
        "\n",
        "a = float(input('El coeficiente a: '))\n",
        "b = float(input('El coeficiente b: '))\n",
        "c = float(input('El coeficiente c: '))\n",
        "\n",
        "discriminante=b**2-4*a*c\n",
        "if a == 0:\n",
        "  if b == 0:\n",
        "    if c == 0:\n",
        "      print('La ecuación tiene infinitas soluciones')\n",
        "    else:\n",
        "      print('La ecuación no tiene solución')\n",
        "  else:\n",
        "      sol=-c/b\n",
        "      print('Es una ecuación lineal con solución', sol)\n",
        "if discriminante>0:\n",
        "  x1=(-b+sqrt(discriminante))/(2*a)\n",
        "  x2=(-b-sqrt(discriminante))/(2*a)\n",
        "  print('Las soluciones son',x1,x2)\n",
        "elif discriminante == 0:\n",
        "  x=-b/(2*a)\n",
        "  print('La solución es',x)\n",
        "else:\n",
        "  print('La solución es compleja')\n"
      ],
      "metadata": {
        "colab": {
          "base_uri": "https://localhost:8080/"
        },
        "id": "_-V_-X1Fa0wD",
        "outputId": "1684d2a7-49cc-4715-fd88-c4b43cff8835"
      },
      "execution_count": null,
      "outputs": [
        {
          "output_type": "stream",
          "name": "stdout",
          "text": [
            "El coeficiente a: 5\n",
            "El coeficiente b: 6\n",
            "El coeficiente c: 5\n",
            "La solución es compleja\n"
          ]
        }
      ]
    }
  ]
}