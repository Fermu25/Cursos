{
  "nbformat": 4,
  "nbformat_minor": 0,
  "metadata": {
    "colab": {
      "provenance": [],
      "authorship_tag": "ABX9TyN7iwiibkEjc3aHrtN1jo/W",
      "include_colab_link": true
    },
    "kernelspec": {
      "name": "python3",
      "display_name": "Python 3"
    },
    "language_info": {
      "name": "python"
    }
  },
  "cells": [
    {
      "cell_type": "markdown",
      "metadata": {
        "id": "view-in-github",
        "colab_type": "text"
      },
      "source": [
        "<a href=\"https://colab.research.google.com/github/Fermu25/Cursos/blob/main/Datos.ipynb\" target=\"_parent\"><img src=\"https://colab.research.google.com/assets/colab-badge.svg\" alt=\"Open In Colab\"/></a>"
      ]
    },
    {
      "cell_type": "code",
      "execution_count": 1,
      "metadata": {
        "colab": {
          "base_uri": "https://localhost:8080/"
        },
        "id": "sdT3cyGsXzf8",
        "outputId": "d1efbf35-46cb-41db-8657-d3affe63e362"
      },
      "outputs": [
        {
          "output_type": "stream",
          "name": "stdout",
          "text": [
            "Datos temperatura_estabilización.csv\n",
            "         Tiempo     T1     T2     T3     T4\n",
            "0  20:46:37.371  27.80  28.83  27.58  27.99\n",
            "1  20:46:38.878  27.80  28.83  27.52  27.99\n",
            "2  20:46:40.386  27.80  28.77  27.52  27.99\n",
            "3  20:46:41.893  27.80  28.77  27.52  28.12\n",
            "4  20:46:43.435  26.51  27.62  24.21  25.06\n"
          ]
        }
      ],
      "source": [
        "import re\n",
        "import pandas as pd\n",
        "\n",
        "# Archivo de entrada\n",
        "archivo_entrada = \"Tiempo de estabilización.txt\"\n",
        "\n",
        "# Archivo de salida CSV\n",
        "archivo_salida = \"temperatura_estabilización.csv\"\n",
        "\n",
        "# Listas para guardar los datos\n",
        "tiempos = []\n",
        "t1, t2, t3, t4 = [], [], [], []\n",
        "# Leer archivo\n",
        "with open(archivo_entrada, \"r\", encoding=\"utf-8\", errors=\"ignore\") as f:\n",
        "    for linea in f:\n",
        "        # Buscar tiempo\n",
        "        tiempo_match = re.match(r\"(\\d{2}:\\d{2}:\\d{2}\\.\\d+)\", linea)\n",
        "        # Buscar TCORs\n",
        "        tcors = re.findall(r\"TCOR=(\\d+\\.\\d+)\", linea)\n",
        "        if tiempo_match and len(tcors) == 4:\n",
        "            tiempos.append(tiempo_match.group(1))\n",
        "            t1.append(float(tcors[0]))\n",
        "            t2.append(float(tcors[1]))\n",
        "            t3.append(float(tcors[2]))\n",
        "            t4.append(float(tcors[3]))\n",
        "\n",
        "# Crear DataFrame\n",
        "df = pd.DataFrame({\n",
        "    \"Tiempo\": tiempos,\n",
        "    \"T1\": t1,\n",
        "    \"T2\": t2,\n",
        "    \"T3\": t3,\n",
        "    \"T4\": t4\n",
        "})\n",
        "# Guardar CSV\n",
        "df.to_csv(archivo_salida, index=False)\n",
        "print(f\"Datos {archivo_salida}\")\n",
        "print(df.head())\n"
      ]
    },
    {
      "cell_type": "code",
      "source": [],
      "metadata": {
        "id": "cEoYrZa3YTFs"
      },
      "execution_count": null,
      "outputs": []
    }
  ]
}