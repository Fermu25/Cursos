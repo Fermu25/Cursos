{
  "nbformat": 4,
  "nbformat_minor": 0,
  "metadata": {
    "colab": {
      "provenance": [],
      "authorship_tag": "ABX9TyMKmFKUH+bt6kjyCAdkZm0f",
      "include_colab_link": true
    },
    "kernelspec": {
      "name": "python3",
      "display_name": "Python 3"
    },
    "language_info": {
      "name": "python"
    }
  },
  "cells": [
    {
      "cell_type": "markdown",
      "metadata": {
        "id": "view-in-github",
        "colab_type": "text"
      },
      "source": [
        "<a href=\"https://colab.research.google.com/github/Fermu25/Cursos/blob/main/Funciones.ipynb\" target=\"_parent\"><img src=\"https://colab.research.google.com/assets/colab-badge.svg\" alt=\"Open In Colab\"/></a>"
      ]
    },
    {
      "cell_type": "markdown",
      "source": [
        "### **Funciones**"
      ],
      "metadata": {
        "id": "zYHbJyEfrusY"
      }
    },
    {
      "cell_type": "code",
      "execution_count": null,
      "metadata": {
        "id": "QUjWvRxQo0C4"
      },
      "outputs": [],
      "source": [
        "from numpy import *\n",
        "def nombre (var1,var2):\n",
        " return array([var1,var2])"
      ]
    },
    {
      "cell_type": "code",
      "source": [
        "nombre(0,0)"
      ],
      "metadata": {
        "colab": {
          "base_uri": "https://localhost:8080/"
        },
        "id": "rysxZFBTpBGi",
        "outputId": "c81de8d1-f47e-463c-cc2a-7bad5ad1b5cb"
      },
      "execution_count": null,
      "outputs": [
        {
          "output_type": "execute_result",
          "data": {
            "text/plain": [
              "array([0, 0])"
            ]
          },
          "metadata": {},
          "execution_count": 6
        }
      ]
    },
    {
      "cell_type": "code",
      "source": [
        "def prom(l):\n",
        " n=len(l)\n",
        " s=0\n",
        " for i in range(n):\n",
        "  s+=l[i]\n",
        " return s/n\n"
      ],
      "metadata": {
        "id": "Ty2D_1a7pBMZ"
      },
      "execution_count": null,
      "outputs": []
    },
    {
      "cell_type": "code",
      "source": [
        "prom ([1,2,3])"
      ],
      "metadata": {
        "colab": {
          "base_uri": "https://localhost:8080/"
        },
        "id": "XvHtyzE3pjA4",
        "outputId": "6b489e93-2cc9-49f6-a6d7-25e70a77fc12"
      },
      "execution_count": null,
      "outputs": [
        {
          "output_type": "execute_result",
          "data": {
            "text/plain": [
              "2.0"
            ]
          },
          "metadata": {},
          "execution_count": 17
        }
      ]
    },
    {
      "cell_type": "code",
      "source": [
        "def punto(l1,l2):\n",
        "  n1=len(l1)\n",
        "  n2=len(l2)\n",
        "  if n1!=n2:\n",
        "    return 'Vectores con dimension distinta'\n",
        "  else:\n",
        "    s=0\n",
        "    for i in range(n1):\n",
        "      s+=l1[i]*l2[i]\n",
        "    return s"
      ],
      "metadata": {
        "id": "I4Gon9nep-fm"
      },
      "execution_count": null,
      "outputs": []
    },
    {
      "cell_type": "code",
      "source": [
        "punto([1,1,1],[2,2,2])"
      ],
      "metadata": {
        "colab": {
          "base_uri": "https://localhost:8080/"
        },
        "id": "yjb2EfbUq24Y",
        "outputId": "68844d9b-c310-41a8-83f2-dc6766af275e"
      },
      "execution_count": null,
      "outputs": [
        {
          "output_type": "execute_result",
          "data": {
            "text/plain": [
              "6"
            ]
          },
          "metadata": {},
          "execution_count": 37
        }
      ]
    },
    {
      "cell_type": "markdown",
      "source": [
        "Arreglos\n",
        "\n",
        "*   0-int,float\n",
        "*   1-lista,vector[] ai\n",
        "*   2-matriz aij\n",
        "*   3-matrices paralepípedas\n",
        "\n",
        "\n"
      ],
      "metadata": {
        "id": "bz9669qEtEaI"
      }
    },
    {
      "cell_type": "code",
      "source": [
        "import numpy #from libreria import *lo que queremos / import libreria /se puede poner un alias import numpy as np\n",
        "v1=numpy.array([1,2,3,4,5])\n",
        "v2=numpy.array([10,20,30,40,50])\n",
        "print(v1+v2)\n"
      ],
      "metadata": {
        "colab": {
          "base_uri": "https://localhost:8080/"
        },
        "id": "vmnIgkRjrp-a",
        "outputId": "3d079dce-36b8-4fe2-9866-bdc4588d4845"
      },
      "execution_count": null,
      "outputs": [
        {
          "output_type": "stream",
          "name": "stdout",
          "text": [
            "[11 22 33 44 55]\n"
          ]
        }
      ]
    },
    {
      "cell_type": "code",
      "source": [
        "import numpy as np\n",
        "v1=np.array([1,2,3,4,5],float) #complex y float me vuelven los elementos complejos o flotantes\n",
        "v2=np.array([10,20,30,40,50])\n",
        "#print(v1+v2)\n",
        "print(v1)\n",
        "print(v1*v2)"
      ],
      "metadata": {
        "colab": {
          "base_uri": "https://localhost:8080/"
        },
        "id": "JwglEde7u1Mg",
        "outputId": "b5c9f768-4114-4a49-e3e1-8c2ca2f20453"
      },
      "execution_count": null,
      "outputs": [
        {
          "output_type": "stream",
          "name": "stdout",
          "text": [
            "[1. 2. 3. 4. 5.]\n",
            "[ 10.  40.  90. 160. 250.]\n"
          ]
        }
      ]
    },
    {
      "cell_type": "code",
      "source": [
        "import numpy as n\n",
        "a1=n.zeros(3) #zeros nueva funcion, arreglo orden 1 dimension 3\n",
        "print(a1)\n",
        "a2=n.zeros([3,3])#arreglo de orden 3, dimension 3\n",
        "print(a2)\n",
        "a3=n.ones([5,5],complex) #matriz de 5x5 llena de unos , arreglo de orden 2, dimension 5/ a3=n.ones([5,5,5],complex)\n",
        "print(a3)\n",
        "a4=eye(4) #eye regresa la identidad, esta no se puede hacer compleja solo flotante por fuerza\n",
        "print(a4)\n"
      ],
      "metadata": {
        "id": "4O3SfgvRvekd"
      },
      "execution_count": null,
      "outputs": []
    },
    {
      "cell_type": "code",
      "source": [
        "#Funcion identidad compleja\n",
        "import numpy as np\n",
        "def comp(m):#dimension son matrices cuadradas\n",
        " Z=np.zeros([m,m],complex)\n",
        " for i in range(m):\n",
        "  for j in range(m):\n",
        "   if i==j:\n",
        "    Z[i,i]==1+j\n",
        "   else:\n",
        "    Z[i,j]==0\n",
        "  return Z\n"
      ],
      "metadata": {
        "id": "JbOO8d5vxItN"
      },
      "execution_count": null,
      "outputs": []
    },
    {
      "cell_type": "code",
      "source": [
        "print(comp(3))"
      ],
      "metadata": {
        "id": "WCMOZxsOzkcL",
        "colab": {
          "base_uri": "https://localhost:8080/"
        },
        "outputId": "731235d6-e559-4d23-f5f1-d64b106d7056"
      },
      "execution_count": null,
      "outputs": [
        {
          "output_type": "stream",
          "name": "stdout",
          "text": [
            "[[0.+0.j 0.+0.j 0.+0.j]\n",
            " [0.+0.j 0.+0.j 0.+0.j]\n",
            " [0.+0.j 0.+0.j 0.+0.j]]\n"
          ]
        }
      ]
    },
    {
      "cell_type": "code",
      "source": [
        "#matriz con complejo conjugado tarea"
      ],
      "metadata": {
        "id": "K_tq1q5X0IK4"
      },
      "execution_count": null,
      "outputs": []
    },
    {
      "cell_type": "code",
      "source": [
        "import numpy as np\n",
        "k1=int(input('Da el numero de renglones'))\n",
        "k2=int(input('Da el numero de columnas'))\n",
        "A=np.empty([k1,k2],float)#tarea hacerla compleja y hacer la multiplicacion\n",
        "for i in range(k1):\n",
        "  for j in range(k2):\n",
        "    A[i,j]=float(input('Da el elemento (%d,%d)' %(i,j)))\n",
        "print(A)"
      ],
      "metadata": {
        "id": "Cq1HVpRd1RgV"
      },
      "execution_count": null,
      "outputs": []
    },
    {
      "cell_type": "code",
      "source": [
        "def suma(A1,A2): #Tarea nosotros la multilpicacion\n",
        " r1=len(A1) #print(len(A[0])) me da el numero de columnas de la matriz o de elementos de la lista A[0] y print(len(A)) me da el numero de listas que tiene A\n",
        " c1=len(A1[0]) #cuanto columnas\n",
        " r2=len(A2)\n",
        " c2=len(A2[0]) #Supongo que las matrices tienen la misma dimension por eso no me fijo ahorita en r2 y c2\n",
        " s=0\n",
        " C=np.empty([r1,c1]) #En esta matriz voy a guardar todo\n",
        " for i in range(r1):\n",
        "  for j in range(c1):\n",
        "    C[i,j]=A1[i,j]+A2[i,j]\n",
        " return C\n"
      ],
      "metadata": {
        "id": "VRxhU9pl3bgT"
      },
      "execution_count": null,
      "outputs": []
    },
    {
      "cell_type": "code",
      "source": [
        "M1=np.array([[1,2,3],[4,5,6]])\n",
        "M2=np.array([[10,20,30],[40,50,60]])\n",
        "print(suma(A1,A2))"
      ],
      "metadata": {
        "colab": {
          "base_uri": "https://localhost:8080/"
        },
        "id": "7BOmUpE96Sl1",
        "outputId": "dd85ce0c-db9a-4aed-8956-0cec8090476a"
      },
      "execution_count": null,
      "outputs": [
        {
          "output_type": "stream",
          "name": "stdout",
          "text": [
            "[[11. 22. 33.]\n",
            " [44. 55. 66.]]\n"
          ]
        }
      ]
    },
    {
      "cell_type": "code",
      "source": [
        "def sumac(A1,A2): #Tarea nosotros la multilpicacion\n",
        " r1=len(A1) #print(len(A[0])) me da el numero de columnas de la matriz o de elementos de la lista A[0] y print(len(A)) me da el numero de listas que tiene A\n",
        " c1=len(A1[0]) #cuanto columnas\n",
        " r2=len(A2)\n",
        " c2=len(A2[0]) #Supongo que las matrices tienen la misma dimension por eso no me fijo ahorita en r2 y c2\n",
        " s=0\n",
        " C=np.empty([r1,c1]) #En esta matriz voy a guardar todo\n",
        " if r1!=r2 or c1!=c2:\n",
        "  return print('No se pueden sumar')\n",
        " else:\n",
        "  for i in range(r1):\n",
        "   for j in range(c1):\n",
        "     C[i,j]=A1[i,j]+A2[i,j]\n",
        "  return C"
      ],
      "metadata": {
        "id": "XblYjciq64zB"
      },
      "execution_count": null,
      "outputs": []
    },
    {
      "cell_type": "code",
      "source": [
        "M1=np.eye(4)\n",
        "M2=np.zeros([4,4])\n",
        "print(sumac(M1,M2))"
      ],
      "metadata": {
        "colab": {
          "base_uri": "https://localhost:8080/"
        },
        "id": "Bl7lVVSF7Wy8",
        "outputId": "80e23b71-a947-40a4-e802-5e24908a7f01"
      },
      "execution_count": null,
      "outputs": [
        {
          "output_type": "stream",
          "name": "stdout",
          "text": [
            "[[1. 0. 0. 0.]\n",
            " [0. 1. 0. 0.]\n",
            " [0. 0. 1. 0.]\n",
            " [0. 0. 0. 1.]]\n"
          ]
        }
      ]
    },
    {
      "cell_type": "code",
      "source": [
        "def mult(A1,A2): #Multiplicacion de matrices\n",
        " r1=len(A1)\n",
        " c2=len(A2[0])\n",
        " c1=len(A1[0])\n",
        " r2=len(A2)\n",
        " if c1!=r2:\n",
        "  return 'No se puede hacer el producto'\n",
        " else:\n",
        "  C=np.empty([r1,c2])\n",
        "  for i in range(r1):\n",
        "   for j in range(c2):\n",
        "    for k in range(c1):\n",
        "       C[1,j]=+A1[i,k]*A2[k,j]\n",
        "  return C"
      ],
      "metadata": {
        "id": "8WML_RBf7rDe"
      },
      "execution_count": null,
      "outputs": []
    },
    {
      "cell_type": "code",
      "source": [
        "A=ones([100,100],float)\n",
        "B=ones([100,100],float)\n",
        "print(mult(A,B))"
      ],
      "metadata": {
        "id": "UsM7zLM0JNrQ"
      },
      "execution_count": null,
      "outputs": []
    },
    {
      "cell_type": "code",
      "source": [
        "#manera de medir el tiempo de computo\n",
        "#print(np.dot(A,B))\n",
        "import time\n",
        "import numpy as np\n",
        "t0=time.time() #Tiempo inicial\n",
        "A=ones([100,100],float)\n",
        "B=ones([100,100],float) #pasos 2N^3 2*100^3\n",
        "C=zeros([100,100],float)\n",
        "for i in range(100):\n",
        "  for j in range(100):\n",
        "   for k in range(100):\n",
        "       C[1,j]=+A[i,k]*B[k,j]#tiempo polinomial 2*100*100*100, el 2 es porque se suma y luego se multiplica, dos pasos\n",
        "print('---tiempo %s'%(time.time()-t0)) #diferencia de tiempos\n",
        "#Cada vez que haga un algoritmo debo dar el numero de pasos o el tiempo polinomial, p=np"
      ],
      "metadata": {
        "colab": {
          "base_uri": "https://localhost:8080/"
        },
        "id": "BVS6dxtyF52T",
        "outputId": "a26325e5-9621-48ce-dd42-e6088858fb7b"
      },
      "execution_count": null,
      "outputs": [
        {
          "output_type": "stream",
          "name": "stdout",
          "text": [
            "---tiempo 0.6924252510070801\n"
          ]
        }
      ]
    },
    {
      "cell_type": "code",
      "source": [
        "#Examen 5 marzo\n",
        "#Tarea leer e investigar sobre el capitulo np, donde np aparece en los simpson y en futurama, problema del vendedor ambulante, el de los basquetbolistas y el cambio de cuerpos"
      ],
      "metadata": {
        "id": "15mfYpMVIqoF"
      },
      "execution_count": null,
      "outputs": []
    }
  ]
}