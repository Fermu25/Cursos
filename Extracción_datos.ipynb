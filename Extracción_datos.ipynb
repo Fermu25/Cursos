{
  "nbformat": 4,
  "nbformat_minor": 0,
  "metadata": {
    "colab": {
      "provenance": [],
      "authorship_tag": "ABX9TyMoSe2qTCXa6/FPARQeIJuk",
      "include_colab_link": true
    },
    "kernelspec": {
      "name": "python3",
      "display_name": "Python 3"
    },
    "language_info": {
      "name": "python"
    }
  },
  "cells": [
    {
      "cell_type": "markdown",
      "metadata": {
        "id": "view-in-github",
        "colab_type": "text"
      },
      "source": [
        "<a href=\"https://colab.research.google.com/github/Fermu25/Cursos/blob/main/Extracci%C3%B3n_datos.ipynb\" target=\"_parent\"><img src=\"https://colab.research.google.com/assets/colab-badge.svg\" alt=\"Open In Colab\"/></a>"
      ]
    },
    {
      "cell_type": "code",
      "source": [
        "pip install pdfplumber openpyxl"
      ],
      "metadata": {
        "colab": {
          "base_uri": "https://localhost:8080/"
        },
        "id": "IO-_jkXlyg4q",
        "outputId": "459a51c7-cd6f-4a19-e783-8dba4390ced6"
      },
      "execution_count": 1,
      "outputs": [
        {
          "output_type": "stream",
          "name": "stdout",
          "text": [
            "Collecting pdfplumber\n",
            "  Downloading pdfplumber-0.11.7-py3-none-any.whl.metadata (42 kB)\n",
            "\u001b[?25l     \u001b[90m━━━━━━━━━━━━━━━━━━━━━━━━━━━━━━━━━━━━━━━━\u001b[0m \u001b[32m0.0/42.8 kB\u001b[0m \u001b[31m?\u001b[0m eta \u001b[36m-:--:--\u001b[0m\r\u001b[2K     \u001b[90m━━━━━━━━━━━━━━━━━━━━━━━━━━━━━━━━━━━━━━━━\u001b[0m \u001b[32m42.8/42.8 kB\u001b[0m \u001b[31m1.8 MB/s\u001b[0m eta \u001b[36m0:00:00\u001b[0m\n",
            "\u001b[?25hRequirement already satisfied: openpyxl in /usr/local/lib/python3.12/dist-packages (3.1.5)\n",
            "Collecting pdfminer.six==20250506 (from pdfplumber)\n",
            "  Downloading pdfminer_six-20250506-py3-none-any.whl.metadata (4.2 kB)\n",
            "Requirement already satisfied: Pillow>=9.1 in /usr/local/lib/python3.12/dist-packages (from pdfplumber) (11.3.0)\n",
            "Collecting pypdfium2>=4.18.0 (from pdfplumber)\n",
            "  Downloading pypdfium2-4.30.0-py3-none-manylinux_2_17_x86_64.manylinux2014_x86_64.whl.metadata (48 kB)\n",
            "\u001b[2K     \u001b[90m━━━━━━━━━━━━━━━━━━━━━━━━━━━━━━━━━━━━━━━━\u001b[0m \u001b[32m48.5/48.5 kB\u001b[0m \u001b[31m2.7 MB/s\u001b[0m eta \u001b[36m0:00:00\u001b[0m\n",
            "\u001b[?25hRequirement already satisfied: charset-normalizer>=2.0.0 in /usr/local/lib/python3.12/dist-packages (from pdfminer.six==20250506->pdfplumber) (3.4.3)\n",
            "Requirement already satisfied: cryptography>=36.0.0 in /usr/local/lib/python3.12/dist-packages (from pdfminer.six==20250506->pdfplumber) (43.0.3)\n",
            "Requirement already satisfied: et-xmlfile in /usr/local/lib/python3.12/dist-packages (from openpyxl) (2.0.0)\n",
            "Requirement already satisfied: cffi>=1.12 in /usr/local/lib/python3.12/dist-packages (from cryptography>=36.0.0->pdfminer.six==20250506->pdfplumber) (1.17.1)\n",
            "Requirement already satisfied: pycparser in /usr/local/lib/python3.12/dist-packages (from cffi>=1.12->cryptography>=36.0.0->pdfminer.six==20250506->pdfplumber) (2.22)\n",
            "Downloading pdfplumber-0.11.7-py3-none-any.whl (60 kB)\n",
            "\u001b[2K   \u001b[90m━━━━━━━━━━━━━━━━━━━━━━━━━━━━━━━━━━━━━━━━\u001b[0m \u001b[32m60.0/60.0 kB\u001b[0m \u001b[31m3.5 MB/s\u001b[0m eta \u001b[36m0:00:00\u001b[0m\n",
            "\u001b[?25hDownloading pdfminer_six-20250506-py3-none-any.whl (5.6 MB)\n",
            "\u001b[2K   \u001b[90m━━━━━━━━━━━━━━━━━━━━━━━━━━━━━━━━━━━━━━━━\u001b[0m \u001b[32m5.6/5.6 MB\u001b[0m \u001b[31m52.2 MB/s\u001b[0m eta \u001b[36m0:00:00\u001b[0m\n",
            "\u001b[?25hDownloading pypdfium2-4.30.0-py3-none-manylinux_2_17_x86_64.manylinux2014_x86_64.whl (2.8 MB)\n",
            "\u001b[2K   \u001b[90m━━━━━━━━━━━━━━━━━━━━━━━━━━━━━━━━━━━━━━━━\u001b[0m \u001b[32m2.8/2.8 MB\u001b[0m \u001b[31m76.7 MB/s\u001b[0m eta \u001b[36m0:00:00\u001b[0m\n",
            "\u001b[?25hInstalling collected packages: pypdfium2, pdfminer.six, pdfplumber\n",
            "Successfully installed pdfminer.six-20250506 pdfplumber-0.11.7 pypdfium2-4.30.0\n"
          ]
        }
      ]
    },
    {
      "cell_type": "code",
      "source": [
        "# -*- coding: utf-8 -*-\n",
        "import re\n",
        "import pdfplumber\n",
        "import pandas as pd\n",
        "\n",
        "PDF_PATH = \"20250909-1638 Cotización.pdf\"   # ajusta si tu archivo se llama distinto\n",
        "OUT_XLSX = \"Cotizacion_completa.xlsx\"\n",
        "\n",
        "money_rx = re.compile(r\"^\\$?\\d{1,3}(?:,\\d{3})*(?:\\.\\d{2})$\")\n",
        "int_rx   = re.compile(r\"^\\d+$\")\n",
        "sku_rx   = re.compile(r\"^[A-Za-z0-9_.\\-]+$\")\n",
        "\n",
        "# Líneas de encabezado/ruido que NO son parte del producto\n",
        "noise_patterns = [\n",
        "    r\"\\bCOTIZACIÓN\\b\", r\"\\bDIRIGIDO\\b\", r\"\\bRFC\\b\", r\"https?://\",\n",
        "    r\"\\bVigencia\\b\", r\"\\bTITULAR\\b\", r\"\\bBANCO\\b\", r\"\\bCUENTA\\b\",\n",
        "    r\"\\bCLAVE\\b\", r\"\\bSUBTOTAL\\b\", r\"\\bIVA\\b\", r\"\\bTOTAL\\b\",\n",
        "    r\"\\bUNIT ELECTRONICS\\b\", r\"\\bCiudad de México\\b\", r\"\\bTERMINOS\\b\", r\"\\bcondiciones\\b\"\n",
        "]\n",
        "noise_rx = re.compile(\"|\".join(noise_patterns), re.IGNORECASE)\n",
        "\n",
        "def tokens_from_line(line_words):\n",
        "    return [w[\"text\"] for w in sorted(line_words, key=lambda w: w[\"x0\"])]\n",
        "\n",
        "def is_core_line(toks):\n",
        "    # línea “núcleo” = empieza con partida (entero) y tiene al menos 2 importes ($x)\n",
        "    return bool(toks and int_rx.match(toks[0]) and sum(1 for t in toks if money_rx.match(t)) >= 2)\n",
        "\n",
        "def parse_core_line(toks):\n",
        "    # estructura: [partida, ..., SKU, cantidad, precio, total]\n",
        "    money_idx = [i for i, t in enumerate(toks) if money_rx.match(t)]\n",
        "    if len(money_idx) < 2:\n",
        "        return None\n",
        "    total_i = money_idx[-1]\n",
        "    price_i = money_idx[-2]\n",
        "    if price_i - 1 < 0:\n",
        "        return None\n",
        "    cantidad_tok = toks[price_i - 1]\n",
        "    if not int_rx.match(cantidad_tok):\n",
        "        return None\n",
        "    if price_i - 2 < 0:\n",
        "        return None\n",
        "    sku_tok = toks[price_i - 2]\n",
        "    if not sku_rx.match(sku_tok):\n",
        "        return None\n",
        "    if not int_rx.match(toks[0]):\n",
        "        return None\n",
        "    partida = int(toks[0])\n",
        "    prod_tokens = toks[1:price_i-2]  # entre Partida y SKU\n",
        "    return {\n",
        "        \"partida\": partida,\n",
        "        \"sku\": sku_tok,\n",
        "        \"cantidad\": int(cantidad_tok),\n",
        "        \"precio\": toks[price_i],\n",
        "        \"total\": toks[total_i],\n",
        "        \"prod_core\": \" \".join(prod_tokens).strip()\n",
        "    }\n",
        "\n",
        "def join_clean(parts):\n",
        "    s = \" \".join([p.strip() for p in parts if p and p.strip()])\n",
        "    s = re.sub(r\"\\s+\", \" \", s).strip()\n",
        "    return s\n",
        "\n",
        "def looks_like_noise(line_text):\n",
        "    return bool(noise_rx.search(line_text))\n",
        "\n",
        "rows = []\n",
        "\n",
        "with pdfplumber.open(PDF_PATH) as pdf:\n",
        "    for page in pdf.pages:\n",
        "        words = page.extract_words(x_tolerance=1, y_tolerance=1, keep_blank_chars=False, use_text_flow=True)\n",
        "        # agrupar por renglón con tolerancia vertical\n",
        "        words_sorted = sorted(words, key=lambda w: (round(w[\"top\"],1), w[\"x0\"]))\n",
        "        lines, cur, cur_y = [], [], None\n",
        "        for w in words_sorted:\n",
        "            y = w[\"top\"]\n",
        "            if cur and abs(y - cur_y) > 2.5:\n",
        "                lines.append(cur); cur = [w]; cur_y = y\n",
        "            else:\n",
        "                if not cur: cur_y = y\n",
        "                cur.append(w)\n",
        "        if cur: lines.append(cur)\n",
        "\n",
        "        token_lines = [tokens_from_line(ln) for ln in lines]\n",
        "        core_indices = [i for i, toks in enumerate(token_lines) if is_core_line(toks) and parse_core_line(toks)]\n",
        "\n",
        "        for i in core_indices:\n",
        "            parsed = parse_core_line(token_lines[i])\n",
        "            if not parsed:\n",
        "                continue\n",
        "\n",
        "            # contexto PRE: líneas previas que no empiezan con número/importe y no son ruido\n",
        "            pre_parts, j = [], i - 1\n",
        "            while j >= 0:\n",
        "                t = token_lines[j]\n",
        "                starts_num = bool(t and int_rx.match(t[0]))\n",
        "                has_money  = any(money_rx.match(x) for x in t)\n",
        "                line_txt   = \" \".join(t)\n",
        "                if starts_num or has_money:\n",
        "                    break\n",
        "                if not looks_like_noise(line_txt):\n",
        "                    pre_parts.insert(0, line_txt)\n",
        "                j -= 1\n",
        "\n",
        "            # contexto POST: igual regla\n",
        "            post_parts, k = [], i + 1\n",
        "            while k < len(token_lines):\n",
        "                t = token_lines[k]\n",
        "                starts_num = bool(t and int_rx.match(t[0]))\n",
        "                has_money  = any(money_rx.match(x) for x in t)\n",
        "                line_txt   = \" \".join(t)\n",
        "                if starts_num or has_money:\n",
        "                    break\n",
        "                if not looks_like_noise(line_txt):\n",
        "                    post_parts.append(line_txt)\n",
        "                k += 1\n",
        "\n",
        "            producto = join_clean(pre_parts + [parsed[\"prod_core\"]] + post_parts)\n",
        "\n",
        "            rows.append({\n",
        "                \"Partida\": parsed[\"partida\"],\n",
        "                \"Producto\": producto,\n",
        "                \"SKU\": parsed[\"sku\"],\n",
        "                \"Cantidad\": parsed[\"cantidad\"],\n",
        "                \"Precio Unitario\": float(parsed[\"precio\"].replace(\"$\",\"\").replace(\",\",\"\")),\n",
        "                \"Total\": float(parsed[\"total\"].replace(\"$\",\"\").replace(\",\",\"\")),\n",
        "            })\n",
        "\n",
        "df = pd.DataFrame(rows).sort_values([\"Partida\", \"SKU\"]).reset_index(drop=True)\n",
        "\n",
        "# Exporta\n",
        "df.to_excel(OUT_XLSX, index=False)\n",
        "\n",
        "# Resumen útil en consola\n",
        "print(f\"✔ Exportado: {OUT_XLSX}\")\n",
        "print(f\"Filas: {len(df)}, Partidas únicas: {df['Partida'].nunique()}\")\n",
        "print(\"Suma Total (calculada):\", round(df[\"Total\"].sum(), 2))\n"
      ],
      "metadata": {
        "colab": {
          "base_uri": "https://localhost:8080/"
        },
        "id": "q0hDr7K-yisF",
        "outputId": "591e37ce-36c5-4db5-c3ee-cd69e48a9023"
      },
      "execution_count": 6,
      "outputs": [
        {
          "output_type": "stream",
          "name": "stderr",
          "text": [
            "WARNING:pdfminer.pdffont:Could get FontBBox from font descriptor because None cannot be parsed as 4 floats\n",
            "WARNING:pdfminer.pdffont:Could get FontBBox from font descriptor because None cannot be parsed as 4 floats\n"
          ]
        },
        {
          "output_type": "stream",
          "name": "stdout",
          "text": [
            "✔ Exportado: Cotizacion_completa.xlsx\n",
            "Filas: 272, Partidas únicas: 272\n",
            "Suma Total (calculada): 399368.65\n"
          ]
        }
      ]
    }
  ]
}