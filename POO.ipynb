{
  "nbformat": 4,
  "nbformat_minor": 0,
  "metadata": {
    "colab": {
      "provenance": [],
      "include_colab_link": true
    },
    "kernelspec": {
      "name": "python3",
      "display_name": "Python 3"
    },
    "language_info": {
      "name": "python"
    }
  },
  "cells": [
    {
      "cell_type": "markdown",
      "metadata": {
        "id": "view-in-github",
        "colab_type": "text"
      },
      "source": [
        "<a href=\"https://colab.research.google.com/github/Fermu25/Cursos/blob/main/POO.ipynb\" target=\"_parent\"><img src=\"https://colab.research.google.com/assets/colab-badge.svg\" alt=\"Open In Colab\"/></a>"
      ]
    },
    {
      "cell_type": "markdown",
      "metadata": {
        "id": "5eas1mNgI8Cz"
      },
      "source": [
        "#Programación orientada a objetos (POO)"
      ]
    },
    {
      "cell_type": "code",
      "metadata": {
        "id": "o_23FB27FvNg",
        "colab": {
          "base_uri": "https://localhost:8080/"
        },
        "outputId": "3521675c-55ee-478d-c9d5-b1a7938c4ca2"
      },
      "source": [
        "galleta = {\"sabor\":\"vainilla\", \"cubierta\":\"chocolate\", \"relleno\":\"mermelada\"}\n",
        "print(galleta)\n",
        "print(dir(galleta))"
      ],
      "execution_count": null,
      "outputs": [
        {
          "output_type": "stream",
          "text": [
            "{'sabor': 'vainilla', 'cubierta': 'chocolate', 'relleno': 'mermelada'}\n",
            "['__class__', '__contains__', '__delattr__', '__delitem__', '__dir__', '__doc__', '__eq__', '__format__', '__ge__', '__getattribute__', '__getitem__', '__gt__', '__hash__', '__init__', '__init_subclass__', '__iter__', '__le__', '__len__', '__lt__', '__ne__', '__new__', '__reduce__', '__reduce_ex__', '__repr__', '__setattr__', '__setitem__', '__sizeof__', '__str__', '__subclasshook__', 'clear', 'copy', 'fromkeys', 'get', 'items', 'keys', 'pop', 'popitem', 'setdefault', 'update', 'values']\n"
          ],
          "name": "stdout"
        }
      ]
    },
    {
      "cell_type": "markdown",
      "metadata": {
        "id": "D5qsbAPKF-Ew"
      },
      "source": [
        "Y podemos mostarla en pantalla:"
      ]
    },
    {
      "cell_type": "code",
      "metadata": {
        "colab": {
          "base_uri": "https://localhost:8080/"
        },
        "id": "rmgl9SDDF6wa",
        "outputId": "bce2ec86-37a4-4602-d940-85eab2b42380"
      },
      "source": [
        "for key in galleta.keys():\n",
        "    print(\"{}: {}\".format(key, galleta[key]))\n",
        "print(\"\")\n"
      ],
      "execution_count": null,
      "outputs": [
        {
          "output_type": "stream",
          "text": [
            "sabor: vainilla\n",
            "cubierta: chocolate\n",
            "relleno: mermelada\n",
            "\n"
          ],
          "name": "stdout"
        }
      ]
    },
    {
      "cell_type": "markdown",
      "metadata": {
        "id": "n9XSbnwHGL77"
      },
      "source": [
        "Pero y si ahora quisiera crear muchas galletas de forma aleatoria ?\n",
        " Lo mejor sera crear una clase que servira de molde para crear nuestras galletas\n",
        "\n",
        "La palabra reservada class nos ayuda a crear una clase\n",
        " Galleta con G porque es como una galleta abstracta y primordial a las demas galletas\n",
        " () nos dice si heredara de otra clase, al poner object decimos que no heredara de ninguna clase previa\n"
      ]
    },
    {
      "cell_type": "code",
      "metadata": {
        "id": "wg7m8y--GEnY"
      },
      "source": [
        "class Galleta(object):\n",
        "    # Hagamos nuestra función para construir una galleta (para poder crear una instancia)\n",
        "    # El parametro self sera muy importante porque hara referencia al objeto una vez que este instanciado\n",
        "    # En la función también incluimos a los parametros que queremos agregar\n",
        "    def __init__(self, sabor, cubierta, relleno):\n",
        "        # Vamos a hacer que nuestro objeto, al crearlo, tenga los atributos que queriamos\n",
        "        # Y les daremos los valores que le pasamos\n",
        "        self.sabor = sabor\n",
        "        self.cubierta = cubierta\n",
        "        self.relleno = relleno\n"
      ],
      "execution_count": null,
      "outputs": []
    },
    {
      "cell_type": "markdown",
      "metadata": {
        "id": "qNPCxGf2GdTy"
      },
      "source": [
        " Para poder crear galletas de manera mas facil podemos hacer esto:\n"
      ]
    },
    {
      "cell_type": "code",
      "metadata": {
        "id": "d_RhiK7FGbMJ",
        "colab": {
          "base_uri": "https://localhost:8080/"
        },
        "outputId": "ea411a96-879c-4793-c670-e0955bfeeff9"
      },
      "source": [
        "galleta1 = Galleta(\"Vainilla\", \"Chocolate\", \"Mermelada\") # A este proceso se le llama instanciar la clase\n",
        "galleta2 = Galleta(\"Fresa\", \"Chocolate blanco\", \"Mermelada\") # A partir de ahora galleta1 y galleta2 son dos objetos de la misma clase\n",
        "\n",
        "print(galleta1)\n"
      ],
      "execution_count": null,
      "outputs": [
        {
          "output_type": "stream",
          "text": [
            "<__main__.Galleta object at 0x7f14ba38a210>\n"
          ],
          "name": "stdout"
        }
      ]
    },
    {
      "cell_type": "markdown",
      "metadata": {
        "id": "2y2DQvX_GqqN"
      },
      "source": [
        " E imprimamoslo en pantalla"
      ]
    },
    {
      "cell_type": "code",
      "metadata": {
        "colab": {
          "base_uri": "https://localhost:8080/"
        },
        "id": "NW5_d_mKGmeT",
        "outputId": "33686be5-8708-45f2-e687-59a8a0d1d1a9"
      },
      "source": [
        "#galleta1.sabor = \"chocolate\"\n",
        "\n",
        "print(\"Sabor: {}\".format(galleta1.sabor))\n",
        "print(\"Cubierta: {}\".format(galleta1.cubierta))\n",
        "print(\"Relleno: {}\".format(galleta1.relleno))\n",
        "print(\"\")\n",
        "print(\"Sabor: {}\".format(galleta2.sabor))\n",
        "print(\"Cubierta: {}\".format(galleta2.cubierta))\n",
        "print(\"Relleno: {}\".format(galleta2.relleno))\n"
      ],
      "execution_count": null,
      "outputs": [
        {
          "output_type": "stream",
          "text": [
            "Sabor: chocolate\n",
            "Cubierta: Chocolate\n",
            "Relleno: Mermelada\n",
            "\n",
            "Sabor: Fresa\n",
            "Cubierta: Chocolate blanco\n",
            "Relleno: Mermelada\n"
          ],
          "name": "stdout"
        }
      ]
    },
    {
      "cell_type": "markdown",
      "metadata": {
        "id": "i7S4v9PMG0sj"
      },
      "source": [
        "Ahora, hagamoslo de forma aleatoria y en masa.\n",
        " importamos random para poder escoger de manera aleatoria"
      ]
    },
    {
      "cell_type": "code",
      "metadata": {
        "id": "UvbGtz1HGvxK"
      },
      "source": [
        "import random"
      ],
      "execution_count": null,
      "outputs": []
    },
    {
      "cell_type": "markdown",
      "metadata": {
        "id": "7C3ykQd3G_wH"
      },
      "source": [
        "Creemos unas opciones para sabores, cubiertas y rellenos\n"
      ]
    },
    {
      "cell_type": "code",
      "metadata": {
        "id": "piAlblqqG8CY"
      },
      "source": [
        "sabores = [\"Vainilla\", \"Chocolate\", \"Fresa\", \"Limón\"]\n",
        "cubiertas = [\"Chocolate\", \"Chocolate blanco\", \"Coco\"]\n",
        "rellenos = [\"Mermelada\", \"Chocolate\"]\n"
      ],
      "execution_count": null,
      "outputs": []
    },
    {
      "cell_type": "markdown",
      "metadata": {
        "id": "3inlRdZgHHr-"
      },
      "source": [
        "Hagamos un tazón con muchas galletas aleatorias:\n",
        "\n",
        "\n"
      ]
    },
    {
      "cell_type": "code",
      "metadata": {
        "id": "TGGdGUzbHEpN"
      },
      "source": [
        "tazon = [ Galleta(random.choice(sabores), random.choice(cubiertas), random.choice(rellenos)) for _ in range(10) ]\n"
      ],
      "execution_count": null,
      "outputs": []
    },
    {
      "cell_type": "markdown",
      "metadata": {
        "id": "7HE6bBzPHZHq"
      },
      "source": [
        "Ahora imprimamos las galletas y enumeremoslas :D\n"
      ]
    },
    {
      "cell_type": "code",
      "metadata": {
        "colab": {
          "base_uri": "https://localhost:8080/"
        },
        "id": "C865tjzVHf_Q",
        "outputId": "e5b1dfcf-cd52-4e1f-e639-627c3fdaad12"
      },
      "source": [
        "for index, galleta in enumerate(tazon):\n",
        "    print(index)\n",
        "    print(\"Sabor: {}\".format(galleta.sabor))\n",
        "    print(\"Cubierta: {}\".format(galleta.cubierta))\n",
        "    print(\"Relleno: {}\".format(galleta.relleno))\n",
        "    print(\"\")\n"
      ],
      "execution_count": null,
      "outputs": [
        {
          "output_type": "stream",
          "text": [
            "0\n",
            "Sabor: Fresa\n",
            "Cubierta: Chocolate blanco\n",
            "Relleno: Mermelada\n",
            "\n",
            "1\n",
            "Sabor: Fresa\n",
            "Cubierta: Coco\n",
            "Relleno: Chocolate\n",
            "\n",
            "2\n",
            "Sabor: Chocolate\n",
            "Cubierta: Coco\n",
            "Relleno: Mermelada\n",
            "\n",
            "3\n",
            "Sabor: Vainilla\n",
            "Cubierta: Chocolate\n",
            "Relleno: Mermelada\n",
            "\n",
            "4\n",
            "Sabor: Chocolate\n",
            "Cubierta: Coco\n",
            "Relleno: Chocolate\n",
            "\n",
            "5\n",
            "Sabor: Chocolate\n",
            "Cubierta: Coco\n",
            "Relleno: Mermelada\n",
            "\n",
            "6\n",
            "Sabor: Fresa\n",
            "Cubierta: Chocolate\n",
            "Relleno: Mermelada\n",
            "\n",
            "7\n",
            "Sabor: Chocolate\n",
            "Cubierta: Coco\n",
            "Relleno: Mermelada\n",
            "\n",
            "8\n",
            "Sabor: Vainilla\n",
            "Cubierta: Chocolate\n",
            "Relleno: Mermelada\n",
            "\n",
            "9\n",
            "Sabor: Chocolate\n",
            "Cubierta: Chocolate blanco\n",
            "Relleno: Mermelada\n",
            "\n"
          ],
          "name": "stdout"
        }
      ]
    },
    {
      "cell_type": "markdown",
      "metadata": {
        "id": "ssR4LeIFHYrL"
      },
      "source": [
        "Ya tenemos un tazon con 10 galletas y no las tuvimos que hacer a mano :D\n",
        " Este es el gran poder de ahorro de codigo que nos permiten los objetos\n",
        "\n",
        " Para terminar este archivo, veamos uno de los pilares de la POO, la herencia\n",
        " Esto nos permitirá crear clases nuevas a partir de otras que ya existen\n",
        " Digamos que queremos hacer una clase para las galletas más deliciosas: las de vainilla, digamos:\n"
      ]
    },
    {
      "cell_type": "code",
      "metadata": {
        "id": "ocrW25jeHVaX"
      },
      "source": [
        "class Galleta_de_vainilla(Galleta): #Ahora dentro de los () ponemos Galleta porque heredara de la clase Galleta que creamos arriba\n",
        "    # Para hacer su constructor podemos basarnos en el que ya existe de la clase padre (Galleta)\n",
        "    # Y sobreescibir lo que tiene que hacer (A esto se le llama polimorfismo otra base de la POO)\n",
        "    def __init__(self, cubierta, relleno): # Ya no necesitamos recibir un sabor porque siempre será vainilla\n",
        "        # Llamamos al constructor de la clase padre con super().__init__\n",
        "        # super() sirve para llamar a los metodos de la clase padre, en este caso init\n",
        "        # Y para asegurarnos que el sabor sea de vainilla lo ponemos manualmente\n",
        "        super().__init__(\"Vainilla\", cubierta, relleno)\n",
        "    # Y digamos que ahora queremos crear un metodo en el que al comer la galleta nos diga que sabía a vainilla El parametro self es necesario al hacer metodos en una clase.\n",
        "    # Es necesario poner el paramtero self al definir metodos de una clase\n",
        "    def yummy(self):\n",
        "      print(\"hmmmm sabe a vainilla\")\n"
      ],
      "execution_count": null,
      "outputs": []
    },
    {
      "cell_type": "markdown",
      "metadata": {
        "id": "IDC8TN24IJ1u"
      },
      "source": [
        "Creemos una galleta de vainilla"
      ]
    },
    {
      "cell_type": "code",
      "metadata": {
        "id": "6uj0Y0mKH-Ar"
      },
      "source": [
        "galleta3 = Galleta_de_vainilla(\"Chocolate\", \"Mermelada\") # No pasamos el sabor"
      ],
      "execution_count": null,
      "outputs": []
    },
    {
      "cell_type": "markdown",
      "metadata": {
        "id": "iWZajvXrITt3"
      },
      "source": [
        "E imprimamos su información"
      ]
    },
    {
      "cell_type": "code",
      "metadata": {
        "colab": {
          "base_uri": "https://localhost:8080/"
        },
        "id": "xSyKeUyGIQq7",
        "outputId": "4747adca-1dcf-42e1-9518-33534981daf1"
      },
      "source": [
        "print(\"Sabor: {}\".format(galleta3.sabor))\n",
        "print(\"Cubierta: {}\".format(galleta3.cubierta))\n",
        "print(\"Relleno: {}\".format(galleta3.relleno))\n",
        "print(\"\")\n"
      ],
      "execution_count": null,
      "outputs": [
        {
          "output_type": "stream",
          "text": [
            "Sabor: Vainilla\n",
            "Cubierta: Chocolate\n",
            "Relleno: Mermelada\n",
            "\n"
          ],
          "name": "stdout"
        }
      ]
    },
    {
      "cell_type": "markdown",
      "metadata": {
        "id": "7ovzea_9IeKd"
      },
      "source": [
        "Y comamosla"
      ]
    },
    {
      "cell_type": "code",
      "metadata": {
        "colab": {
          "base_uri": "https://localhost:8080/"
        },
        "id": "FwtA9jnHIXzq",
        "outputId": "bcc799cc-4524-4c21-e0c0-8a527e9fbe07"
      },
      "source": [
        "galleta3.yummy() # Es una función así que son necesarios los ()\n"
      ],
      "execution_count": null,
      "outputs": [
        {
          "output_type": "stream",
          "text": [
            "hmmmm sabe a vainilla\n"
          ],
          "name": "stdout"
        }
      ]
    },
    {
      "cell_type": "markdown",
      "metadata": {
        "id": "p-xWnbttIxGi"
      },
      "source": [
        "Y en cambio si quisieramos usar yummy() con un objeto de la clase Galleta como galleta1, recibiremos un error\n",
        " Esto porque yummy solo es un metodo que tienen las Galleta_de_vainilla como galleta3\n",
        " galleta1.yummy()"
      ]
    },
    {
      "cell_type": "code",
      "metadata": {
        "id": "TE2dyX1kIiKV",
        "colab": {
          "base_uri": "https://localhost:8080/",
          "height": 148
        },
        "outputId": "abe9bbff-8345-46be-d44f-055342b22b91"
      },
      "source": [
        "galleta1.yummy()"
      ],
      "execution_count": 1,
      "outputs": [
        {
          "output_type": "error",
          "ename": "NameError",
          "evalue": "name 'galleta1' is not defined",
          "traceback": [
            "\u001b[0;31m---------------------------------------------------------------------------\u001b[0m",
            "\u001b[0;31mNameError\u001b[0m                                 Traceback (most recent call last)",
            "\u001b[0;32m/tmp/ipython-input-1246825571.py\u001b[0m in \u001b[0;36m<cell line: 0>\u001b[0;34m()\u001b[0m\n\u001b[0;32m----> 1\u001b[0;31m \u001b[0mgalleta1\u001b[0m\u001b[0;34m.\u001b[0m\u001b[0myummy\u001b[0m\u001b[0;34m(\u001b[0m\u001b[0;34m)\u001b[0m\u001b[0;34m\u001b[0m\u001b[0;34m\u001b[0m\u001b[0m\n\u001b[0m",
            "\u001b[0;31mNameError\u001b[0m: name 'galleta1' is not defined"
          ]
        }
      ]
    },
    {
      "cell_type": "code",
      "metadata": {
        "id": "mmmY-k3Hav2N"
      },
      "source": [
        "class Postres(object):\n",
        "  def __init__(self, resposteria, horneados, sabor, cubierta, relleno, textura):\n",
        "    self.resposteria = resposteria\n",
        "    self.horneados = horneados\n",
        "    self.sabor = sabor\n",
        "    self.cubierta = cubierta\n",
        "    self.relleno = relleno\n",
        "    self.textura = textura\n"
      ],
      "execution_count": null,
      "outputs": []
    },
    {
      "cell_type": "code",
      "metadata": {
        "id": "PQDnvVWLbkG_"
      },
      "source": [
        "class Galleta(Postres):\n",
        "    # Hagamos nuestra función para construir una galleta (para poder crear una instancia)\n",
        "    # El parametro self sera muy importante porque hara referencia al objeto una vez que este instanciado\n",
        "    # En la función también incluimos a los parametros que queremos agregar\n",
        "    def __init__(self, sabor, cubierta, relleno):\n",
        "        # Vamos a hacer que nuestro objeto, al crearlo, tenga los atributos que queriamos\n",
        "        # Y les daremos los valores que le pasamos\n",
        "        super().__init__(True, True, sabor, cubierta, relleno, \"Suavecitas\")\n",
        ""
      ],
      "execution_count": null,
      "outputs": []
    },
    {
      "cell_type": "code",
      "metadata": {
        "id": "G3Uito60b2mc"
      },
      "source": [
        "galleta4 = Galleta(\"vainilla\", \"chocolate\", \"crema\")"
      ],
      "execution_count": null,
      "outputs": []
    },
    {
      "cell_type": "code",
      "metadata": {
        "colab": {
          "base_uri": "https://localhost:8080/"
        },
        "id": "qLukQTfmb9tL",
        "outputId": "7897182e-357c-45f5-ad79-b2c7a37dc49b"
      },
      "source": [
        "print(galleta4.textura)\n"
      ],
      "execution_count": null,
      "outputs": [
        {
          "output_type": "stream",
          "text": [
            "Suavecitas\n"
          ],
          "name": "stdout"
        }
      ]
    }
  ]
}