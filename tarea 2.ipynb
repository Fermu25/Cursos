{
  "nbformat": 4,
  "nbformat_minor": 0,
  "metadata": {
    "colab": {
      "provenance": [],
      "authorship_tag": "ABX9TyN9syveW9WJ9+WiYxP52jaq",
      "include_colab_link": true
    },
    "kernelspec": {
      "name": "python3",
      "display_name": "Python 3"
    },
    "language_info": {
      "name": "python"
    }
  },
  "cells": [
    {
      "cell_type": "markdown",
      "metadata": {
        "id": "view-in-github",
        "colab_type": "text"
      },
      "source": [
        "<a href=\"https://colab.research.google.com/github/Fermu25/Cursos/blob/main/tarea%202.ipynb\" target=\"_parent\"><img src=\"https://colab.research.google.com/assets/colab-badge.svg\" alt=\"Open In Colab\"/></a>"
      ]
    },
    {
      "cell_type": "code",
      "execution_count": 1,
      "metadata": {
        "id": "zaGpVxosWRjQ",
        "colab": {
          "base_uri": "https://localhost:8080/"
        },
        "outputId": "68c40fdc-ed21-427e-9440-ff559e3473f5"
      },
      "outputs": [
        {
          "output_type": "stream",
          "name": "stdout",
          "text": [
            "Registros: 10000 — Longitud de vector: 784 (esperado: 784)\n"
          ]
        }
      ],
      "source": [
        "# ====================================\n",
        "# Ejercicio 1\n",
        "# ====================================\n",
        "import csv, math\n",
        "import numpy as np\n",
        "import matplotlib.pyplot as plt\n",
        "\n",
        "# Cargar archivo CSV directamente\n",
        "labels = []\n",
        "dataset = []\n",
        "\n",
        "with open('mnist_version_corta.csv', 'r') as f:\n",
        "    reader = csv.reader(f)\n",
        "    for row in reader:\n",
        "        if len(row) == 785:\n",
        "            labels.append(int(row[0]))\n",
        "            dataset.append(list(map(int, row[1:])))\n",
        "\n",
        "print(f'Registros: {len(dataset)} — Longitud de vector: {len(dataset[0])} (esperado: 784)')\n"
      ]
    },
    {
      "cell_type": "code",
      "source": [
        "# ====================================\n",
        "# Ejercicio 2\n",
        "# ====================================\n",
        "labels_np = np.array(labels)\n",
        "data_np = np.array(dataset)\n",
        "print('Etiquetas en 0..9:', (labels_np.min() >= 0) and (labels_np.max() <= 9))\n",
        "print('Rango de píxeles 0..255:', (data_np.min() >= 0) and (data_np.max() <= 255))"
      ],
      "metadata": {
        "id": "9YoE0DfXXEct",
        "colab": {
          "base_uri": "https://localhost:8080/"
        },
        "outputId": "419a348f-6528-42ad-b7d3-277d009fdde4"
      },
      "execution_count": 2,
      "outputs": [
        {
          "output_type": "stream",
          "name": "stdout",
          "text": [
            "Etiquetas en 0..9: True\n",
            "Rango de píxeles 0..255: True\n"
          ]
        }
      ]
    },
    {
      "cell_type": "code",
      "source": [
        "# ====================================\n",
        "# Ejercicio 3\n",
        "# ====================================\n",
        "k = 130\n",
        "idx = k - 1\n",
        "print('Etiqueta 130:', labels[idx])\n",
        "print('Primeros 20 píxeles:', dataset[idx][:20])\n",
        "print('Total de píxeles:', len(dataset[idx]))\n"
      ],
      "metadata": {
        "id": "VuoXMqkUXIER",
        "colab": {
          "base_uri": "https://localhost:8080/"
        },
        "outputId": "841b8a59-a6f5-42f0-9d1c-afcac8e5dbd2"
      },
      "execution_count": 3,
      "outputs": [
        {
          "output_type": "stream",
          "name": "stdout",
          "text": [
            "Etiqueta 130: 5\n",
            "Primeros 20 píxeles: [0, 0, 0, 0, 0, 0, 0, 0, 0, 0, 0, 0, 0, 0, 0, 0, 0, 0, 0, 0]\n",
            "Total de píxeles: 784\n"
          ]
        }
      ]
    },
    {
      "cell_type": "code",
      "source": [
        "# ====================================\n",
        "# Ejercicio 4\n",
        "# ====================================\n",
        "def get_char(pixel: int) -> str:\n",
        "    if 0 <= pixel < 64:   return \" \"\n",
        "    if 64 <= pixel < 128: return \".\"\n",
        "    if 128 <= pixel < 192:return \"*\"\n",
        "    if 192 <= pixel < 256:return \"#\"\n",
        "    return \"#\"\n",
        "\n",
        "def render_ascii(vec784: list) -> str:\n",
        "    return \"\\n\".join(\n",
        "        ''.join(get_char(vec784[28*i + j]) for j in range(28))\n",
        "        for i in range(28)\n",
        "    )\n",
        "\n",
        "print('Etiqueta:', labels[idx])\n",
        "print(render_ascii(dataset[idx]))\n"
      ],
      "metadata": {
        "id": "K5B6pvlXXVAA",
        "colab": {
          "base_uri": "https://localhost:8080/"
        },
        "outputId": "b3170ab2-eea1-462e-a1bf-e52fd2f51b24"
      },
      "execution_count": 4,
      "outputs": [
        {
          "output_type": "stream",
          "name": "stdout",
          "text": [
            "Etiqueta: 5\n",
            "                            \n",
            "                            \n",
            "                            \n",
            "                            \n",
            "                            \n",
            "              .#      **    \n",
            "             .##..*#####    \n",
            "            #########*.     \n",
            "           #####***.        \n",
            "          ##*               \n",
            "         *##                \n",
            "         ##                 \n",
            "        .##                 \n",
            "         ###*               \n",
            "         .#####.            \n",
            "            *###*           \n",
            "              *###*         \n",
            "                ###         \n",
            "                .##         \n",
            "                ###         \n",
            "              .###          \n",
            "        .    *###.          \n",
            "       .# .*###*            \n",
            "       .######.             \n",
            "        *##*.               \n",
            "                            \n",
            "                            \n",
            "                            \n"
          ]
        }
      ]
    },
    {
      "cell_type": "code",
      "source": [
        "# ====================================\n",
        "# Ejercicio 5\n",
        "# ====================================\n",
        "indices = [26, 30, 32, 35]\n",
        "idx0 = [k-1 for k in indices]\n",
        "X = np.array([dataset[i] for i in idx0], dtype=float)\n",
        "\n",
        "# Distancias manuales\n",
        "D = np.zeros((len(idx0), len(idx0)), dtype=float)\n",
        "for a in range(len(idx0)):\n",
        "    for b in range(len(idx0)):\n",
        "        if a == b:\n",
        "            D[a,b] = 0.0\n",
        "        elif a < b:\n",
        "            diff = X[a] - X[b]\n",
        "            D[a,b] = D[b,a] = math.sqrt(np.sum(diff*diff))\n",
        "\n",
        "print(\"Matriz distancias (manual):\")\n",
        "print(np.round(D, 1))\n",
        "\n",
        "# Con NumPy\n",
        "d_26_30 = np.linalg.norm(X[0] - X[1])\n",
        "print(f\"dist(26,30) con np.linalg.norm = {d_26_30:.6f}\")\n",
        "\n",
        "diff = X[:, None, :] - X[None, :, :]\n",
        "D_np = np.sqrt(np.sum(diff**2, axis=2))\n",
        "print(\"Matriz distancias (NumPy):\")\n",
        "print(np.round(D_np, 1))\n",
        "print(\"Coinciden manual y NumPy:\", np.allclose(D_np, D))\n"
      ],
      "metadata": {
        "id": "Qh5FcBaTXXDN",
        "colab": {
          "base_uri": "https://localhost:8080/"
        },
        "outputId": "4b6fe544-9f39-4ac0-f675-16c26aeb1f87"
      },
      "execution_count": 5,
      "outputs": [
        {
          "output_type": "stream",
          "name": "stdout",
          "text": [
            "Matriz distancias (manual):\n",
            "[[   0.  3539.2 3556.4 3223.2]\n",
            " [3539.2    0.  1171.8 2531. ]\n",
            " [3556.4 1171.8    0.  2515.6]\n",
            " [3223.2 2531.  2515.6    0. ]]\n",
            "dist(26,30) con np.linalg.norm = 3539.223220\n",
            "Matriz distancias (NumPy):\n",
            "[[   0.  3539.2 3556.4 3223.2]\n",
            " [3539.2    0.  1171.8 2531. ]\n",
            " [3556.4 1171.8    0.  2515.6]\n",
            " [3223.2 2531.  2515.6    0. ]]\n",
            "Coinciden manual y NumPy: True\n"
          ]
        }
      ]
    },
    {
      "cell_type": "code",
      "source": [
        "# ====================================\n",
        "# Ejercicio 6\n",
        "# ====================================\n",
        "min_val, min_pair = float('inf'), None\n",
        "for a in range(D.shape[0]):\n",
        "    for b in range(a+1, D.shape[1]):\n",
        "        if D[a,b] < min_val:\n",
        "            min_val, min_pair = D[a,b], (a,b)\n",
        "\n",
        "print(f'Par más cercano: {min_pair} — distancia = {min_val:.1f}')\n",
        "print('Índices 1-indexados:', [26,30,32,35][min_pair[0]], 'y', [26,30,32,35][min_pair[1]])\n",
        "print('Etiquetas reales:', [labels[i] for i in idx0])\n"
      ],
      "metadata": {
        "id": "0xJaD4E0Xadw",
        "colab": {
          "base_uri": "https://localhost:8080/"
        },
        "outputId": "822f7f1e-1069-45dc-958a-c7b4087bf415"
      },
      "execution_count": 6,
      "outputs": [
        {
          "output_type": "stream",
          "name": "stdout",
          "text": [
            "Par más cercano: (1, 2) — distancia = 1171.8\n",
            "Índices 1-indexados: 30 y 32\n",
            "Etiquetas reales: [0, 1, 1, 7]\n"
          ]
        }
      ]
    },
    {
      "cell_type": "code",
      "source": [
        "# ====================================\n",
        "# Ejercicio 7\n",
        "# ====================================\n",
        "X_all = np.array(dataset, dtype=np.uint16)\n",
        "y_all = np.array(labels, dtype=np.int16)\n",
        "\n",
        "mask0 = (y_all == 0)\n",
        "mask1 = (y_all == 1)\n",
        "X0, X1 = X_all[mask0], X_all[mask1]\n",
        "\n",
        "thr = 128\n",
        "Z = (X0 < thr).sum(axis=0)\n",
        "O = (X1 < thr).sum(axis=0)\n",
        "\n",
        "print('Total ceros:', int(mask0.sum()), '— Total unos:', int(mask1.sum()))\n",
        "\n",
        "def show_heatmap(vec784, title):\n",
        "    img = np.reshape(vec784, (28,28))\n",
        "    plt.figure()\n",
        "    plt.title(title)\n",
        "    plt.imshow(img, cmap='binary', interpolation='nearest')\n",
        "    plt.colorbar()\n",
        "    plt.axis('off')\n",
        "    plt.show()\n",
        "\n",
        "show_heatmap(Z, 'Z — Conteo clase 0')\n",
        "show_heatmap(O, 'O — Conteo clase 1')\n",
        "\n",
        "diff = np.abs(Z - O)\n",
        "best_i = int(np.argmax(diff))\n",
        "r, c = divmod(best_i, 28)\n",
        "print(f'Máximo |Z-O| en i={best_i} → (fila={r}, col={c}), valor={int(diff[best_i])}')\n"
      ],
      "metadata": {
        "id": "tCtGiY7FXbQ1",
        "colab": {
          "base_uri": "https://localhost:8080/",
          "height": 879
        },
        "outputId": "67d16bec-0f42-49cb-c050-1e8034371d79"
      },
      "execution_count": 7,
      "outputs": [
        {
          "output_type": "stream",
          "name": "stdout",
          "text": [
            "Total ceros: 980 — Total unos: 1135\n"
          ]
        },
        {
          "output_type": "display_data",
          "data": {
            "text/plain": [
              "<Figure size 640x480 with 2 Axes>"
            ],
            "image/png": "[encoded data removed]"
          },
          "metadata": {}
        },
        {
          "output_type": "display_data",
          "data": {
            "text/plain": [
              "<Figure size 640x480 with 2 Axes>"
            ],
            "image/png": "[encoded data removed]"
          },
          "metadata": {}
        },
        {
          "output_type": "stream",
          "name": "stdout",
          "text": [
            "Máximo |Z-O| en i=406 → (fila=14, col=14), valor=958\n"
          ]
        }
      ]
    }
  ]
}