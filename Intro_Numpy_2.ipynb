{
  "nbformat": 4,
  "nbformat_minor": 0,
  "metadata": {
    "colab": {
      "provenance": [],
      "collapsed_sections": [
        "seBOjY6W2K5q",
        "2XaZPMkx7mqw",
        "cE6xmw3v6_C2",
        "wdxyXVxv7F_c",
        "A7NVbBFl8qkY",
        "yS_jkABd_LtF",
        "Gp0chctRQD4H",
        "2oiGYeaGJ7_k",
        "G5gMRauc-Ne2",
        "43CKtZDv-1QN",
        "JQjwt8Kx_qg2",
        "UwvvVZ5QKF4f"
      ],
      "include_colab_link": true
    },
    "kernelspec": {
      "name": "python3",
      "display_name": "Python 3"
    },
    "language_info": {
      "name": "python"
    }
  },
  "cells": [
    {
      "cell_type": "markdown",
      "metadata": {
        "id": "view-in-github",
        "colab_type": "text"
      },
      "source": [
        "<a href=\"https://colab.research.google.com/github/Fermu25/Cursos/blob/main/Intro_Numpy_2.ipynb\" target=\"_parent\"><img src=\"https://colab.research.google.com/assets/colab-badge.svg\" alt=\"Open In Colab\"/></a>"
      ]
    },
    {
      "cell_type": "markdown",
      "source": [
        "# 0. ¿Qué es NumPy?\n",
        "\n",
        "## Numerical Python <- Biblioteca de Python <- Conjunto de módulos.\n",
        "\n",
        "Su relevancia está en que proporciona objetos multidimensionales (*numpy arrays*) y funciones matemáticas para operarlos. Es muy útil para procesar datos, manipular matrices, ..., todo lo que vamos a hacer en ciencia de datos."
      ],
      "metadata": {
        "id": "mrCjf7Fq8RHm"
      }
    },
    {
      "cell_type": "markdown",
      "source": [
        "- **Numpy (*Numerical Python*)**\n",
        "    - Almacena y opera sobre *buffers**  de datos **densos**\n",
        "    - **Eficiente** en almacenamiento y operaciones\n",
        "\n",
        "- **Características**\n",
        "    - Arrays multidimensionales\n",
        "    - Slicing e indexado\n",
        "    - Operaciones matemáticas y lógicas\n",
        "\n",
        "- **Aplicaciones**\n",
        "    - Cálculo con vectores y matrices\n",
        "    - Proporciona objetos fundamentales de Python para algoritmos de ciencia de datos\n",
        "        - Usado internamente por *scikit-learn* y *SciPy*\n",
        "\n",
        "\n",
        "**buffer*: espacio de memoria, en el que se almacenan datos de manera temporal, normalmente para un único uso."
      ],
      "metadata": {
        "id": "XGgDJNfE9Jd7"
      }
    },
    {
      "cell_type": "markdown",
      "source": [
        "# 1. Numpy arrays\n",
        "\n",
        "- **array** es el *objeto* principal proporcionado por Numpy\n",
        "\n",
        "- **Características**\n",
        "    - **Tipo fijo**\n",
        "        - Todos sus elementos tienen el **mismo tipo**\n",
        "    - **Multidimensional**\n",
        "        - Permite representar vectores, matrices y arrays de *n* dimensiones"
      ],
      "metadata": {
        "id": "tGbD4qHNCr5o"
      }
    },
    {
      "cell_type": "markdown",
      "source": [
        "## 1.1 Numpy arrays vs python lists\n",
        "En principio, las listas de Python también permiten definir arreglos multidimensionales\n",
        "\n",
        "\n",
        "- Ventajas de NumPy:\n",
        "\n",
        "    - Mayor **flexibilidad** en métodos de indexado y operaciones\n",
        "    - Mayor **eficiencia** en operaciones\n",
        "\n",
        "    - Dado que las listas pueden contener tipos de datos heterogéneos, almacenan información adicional (**overhead**)."
      ],
      "metadata": {
        "id": "HvpiwVc3HBue"
      }
    },
    {
      "cell_type": "code",
      "execution_count": null,
      "metadata": {
        "id": "cqx_eq3P8HvB"
      },
      "outputs": [],
      "source": [
        "my_heterog_list = [0.86, 'a', 'b', 4]"
      ]
    },
    {
      "cell_type": "markdown",
      "source": [
        "<p align=\"center\"><img src=\"https://drive.google.com/uc?export=view&id=195OL04s0m-ag4agPF0I2QdrGh1TTQP_o\" alt=\"img06.png\" width=\"500\"></p>\n"
      ],
      "metadata": {
        "id": "l1uulerTHtAn"
      }
    },
    {
      "cell_type": "markdown",
      "source": [
        "## 1.2 Mi primer arreglo de NumPy\n",
        "\n",
        "- Lo primero, siempre, es importar la biblioteca.\n",
        "- Para transformar objetos en arreglos usamos el método *array*. Documentación en: https://numpy.org/doc/stable/reference/generated/numpy.array.html#numpy.array"
      ],
      "metadata": {
        "id": "zTz5dpO7KstQ"
      }
    },
    {
      "cell_type": "code",
      "source": [
        "import numpy as np # Una vez llamada la biblioteca numpy, esta no se tiene que llamar nuevamente\n",
        "\n",
        "#Podemos crear un array a partir de una lista u otro objeto ya existente de tipo array:\n",
        "lista = [1, 2, 3, 4]\n",
        "print(type(lista))\n",
        "\n",
        "arr = np.array(lista)\n",
        "print(type(arr))\n",
        "\n",
        "#o pasarle directamente el objeto en el constructor\n",
        "arr = np.array([1, 2, 3, 4])\n",
        "print(type(arr))\n"
      ],
      "metadata": {
        "colab": {
          "base_uri": "https://localhost:8080/"
        },
        "id": "XXHmrardKrXh",
        "outputId": "0b7a9e6c-1126-4cb6-f774-8c6b1b16c4a0"
      },
      "execution_count": null,
      "outputs": [
        {
          "output_type": "stream",
          "name": "stdout",
          "text": [
            "<class 'list'>\n",
            "<class 'numpy.ndarray'>\n",
            "<class 'numpy.ndarray'>\n"
          ]
        }
      ]
    },
    {
      "cell_type": "markdown",
      "source": [
        "- **Características de los arrays de Numpy**\n",
        "    - **Tipo fijo** (*Fixed-type*): sin sobrecarga de memoria\n",
        "    - **Contiguos** en direcciones de memoria (*Contiguous*): indexación más rápida\n",
        "\n",
        "- **Tipos de datos en Numpy**\n",
        "    - Numpy define sus propios tipos de datos\n",
        "    \n",
        "    - **Tipos numéricos**\n",
        "        - `int8`, `int16`, `int32`, `int64`\n",
        "        - `uint8`, ..., `uint64`\n",
        "        - `float16`, `float32`, `float64`\n",
        "    \n",
        "    - **Valores booleanos**\n",
        "        - `bool`"
      ],
      "metadata": {
        "id": "E8Q0uF8bJFpo"
      }
    },
    {
      "cell_type": "code",
      "source": [
        "my_numpy_array = np.array([0.67, 0.45, 0.33])"
      ],
      "metadata": {
        "id": "USdbF9-xHt1h"
      },
      "execution_count": null,
      "outputs": []
    },
    {
      "cell_type": "markdown",
      "source": [
        "<p align=\"center\"><img src=\"https://drive.google.com/uc?export=view&id=1IyLuerJVaNEvOtNRWX7AQgJs7gvVcmgS\" alt=\"img07.png\" width=\"500\"></p>"
      ],
      "metadata": {
        "id": "1vySSfG4PYi2"
      }
    },
    {
      "cell_type": "markdown",
      "source": [
        "## 1.3 <b>Arreglos (arrays) multidimensionales</b>"
      ],
      "metadata": {
        "id": "KMXIVXabUMTO"
      }
    },
    {
      "cell_type": "markdown",
      "source": [
        "- Colecciones de elementos organizados a lo largo de un número arbitrario de dimensiones\n",
        "\n",
        "- Los arreglos multidimensionales pueden representarse con:\n",
        "    - Listas de Python\n",
        "    - Arreglos de Numpy\n",
        "\n",
        "<p align=\"center\"><img src=\"https://drive.google.com/uc?export=view&id=1HAOI8kTT1IMqdfixY9SL6vUadbXHDDhA\" alt=\"img09.png\" width=\"300\"></p>\n"
      ],
      "metadata": {
        "id": "u_oLg8S8Ugh0"
      }
    },
    {
      "cell_type": "markdown",
      "source": [
        "### Listas de Python\n",
        "\n",
        "- Arreglos multidimensionales con **listas de Python**\n",
        "\n",
        "- **Ejemplos:**\n",
        "\n",
        "<p align=\"center\"><img src=\"https://drive.google.com/uc?export=view&id=1Il86P9XFSOKafpeE7l8nBLM00kFxYOLZ\" alt=\"img10.png\" width=\"600\"></p>\n",
        "\n"
      ],
      "metadata": {
        "id": "vIgtFt_xVkxI"
      }
    },
    {
      "cell_type": "code",
      "source": [
        "# Vector (1D array)\n",
        "list1 = [1, 2, 3]\n",
        "\n",
        "# Matriz 2D\n",
        "list2 = [[1, 2, 3],\n",
        "         [4, 5, 6]]\n",
        "\n",
        "# Array 3D\n",
        "list3 = [[[1, 2, 3], [4, 5, 6]],\n",
        "         [[7, 8, 9], [10, 11, 12]],\n",
        "         [[13, 14, 15], [16, 17, 18]]]\n",
        "\n",
        "# Arreglo no homogéneo\n",
        "list4 = [[1, 2, 3],\n",
        "         [4, 5],\n",
        "         [7, 8, 9]]"
      ],
      "metadata": {
        "id": "tKqLO18cWdBA"
      },
      "execution_count": null,
      "outputs": []
    },
    {
      "cell_type": "code",
      "source": [
        "#¿Puedo convertir un arreglo no homogéneo en un array?\n",
        "#arr4 = np.array(list4)"
      ],
      "metadata": {
        "id": "3No5jw1wXo3v"
      },
      "execution_count": null,
      "outputs": []
    },
    {
      "cell_type": "markdown",
      "source": [
        "### Arreglos de NumPy\n",
        "- Arreglos multidimensionales con **Numpy**\n",
        "    - Se pueden crear directamente a partir de listas de Python\n",
        "    - **Ejemplos:**\n",
        "\n",
        "<p align=\"center\"><img src=\"https://drive.google.com/uc?export=view&id=1X4-besaXCD8odCrtDGI1RQ6T-knXADre\" alt=\"img11.png\" width=\"700\"></p>\n"
      ],
      "metadata": {
        "id": "qoU0-LqhVsHr"
      }
    },
    {
      "cell_type": "code",
      "source": [
        "arr1 = np.array([1, 2, 3])\n",
        "\n",
        "arr2 = np.array([[[1,2,3], [4,5,6]],\n",
        "                 [[7,8,9], [10,11,12]],\n",
        "                 [[13,14,15], [16,17,18]]])"
      ],
      "metadata": {
        "id": "08DokVFEPugT"
      },
      "execution_count": null,
      "outputs": []
    },
    {
      "cell_type": "markdown",
      "source": [
        "- Arreglos multidimensionales con **Numpy**\n",
        "    - Caracterizados por un conjunto de **ejes** (*axes*) y una **forma** (*shape*)\n",
        "    - Los **ejes** de un arreglo definen sus dimensiones:\n",
        "        - Un vector fila (*row vector*) tiene 1 eje (1 dimensión)\n",
        "        - Una matriz 2D tiene 2 ejes (2 dimensiones)\n",
        "        - Un arreglo *ND* tiene *N* ejes\n",
        "\n",
        "<p align=\"center\"><img src=\"https://drive.google.com/uc?export=view&id=1uAPuEt7a5mrasj77GZJudtWjyfvUVE2F\" alt=\"img12.png\" width=\"600\"></p>\n"
      ],
      "metadata": {
        "id": "PDGYeMfUYoPp"
      }
    },
    {
      "cell_type": "markdown",
      "source": [
        "- Indexado\n",
        "\n",
        "    - Los ejes pueden numerarse con valores negativos\n",
        "    - El eje **-1** siempre corresponde a la fila (*row*)\n",
        "\n",
        "<p align=\"center\"><img src=\"https://drive.google.com/uc?export=view&id=1opysAx1g1cNTbXHZkKOn_FfI0rv7sbp2\" alt=\"img13.png\" width=\"600\"></p>"
      ],
      "metadata": {
        "id": "tZx5-D83dEcv"
      }
    },
    {
      "cell_type": "code",
      "source": [
        "arr_vector = np.array([1, 2, 3])\n",
        "#Sólo requerimos un índice que nos indice la posición sobre el eje x_0\n",
        "print(arr_vector[1])\n",
        "\n",
        "arr_matriz = np.array([[1, 2, 3],\n",
        "                       [4, 5, 6]])\n",
        "#Requerimos dos índices en el orden [x_0][x_1].\n",
        "#Si queremos imprimir el número en la fila 1 columna 2 escribiremos\n",
        "print(arr_matriz[1][2])"
      ],
      "metadata": {
        "colab": {
          "base_uri": "https://localhost:8080/"
        },
        "id": "p_MrFy7vxL5S",
        "outputId": "10bdb697-5df8-4c1a-f4e7-aa16d103d061"
      },
      "execution_count": null,
      "outputs": [
        {
          "output_type": "stream",
          "name": "stdout",
          "text": [
            "2\n",
            "6\n"
          ]
        }
      ]
    },
    {
      "cell_type": "markdown",
      "source": [
        "- Shape\n",
        "    - La **forma** (*shape*) de un arreglo de Numpy es una tupla que especifica el número de elementos a lo largo de cada eje\n",
        "    - **Ejemplos:**\n",
        "\n",
        "  \n",
        "  <p align=\"center\"><img src=\"https://drive.google.com/uc?export=view&id=1GH5svWjxpihbX3fScIOcatDn-x7EjeoD\" alt=\"img14.png\" width=\"600\"></p>"
      ],
      "metadata": {
        "id": "1zCX532BbU81"
      }
    },
    {
      "cell_type": "markdown",
      "source": [
        "- **Vector columna vs vector fila**\n",
        "\n",
        "    - **Ejemplo 1:** Vector columna (matriz 2D)\n",
        "    \n",
        "    - **Ejemplo 2:** Vector fila (1D)\n",
        "    \n",
        "    - **¡Un vector columna es una matriz 2D!**\n",
        "\n",
        "  <p align=\"center\"><img src=\"https://drive.google.com/uc?export=view&id=1HKWVGLvPk0YQy5SF_aBv5SAX48Kt_eoK\" alt=\"img15.png\" width=\"600\"></p>\n"
      ],
      "metadata": {
        "id": "HKKqZVdtw81f"
      }
    },
    {
      "cell_type": "code",
      "source": [
        "col_vector = np.array([[0.1], [0.2], [0.3]])\n",
        "col_vector.shape  # (3, 1)"
      ],
      "metadata": {
        "colab": {
          "base_uri": "https://localhost:8080/"
        },
        "id": "PUjpszzha3LZ",
        "outputId": "83696951-789d-431a-bf45-981830fc7b78"
      },
      "execution_count": null,
      "outputs": [
        {
          "output_type": "execute_result",
          "data": {
            "text/plain": [
              "(3, 1)"
            ]
          },
          "metadata": {},
          "execution_count": 22
        }
      ]
    },
    {
      "cell_type": "code",
      "source": [
        "row_vector = np.array([0.1, 0.2, 0.3])\n",
        "row_vector.shape  # (3,)"
      ],
      "metadata": {
        "colab": {
          "base_uri": "https://localhost:8080/"
        },
        "id": "YILwJ5Qnyj6T",
        "outputId": "b23c4f38-b567-40ff-fac7-c97c49994c75"
      },
      "execution_count": null,
      "outputs": [
        {
          "output_type": "execute_result",
          "data": {
            "text/plain": [
              "(3,)"
            ]
          },
          "metadata": {},
          "execution_count": 23
        }
      ]
    },
    {
      "cell_type": "markdown",
      "source": [
        "## 1.4 Creación de arreglos con NumPy"
      ],
      "metadata": {
        "id": "xQzVBwx-ysHN"
      }
    },
    {
      "cell_type": "markdown",
      "source": [
        "- **Creación desde una lista:**\n",
        "    - `np.array(my_list, dtype=np.float16)`\n",
        "        - El tipo de dato se infiere si no se especifica\n",
        "\n",
        "- **Creación a partir de una forma o un valor:**\n",
        "    - `np.zeros(shape)`\n",
        "        - Arreglo con todos los elementos en 0 con la forma dada\n",
        "    - `np.ones(shape)`\n",
        "        - Arreglo con todos los elementos en 1 con la forma dada\n",
        "    - `np.full(shape, value)`\n",
        "        - Arreglo con todos los elementos con un valor específico y la forma dada\n",
        "\n",
        "  Documentación y más métodos en: https://numpy.org/doc/stable/reference/routines.array-creation.html"
      ],
      "metadata": {
        "id": "AIKTvizTzu9c"
      }
    },
    {
      "cell_type": "code",
      "source": [
        "#Recordatorio: creación de una lista de ceros\n",
        "my_list = [0] * 10\n",
        "print(my_list)\n",
        "\n",
        "my_list2 = [0 for _ in range(10)]\n",
        "print(my_list2)"
      ],
      "metadata": {
        "colab": {
          "base_uri": "https://localhost:8080/"
        },
        "id": "t_wBBsnAy0Zb",
        "outputId": "d504515f-a7a9-435b-df7e-42e0062ec7dc"
      },
      "execution_count": null,
      "outputs": [
        {
          "output_type": "stream",
          "name": "stdout",
          "text": [
            "[0, 0, 0, 0, 0, 0, 0, 0, 0, 0]\n",
            "[0, 0, 0, 0, 0, 0, 0, 0, 0, 0]\n"
          ]
        }
      ]
    },
    {
      "cell_type": "code",
      "source": [
        "# Ejemplos con NumPy\n",
        "#Crear un arreglo de ceros con forma (2,4)\n",
        "arr0 = np.zeros((2,4))\n",
        "print(arr0)\n",
        "print()\n",
        "\n",
        "# Crear un arreglo de unos con forma (2,3)\n",
        "arr1 = np.ones((2,3)) #Como recibe\n",
        "print(arr1)\n",
        "print()\n",
        "\n",
        "# Crear un arreglo lleno de 1.1 con forma (2,1)\n",
        "arr2 = np.full((2,1), 1.1)\n",
        "print(arr2)"
      ],
      "metadata": {
        "colab": {
          "base_uri": "https://localhost:8080/"
        },
        "id": "q4fS36b80UuT",
        "outputId": "33bb22b8-55cc-4704-eba0-8438c2e3dc78"
      },
      "execution_count": null,
      "outputs": [
        {
          "output_type": "stream",
          "name": "stdout",
          "text": [
            "[[0. 0. 0. 0.]\n",
            " [0. 0. 0. 0.]]\n",
            "\n",
            "[[1. 1. 1.]\n",
            " [1. 1. 1.]]\n",
            "\n",
            "[[1.1]\n",
            " [1.1]]\n"
          ]
        }
      ]
    },
    {
      "cell_type": "markdown",
      "source": [
        "- **Otros métodos útiles:**\n",
        "    - ``` numpy.linspace(start, stop, num=50, endpoint=True, retstep=False, dtype=None, axis=0, *, device=None) ```\n",
        "      - Devuelve números espaciados uniformemente en un intervalo específico.\n",
        "      - Ejemplo : `np.linspace(0, 1, 11)`\n",
        "        - Genera 11 muestras desde 0 hasta 1 (incluido)\n",
        "        - **Salida:** `[0.0, 0.1, ..., 1.0]`\n",
        "      \n",
        "    - `np.arange(1, 7, 2)`\n",
        "        - Genera números desde 1 hasta 7 (excluido) con paso 2\n",
        "        - **Salida:** `[1, 3, 5]`\n",
        "    - `np.random.normal(mean, std, shape)`\n",
        "        - Genera datos aleatorios con distribución normal\n",
        "    - `np.random.random(shape)`\n",
        "        - Genera datos aleatorios distribuidos uniformemente en [0, 1]"
      ],
      "metadata": {
        "id": "9RYjoc8x4GPv"
      }
    },
    {
      "cell_type": "code",
      "source": [
        "#Comparación entre linespace y arange\n",
        "arr_ls = np.linspace(0, 10, 101)\n",
        "print(arr_ls)\n",
        "print()\n",
        "\n",
        "arr_ar = np.arange(0, 10, 101)\n",
        "print(arr_ar)\n",
        "\n",
        "# ¿Por qué no generan lo mismo? -> ¡ Documentación !"
      ],
      "metadata": {
        "colab": {
          "base_uri": "https://localhost:8080/"
        },
        "id": "qe42TvCZ4Ioh",
        "outputId": "c0e8860c-2baf-4ab6-bee4-987b543560ef"
      },
      "execution_count": null,
      "outputs": [
        {
          "output_type": "stream",
          "name": "stdout",
          "text": [
            "[ 0.   0.1  0.2  0.3  0.4  0.5  0.6  0.7  0.8  0.9  1.   1.1  1.2  1.3\n",
            "  1.4  1.5  1.6  1.7  1.8  1.9  2.   2.1  2.2  2.3  2.4  2.5  2.6  2.7\n",
            "  2.8  2.9  3.   3.1  3.2  3.3  3.4  3.5  3.6  3.7  3.8  3.9  4.   4.1\n",
            "  4.2  4.3  4.4  4.5  4.6  4.7  4.8  4.9  5.   5.1  5.2  5.3  5.4  5.5\n",
            "  5.6  5.7  5.8  5.9  6.   6.1  6.2  6.3  6.4  6.5  6.6  6.7  6.8  6.9\n",
            "  7.   7.1  7.2  7.3  7.4  7.5  7.6  7.7  7.8  7.9  8.   8.1  8.2  8.3\n",
            "  8.4  8.5  8.6  8.7  8.8  8.9  9.   9.1  9.2  9.3  9.4  9.5  9.6  9.7\n",
            "  9.8  9.9 10. ]\n",
            "\n",
            "[0]\n"
          ]
        }
      ]
    },
    {
      "cell_type": "markdown",
      "source": [
        "## 1.5 Atributos principales en un arreglo de NumPy"
      ],
      "metadata": {
        "id": "AA2c4bOW6uGv"
      }
    },
    {
      "cell_type": "code",
      "source": [
        "# Definir el arreglo\n",
        "x = np.array([[2, 3, 4, 111], [5, 6, 7, 2222]])\n",
        "\n",
        "# Número de dimensiones\n",
        "print(x.ndim)  # Salida: 2\n",
        "\n",
        "# Forma del arreglo\n",
        "print(x.shape)  # Salida: (2, 3)\n",
        "\n",
        "# Tamaño del arreglo (producto de la forma)\n",
        "print(x.size)  # Salida: 6"
      ],
      "metadata": {
        "id": "MUuujOh26xj4",
        "colab": {
          "base_uri": "https://localhost:8080/"
        },
        "outputId": "c60ab6cf-a16d-432d-ab4f-bd18c70edc71"
      },
      "execution_count": null,
      "outputs": [
        {
          "output_type": "stream",
          "name": "stdout",
          "text": [
            "2\n",
            "(2, 4)\n",
            "8\n"
          ]
        }
      ]
    },
    {
      "cell_type": "markdown",
      "source": [
        "# 2. <b>Accediendo a Arrays de NumPy</b>"
      ],
      "metadata": {
        "id": "OHNv4S0xy-dN"
      }
    },
    {
      "cell_type": "markdown",
      "source": [
        "- Los arrays de NumPy pueden accederse de muchas formas:  \n",
        "    - Indexación simple  \n",
        "    - Slicing (**segmentación**)  \n",
        "    - Masking (**enmascaramiento**)  \n",
        "    - Fancy indexing (**indexación avanzada**)  \n",
        "    - Combined indexing (**indexación combinada**)  \n",
        "\n",
        "- El slicing proporciona **vistas** del arreglo considerado:  \n",
        "    - Las **vistas** permiten **lectura** y **escritura** de datos en el arreglo **original**.  \n",
        "\n",
        "- El masking y la fancy indexing proporcionan **copias** del arreglo.\n",
        "\n",
        "Documentación: https://numpy.org/doc/2.3/user/basics.indexing.html"
      ],
      "metadata": {
        "id": "VejgbnQhzhn2"
      }
    },
    {
      "cell_type": "markdown",
      "source": [
        "## 2.1 Indexación simple\n",
        "\n",
        "- Acceso de lectura/escritura a un elemento  \n",
        "  - `x[i, j, k, ...]`"
      ],
      "metadata": {
        "id": "hBLBZym5zurw"
      }
    },
    {
      "cell_type": "code",
      "source": [
        "# Definir un array de NumPy\n",
        "x = np.array([[2, 3, 4], [5, 6, 7]])\n",
        "\n",
        "# Leer un valor del array\n",
        "el = x[1, 2]  # lectura de valor (indexación)\n",
        "print(\"el = %d\" % el)\n",
        "\n",
        "#Nota: [1,2] <- único acceso, más eficiente\n",
        "print(x[1][2]) # <- dos accesos separados x[1] = [5, 6, 7] y de ahí se escoge el elemento con índice 2"
      ],
      "metadata": {
        "colab": {
          "base_uri": "https://localhost:8080/"
        },
        "id": "ngDpgcSjzyNR",
        "outputId": "ba1af688-9770-430a-a4a9-3ef3e33416dd"
      },
      "execution_count": null,
      "outputs": [
        {
          "output_type": "stream",
          "name": "stdout",
          "text": [
            "el = 7\n",
            "7\n"
          ]
        }
      ]
    },
    {
      "cell_type": "code",
      "source": [
        "# Asignar un nuevo valor\n",
        "x[1, 2] = 1\n",
        "print(x)"
      ],
      "metadata": {
        "colab": {
          "base_uri": "https://localhost:8080/"
        },
        "id": "pCbVDSK90Cic",
        "outputId": "69346007-5157-4679-bd39-8a2cbfbb2760"
      },
      "execution_count": null,
      "outputs": [
        {
          "output_type": "stream",
          "name": "stdout",
          "text": [
            "[[2 3 4]\n",
            " [5 6 1]]\n"
          ]
        }
      ]
    },
    {
      "cell_type": "markdown",
      "source": [
        "- Retorno de elementos desde el final  \n",
        "\n",
        "    - Consideremos el siguiente array:  \n",
        "        - `x = np.array([[2, 3, 4], [5, 6, 7]])`  \n",
        "\n",
        "    - `x[0, -1]`  \n",
        "        - Obtener el último elemento de la primera fila: `4`  \n",
        "\n",
        "    - `x[0, -2]`  \n",
        "        - Obtener el segundo elemento desde el final de la primera fila: `3`  "
      ],
      "metadata": {
        "id": "fj1oUDOj05eF"
      }
    },
    {
      "cell_type": "code",
      "source": [
        "# Definir un array de NumPy\n",
        "x = np.array([[2, 3, 4], [5, 6, 7]])\n",
        "\n",
        "# Obtener el último elemento de la primera fila\n",
        "print(x[0, -1])  # Salida esperada: 4\n",
        "\n",
        "# Obtener el segundo elemento desde el final de la primera fila\n",
        "print(x[0, -2])  # Salida esperada: 3"
      ],
      "metadata": {
        "id": "RqD2VF1R1BRl",
        "colab": {
          "base_uri": "https://localhost:8080/"
        },
        "outputId": "a10a63c1-746c-42ec-bb9b-986cd3c65e28"
      },
      "execution_count": null,
      "outputs": [
        {
          "output_type": "stream",
          "name": "stdout",
          "text": [
            "4\n",
            "3\n"
          ]
        }
      ]
    },
    {
      "cell_type": "markdown",
      "source": [
        "## 2.2 Slicing"
      ],
      "metadata": {
        "id": "seBOjY6W2K5q"
      }
    },
    {
      "cell_type": "markdown",
      "source": [
        "- Acceso a elementos contiguos  \n",
        "    - `x[start:stop:step, ...]`  \n",
        "\n",
        "    - Crea una **vista** de los elementos desde `start` (incluido) hasta `stop` (excluido), con un paso fijo  \n",
        "    - **Las modificaciones en la vista afectan el array original**  \n",
        "\n",
        "    - Atajos útiles:  \n",
        "        - **Omitir `start`** si quieres empezar desde el inicio del array  \n",
        "        - **Omitir `stop`** si quieres tomar elementos hasta el final  \n",
        "        - **Omitir `step`** si no quieres saltar elementos"
      ],
      "metadata": {
        "id": "vJQaro1u1Amx"
      }
    },
    {
      "cell_type": "code",
      "source": [
        "# Definir un array de NumPy\n",
        "x = np.array([[1, 2, 3],\n",
        "              [4, 5, 6],\n",
        "              [7, 8, 9]])\n",
        "\n",
        "# Seleccionar todas las filas y las últimas 2 columnas\n",
        "print(x[:, 1:])\n",
        "\n",
        "print(x[:][1:])"
      ],
      "metadata": {
        "colab": {
          "base_uri": "https://localhost:8080/"
        },
        "id": "4zY7mxZq2eBG",
        "outputId": "4d175f44-c9d8-41a0-f66d-92f6261295cd"
      },
      "execution_count": null,
      "outputs": [
        {
          "output_type": "stream",
          "name": "stdout",
          "text": [
            "[[2 3]\n",
            " [5 6]\n",
            " [8 9]]\n",
            "[[4 5 6]\n",
            " [7 8 9]]\n"
          ]
        }
      ]
    },
    {
      "cell_type": "markdown",
      "source": [
        "- **Seleccionar las dos primeras filas y la primera y tercera columna**  \n",
        "\n",
        "<p align=\"center\"><img src=\"https://drive.google.com/uc?export=view&id=1bibAK_166LFtzuniCuIlDKuTJdQRLsXZ\" alt=\"img45-1.png\" width=\"160\"></p>"
      ],
      "metadata": {
        "id": "9oP7IMiA49Hk"
      }
    },
    {
      "cell_type": "code",
      "source": [
        "# Seleccionar las dos primeras filas y la primera y tercera columna\n",
        "print(x[:2, ::2])"
      ],
      "metadata": {
        "id": "RZ6CWEot6VGc",
        "colab": {
          "base_uri": "https://localhost:8080/"
        },
        "outputId": "3b326936-b144-4e07-bd28-7d722af61589"
      },
      "execution_count": null,
      "outputs": [
        {
          "output_type": "stream",
          "name": "stdout",
          "text": [
            "[[1 3]\n",
            " [4 6]]\n"
          ]
        }
      ]
    },
    {
      "cell_type": "markdown",
      "source": [
        "<p align=\"center\"><img src=\"https://drive.google.com/uc?export=view&id=1s4R4HVwrkTfB1dbN0cd8ncK9yt5B7F3s\" alt=\"img45-2.png\" width=\"160\"></p>"
      ],
      "metadata": {
        "id": "4_8_gt686WYC"
      }
    },
    {
      "cell_type": "markdown",
      "source": [
        "- **Actualizar una porción de un array (slicing)**  "
      ],
      "metadata": {
        "id": "EXOxS5cp6mY0"
      }
    },
    {
      "cell_type": "code",
      "source": [
        "# Definir un array de NumPy\n",
        "x = np.array([[1, 2, 3],\n",
        "              [4, 5, 6],\n",
        "              [7, 8, 9]])\n",
        "\n",
        "# Asignar 0 a las últimas dos columnas de todas las filas\n",
        "x[:, 1:] = 0\n",
        "print(x)"
      ],
      "metadata": {
        "colab": {
          "base_uri": "https://localhost:8080/"
        },
        "id": "CE06eO156oR4",
        "outputId": "606266c7-89ea-4ae9-eba7-6de34f425810"
      },
      "execution_count": null,
      "outputs": [
        {
          "output_type": "stream",
          "name": "stdout",
          "text": [
            "[[1 0 0]\n",
            " [4 0 0]\n",
            " [7 0 0]]\n"
          ]
        }
      ]
    },
    {
      "cell_type": "markdown",
      "source": [
        "## 2.3 Otras formas de acceder a arrays"
      ],
      "metadata": {
        "id": "2XaZPMkx7mqw"
      }
    },
    {
      "cell_type": "markdown",
      "source": [
        "- **Vistas (views)**"
      ],
      "metadata": {
        "id": "56CiIAZF7qyX"
      }
    },
    {
      "cell_type": "code",
      "source": [
        "# Definir un array de NumPy\n",
        "x = np.array([[1, 2, 3],\n",
        "              [4, 5, 6],\n",
        "              [7, 8, 9]])\n",
        "\n",
        "# Crear una vista y modificarla\n",
        "view = x[:, 1:]\n",
        "view[:, :] = 0\n",
        "\n",
        "print(x)  # Salida esperada: [[1, 0, 0], [4, 0, 0], [7, 0, 0]]"
      ],
      "metadata": {
        "id": "BM7i78RM7qR-",
        "colab": {
          "base_uri": "https://localhost:8080/"
        },
        "outputId": "6527d77a-da7e-452f-9685-69e80479da5b"
      },
      "execution_count": null,
      "outputs": [
        {
          "output_type": "stream",
          "name": "stdout",
          "text": [
            "[[1 0 0]\n",
            " [4 0 0]\n",
            " [7 0 0]]\n"
          ]
        }
      ]
    },
    {
      "cell_type": "markdown",
      "source": [
        "- **Para evitar modificar el array original, usar `.copy()`**  \n",
        "    - `x1 = x[:,1:].copy()`"
      ],
      "metadata": {
        "id": "TIxHT4ze715N"
      }
    },
    {
      "cell_type": "markdown",
      "source": [
        "- **Masking**: uso de máscaras booleanas para seleccionar elementos  \n",
        "\n",
        "   - `x[mask]`  \n",
        "      - `mask`  \n",
        "         - **boolean**: array de NumPy que especifica qué elementos deben seleccionarse  \n",
        "         - **same shape**: debe tener la misma forma que el array original  \n",
        "\n",
        "   - El resultado es un **vector unidimensional** que es una **copia** de los elementos originales seleccionados por la máscara  "
      ],
      "metadata": {
        "id": "gNYmoIyr728H"
      }
    },
    {
      "cell_type": "markdown",
      "source": [
        "- **Creación de máscaras**  \n",
        "\n",
        "   - `x op valor` (por ejemplo, `x == 4`)  \n",
        "   - Donde `op` puede ser:  \n",
        "      - `>` , `>=` , `<` , `<=` , `==` , `!=`  \n",
        "\n",
        "- **Ejemplos**  "
      ],
      "metadata": {
        "id": "nk4GqPyC7-BD"
      }
    },
    {
      "cell_type": "code",
      "source": [
        "x = np.array([1.2, 4.1, 1.5, 4.5])\n",
        "print(x > 4)"
      ],
      "metadata": {
        "colab": {
          "base_uri": "https://localhost:8080/"
        },
        "id": "DB-bDd0h7_YO",
        "outputId": "4e8a3ce8-ec20-462e-9e87-3e14dd43c52f"
      },
      "execution_count": null,
      "outputs": [
        {
          "output_type": "stream",
          "name": "stdout",
          "text": [
            "[False  True False  True]\n"
          ]
        }
      ]
    },
    {
      "cell_type": "code",
      "source": [
        "x2 = np.array([[1.2, 4.1], [1.5, 4.5]])\n",
        "print(x2 >= 4)"
      ],
      "metadata": {
        "colab": {
          "base_uri": "https://localhost:8080/"
        },
        "id": "5AR4HtpJ8Cf4",
        "outputId": "4c1aeefc-ccac-49e0-ee71-02f8adac3c42"
      },
      "execution_count": null,
      "outputs": [
        {
          "output_type": "stream",
          "name": "stdout",
          "text": [
            "[[False  True]\n",
            " [False  True]]\n"
          ]
        }
      ]
    },
    {
      "cell_type": "markdown",
      "source": [
        "- **Operaciones con máscaras (arrays booleanos)**  \n",
        "\n",
        "   - NumPy permite operaciones booleanas entre máscaras con la misma forma:  \n",
        "      - `&` (**and**)  \n",
        "      - `|` (**or**)  \n",
        "      - `^` (**xor**)  \n",
        "      - `~` (**negación**)  \n",
        "\n",
        "   - **Ejemplo**  \n",
        "      - `mask = ~((x < 1) | (x > 5))`  \n",
        "      - Selecciona elementos que están entre `1` y `5` (incluidos)  "
      ],
      "metadata": {
        "id": "geD_iY0_8WCl"
      }
    },
    {
      "cell_type": "markdown",
      "source": [
        "- **Ejemplos de masking**  \n",
        "\n",
        "   - Aunque la forma de `x2` sea `(2, 2)`, el resultado es un array **unidimensional** que contiene los elementos que cumplen la condición  "
      ],
      "metadata": {
        "id": "_DQwrZSQ8W-c"
      }
    },
    {
      "cell_type": "code",
      "source": [
        "x = np.array([1.2, 4.1, 1.5, 4.5])\n",
        "print(x[x > 4])"
      ],
      "metadata": {
        "colab": {
          "base_uri": "https://localhost:8080/"
        },
        "id": "vG1mkkP18Zf0",
        "outputId": "5b0bba6f-4acd-4a16-f128-64b1a1943226"
      },
      "execution_count": null,
      "outputs": [
        {
          "output_type": "stream",
          "name": "stdout",
          "text": [
            "[4.1 4.5]\n"
          ]
        }
      ]
    },
    {
      "cell_type": "code",
      "source": [
        "x2 = np.array([[1.2, 4.1], [1.5, 4.5]])\n",
        "print(x2[x2 >= 4])"
      ],
      "metadata": {
        "id": "LeDzYpk38cja",
        "colab": {
          "base_uri": "https://localhost:8080/"
        },
        "outputId": "247d0162-036b-470c-f7f2-cba4c5c0a29f"
      },
      "execution_count": null,
      "outputs": [
        {
          "output_type": "stream",
          "name": "stdout",
          "text": [
            "[4.1 4.5]\n"
          ]
        }
      ]
    },
    {
      "cell_type": "markdown",
      "source": [
        "- **Masked array actualizado**"
      ],
      "metadata": {
        "id": "dDbz4r048hFO"
      }
    },
    {
      "cell_type": "code",
      "source": [
        "x = np.array([1.2, 4.1, 1.5, 4.5])\n",
        "x[x > 4] = 0  # Assignment is allowed\n",
        "print(x)"
      ],
      "metadata": {
        "id": "TPr7UdAa8iB-",
        "colab": {
          "base_uri": "https://localhost:8080/"
        },
        "outputId": "67317a53-bb32-485d-bfc2-88db414df9f8"
      },
      "execution_count": null,
      "outputs": [
        {
          "output_type": "stream",
          "name": "stdout",
          "text": [
            "[1.2 0.  1.5 0. ]\n"
          ]
        }
      ]
    },
    {
      "cell_type": "markdown",
      "source": [
        "- **Masking no crea vistas, sino copias**"
      ],
      "metadata": {
        "id": "yPdzIyxK8l09"
      }
    },
    {
      "cell_type": "code",
      "source": [
        "x = np.array([1.2, 4.1, 1.5, 4.5])\n",
        "masked = x[x > 4]  # Masked es una copia de x\n",
        "\n",
        "masked[:] = 0  # La asignación no afecta a x\n",
        "print(x)"
      ],
      "metadata": {
        "id": "XYBmLx8W8mds",
        "colab": {
          "base_uri": "https://localhost:8080/"
        },
        "outputId": "bfa72bd2-4285-432c-fadb-b964e2cdc8a7"
      },
      "execution_count": null,
      "outputs": [
        {
          "output_type": "stream",
          "name": "stdout",
          "text": [
            "[1.2 4.1 1.5 4.5]\n"
          ]
        }
      ]
    },
    {
      "cell_type": "markdown",
      "source": [
        "# 3. Cálculos en NumPy\n",
        "- **Resumen:**\n",
        "    - **Funciones universales** (*Ufuncs*):\n",
        "        - **Operaciones binarias** (`+`, `-`, `*`, ...)\n",
        "        - **Operaciones unarias** (`exp()`, `abs()`, ...)\n",
        "    - **Funciones de agregación** (aggregate)\n",
        "    - **Ordenamiento** (sorting)\n",
        "    - **Operaciones algebraicas** (producto punto, producto interno)"
      ],
      "metadata": {
        "id": "cE6xmw3v6_C2"
      }
    },
    {
      "cell_type": "markdown",
      "source": [
        "## 3.1 Funciones universales\n",
        "- **Funciones universales** (*Ufuncs*): operaciones elemento a elemento\n",
        "    - **Operaciones binarias** con arreglos de la **misma forma**\n",
        "        - `+`, `-`, `*`, `/`, `%` (*módulo*), `//` (*división entera*), `**` (*exponenciación*)\n",
        "\n",
        "Ejemplo:"
      ],
      "metadata": {
        "id": "wdxyXVxv7F_c"
      }
    },
    {
      "cell_type": "code",
      "source": [
        "x = np.array([[1, 1], [2, 2]])\n",
        "y = np.array([[3, 4], [6, 5]])\n",
        "\n",
        "result = x * y\n",
        "print(result)  # Salida: [[3, 4], [12, 10]]"
      ],
      "metadata": {
        "colab": {
          "base_uri": "https://localhost:8080/",
          "height": 218
        },
        "id": "CEeezvUX6Jhc",
        "outputId": "488a666b-97fd-401c-ac05-14919eaaf461"
      },
      "execution_count": 3,
      "outputs": [
        {
          "output_type": "error",
          "ename": "NameError",
          "evalue": "name 'np' is not defined",
          "traceback": [
            "\u001b[0;31m---------------------------------------------------------------------------\u001b[0m",
            "\u001b[0;31mNameError\u001b[0m                                 Traceback (most recent call last)",
            "\u001b[0;32m/tmp/ipython-input-184292315.py\u001b[0m in \u001b[0;36m<cell line: 0>\u001b[0;34m()\u001b[0m\n\u001b[0;32m----> 1\u001b[0;31m \u001b[0mx\u001b[0m \u001b[0;34m=\u001b[0m \u001b[0mnp\u001b[0m\u001b[0;34m.\u001b[0m\u001b[0marray\u001b[0m\u001b[0;34m(\u001b[0m\u001b[0;34m[\u001b[0m\u001b[0;34m[\u001b[0m\u001b[0;36m1\u001b[0m\u001b[0;34m,\u001b[0m \u001b[0;36m1\u001b[0m\u001b[0;34m]\u001b[0m\u001b[0;34m,\u001b[0m \u001b[0;34m[\u001b[0m\u001b[0;36m2\u001b[0m\u001b[0;34m,\u001b[0m \u001b[0;36m2\u001b[0m\u001b[0;34m]\u001b[0m\u001b[0;34m]\u001b[0m\u001b[0;34m)\u001b[0m\u001b[0;34m\u001b[0m\u001b[0;34m\u001b[0m\u001b[0m\n\u001b[0m\u001b[1;32m      2\u001b[0m \u001b[0my\u001b[0m \u001b[0;34m=\u001b[0m \u001b[0mnp\u001b[0m\u001b[0;34m.\u001b[0m\u001b[0marray\u001b[0m\u001b[0;34m(\u001b[0m\u001b[0;34m[\u001b[0m\u001b[0;34m[\u001b[0m\u001b[0;36m3\u001b[0m\u001b[0;34m,\u001b[0m \u001b[0;36m4\u001b[0m\u001b[0;34m]\u001b[0m\u001b[0;34m,\u001b[0m \u001b[0;34m[\u001b[0m\u001b[0;36m6\u001b[0m\u001b[0;34m,\u001b[0m \u001b[0;36m5\u001b[0m\u001b[0;34m]\u001b[0m\u001b[0;34m]\u001b[0m\u001b[0;34m)\u001b[0m\u001b[0;34m\u001b[0m\u001b[0;34m\u001b[0m\u001b[0m\n\u001b[1;32m      3\u001b[0m \u001b[0;34m\u001b[0m\u001b[0m\n\u001b[1;32m      4\u001b[0m \u001b[0mresult\u001b[0m \u001b[0;34m=\u001b[0m \u001b[0mx\u001b[0m \u001b[0;34m*\u001b[0m \u001b[0my\u001b[0m\u001b[0;34m\u001b[0m\u001b[0;34m\u001b[0m\u001b[0m\n\u001b[1;32m      5\u001b[0m \u001b[0mprint\u001b[0m\u001b[0;34m(\u001b[0m\u001b[0mresult\u001b[0m\u001b[0;34m)\u001b[0m  \u001b[0;31m# Salida: [[3, 4], [12, 10]]\u001b[0m\u001b[0;34m\u001b[0m\u001b[0;34m\u001b[0m\u001b[0m\n",
            "\u001b[0;31mNameError\u001b[0m: name 'np' is not defined"
          ]
        }
      ]
    },
    {
      "cell_type": "markdown",
      "source": [
        "<p align=\"center\"><img src=\"https://drive.google.com/uc?export=view&id=1YcwLwaF4LKh4S4BHcKpeD4KZwaoZbFYu\" alt=\"img22.png\" width=\"500\"></p>"
      ],
      "metadata": {
        "id": "ajPhE4Zw7SVD"
      }
    },
    {
      "cell_type": "markdown",
      "source": [
        "- **Funciones universales** (*Ufuncs*):\n",
        "    - **Operaciones unitarias**\n",
        "        - `np.abs(x)`\n",
        "        - `np.exp(x)`, `np.log(x)`, `np.log2(x)`, `np.log10(x)`\n",
        "        - `np.sin(x)`, `cos(x)`, `tan(x)`, `arctan(x)`, ...\n",
        "    - Aplican la operación separadamente a cada elemento del arreglo\n",
        "\n",
        "Ejemplo:"
      ],
      "metadata": {
        "id": "IQfoDaaU7puX"
      }
    },
    {
      "cell_type": "code",
      "source": [
        "x = np.array([[1, 1], [2, 2]])\n",
        "result = np.exp(x)\n",
        "\n",
        "print(result)  # Salida: [[2.718, 2.718], [7.389, 7.389]]"
      ],
      "metadata": {
        "id": "SU0fVzoq7faa"
      },
      "execution_count": null,
      "outputs": []
    },
    {
      "cell_type": "markdown",
      "source": [
        "<p align=\"center\"><img src=\"https://drive.google.com/uc?export=view&id=14Tt5QsJqxb-uQxnNTRP9uHSbRq19mDR9\" alt=\"img24.png\" width=\"350\"></p>\n",
        "\n",
        "- Nota: El arreglo original no se modifica"
      ],
      "metadata": {
        "id": "jR954ddk7u5v"
      }
    },
    {
      "cell_type": "markdown",
      "source": [
        "## 3.2 Funciones de agregación\n",
        "(! Muy importantes para preprocesamiento de datos)\n",
        "\n",
        " - **Devuelven** un único valor a partir de un arreglo:\n",
        "      - `np.min(x)`, `np.max(x)`, `np.mean(x)`, `np.std(x)`, `np.sum(x)`\n",
        "      - `np.argmin(x)`, `np.argmax(x)`\n",
        " - Alternativamente, se pueden usar como métodos de un arreglo:\n",
        "      - `x.min()`, `x.max()`, `x.mean()`, `x.std()`, `x.sum()`\n",
        "      - `x.argmin()`, `x.argmax()`\n",
        "\n",
        "**Ejemplos:**\n"
      ],
      "metadata": {
        "id": "A7NVbBFl8qkY"
      }
    },
    {
      "cell_type": "code",
      "source": [
        "x = np.array([[1,3],[2,2]])\n",
        "\n",
        "print(x.min())\n",
        "print(x.max())\n",
        "print(x.sum())"
      ],
      "metadata": {
        "id": "e2blvLXT8XOP"
      },
      "execution_count": null,
      "outputs": []
    },
    {
      "cell_type": "markdown",
      "source": [
        "- **Funciones de agregación a lo largo de un eje**\n",
        "    - Permiten especificar el **eje** junto con la operación a realizar\n",
        "\n",
        "Ejemplos:"
      ],
      "metadata": {
        "id": "IYInPZoG9K2p"
      }
    },
    {
      "cell_type": "code",
      "source": [
        "# Se define una matriz 2D con NumPy\n",
        "x = np.array([[1, 7],\n",
        "              [2, 4]])\n",
        "\n",
        "# Encontrar el índice del valor máximo en cada columna (axis=0)\n",
        "print(x.argmax(axis=0))  # Salida: [1, 0] (índices de los valores máximos en cada columna)\n",
        "\n",
        "# Sumar los elementos en cada fila (axis=1) o alternativamente axis=-1\n",
        "#print(x.sum(axis=0))  # Salida: [8, 6] (suma de los elementos en cada fila)"
      ],
      "metadata": {
        "id": "NRrFIiAv9OH2"
      },
      "execution_count": null,
      "outputs": []
    },
    {
      "cell_type": "markdown",
      "source": [
        "<img src=\"https://drive.google.com/uc?export=view&id=18FlmEYU82zeGG6tyXOFZwCojcGm3LDsg\" alt=\"img26-1.png\" width=\"200\">\n",
        "\n",
        "<img src=\"https://drive.google.com/uc?export=view&id=14P4IW0Z8Kw9zuUWm0j-YMfDgLkb0o1FI\" alt=\"img26-2.png\" width=\"130\">\n"
      ],
      "metadata": {
        "id": "A6_UQPxa9nuS"
      }
    },
    {
      "cell_type": "markdown",
      "source": [
        "## 3.3 Sorting\n",
        "\n",
        "      "
      ],
      "metadata": {
        "id": "yS_jkABd_LtF"
      }
    },
    {
      "cell_type": "markdown",
      "source": [
        "\n",
        "**Ordenamiento**\n",
        "  - **`np.sort(x)`**: crea una copia ordenada de `x`\n",
        "      - `x` **no** se modifica\n",
        "  - **`x.sort()`**: ordena `x` en su lugar (*inplace*)\n",
        "      - `x` **se modifica**\n",
        "\n",
        "Por defecto, los arreglos se ordenan a lo largo del último eje (`-1`)"
      ],
      "metadata": {
        "id": "UJSmOD1h_Ux8"
      }
    },
    {
      "cell_type": "markdown",
      "source": [
        "<p align=\"center\"><img src=\"https://drive.google.com/uc?export=view&id=18936dBxbcXJtmtT9803q9CKJ8cAnLoT6\" alt=\"img29.png\" width=\"390\"></p>\n"
      ],
      "metadata": {
        "id": "BVK-Jt7N_qNw"
      }
    },
    {
      "cell_type": "code",
      "source": [
        "# Definir una matriz 2D\n",
        "x = np.array([[2, 1, 3],\n",
        "              [7, 9, 8]])\n",
        "\n",
        "# Ordenar los elementos a lo largo de las filas (axis=-1)\n",
        "np.sort(x)  # Ordena por filas (axis -1)"
      ],
      "metadata": {
        "colab": {
          "base_uri": "https://localhost:8080/",
          "height": 218
        },
        "id": "_AZjF39o9Ro9",
        "outputId": "b2d1137d-b8e8-46c5-b975-e3a157426e57"
      },
      "execution_count": 4,
      "outputs": [
        {
          "output_type": "error",
          "ename": "NameError",
          "evalue": "name 'np' is not defined",
          "traceback": [
            "\u001b[0;31m---------------------------------------------------------------------------\u001b[0m",
            "\u001b[0;31mNameError\u001b[0m                                 Traceback (most recent call last)",
            "\u001b[0;32m/tmp/ipython-input-1961744738.py\u001b[0m in \u001b[0;36m<cell line: 0>\u001b[0;34m()\u001b[0m\n\u001b[1;32m      1\u001b[0m \u001b[0;31m# Definir una matriz 2D\u001b[0m\u001b[0;34m\u001b[0m\u001b[0;34m\u001b[0m\u001b[0m\n\u001b[0;32m----> 2\u001b[0;31m x = np.array([[2, 1, 3],\n\u001b[0m\u001b[1;32m      3\u001b[0m               [7, 9, 8]])\n\u001b[1;32m      4\u001b[0m \u001b[0;34m\u001b[0m\u001b[0m\n\u001b[1;32m      5\u001b[0m \u001b[0;31m# Ordenar los elementos a lo largo de las filas (axis=-1)\u001b[0m\u001b[0;34m\u001b[0m\u001b[0;34m\u001b[0m\u001b[0m\n",
            "\u001b[0;31mNameError\u001b[0m: name 'np' is not defined"
          ]
        }
      ]
    },
    {
      "cell_type": "markdown",
      "source": [
        "Se puede especificar el eje para el ordenamiento:"
      ],
      "metadata": {
        "id": "2bTB5l5R_b4i"
      }
    },
    {
      "cell_type": "code",
      "source": [
        "# Definir una matriz 2D\n",
        "x = np.array([[2, 7, 3],\n",
        "              [7, 2, 1]])\n",
        "\n",
        "# Ordenar los elementos a lo largo de las columnas (axis=0)\n",
        "np.sort(x, axis=0)  # Ordena por columnas"
      ],
      "metadata": {
        "id": "TGNe5cRb_jAX"
      },
      "execution_count": null,
      "outputs": []
    },
    {
      "cell_type": "markdown",
      "source": [
        "<p align=\"center\"><img src=\"https://drive.google.com/uc?export=view&id=1JTeoj-rhZKVNhHapCKZo2zzzxqXqFFSI\" alt=\"img30.png\" width=\"500\"></p>"
      ],
      "metadata": {
        "id": "5dPDWn34__u-"
      }
    },
    {
      "cell_type": "markdown",
      "source": [
        "- **Ordenamiento**\n",
        "    - **`np.argsort(x)`**: devuelve la posición de los índices del arreglo ordenado (por defecto, ordena a lo largo del eje `-1`)"
      ],
      "metadata": {
        "id": "pytmmdayAUq9"
      }
    },
    {
      "cell_type": "code",
      "source": [
        "# Definir una matriz 2D\n",
        "x = np.array([[1, 1, 1],\n",
        "              [7, 9, 8]])\n"
      ],
      "metadata": {
        "id": "vdHonuZxALZU"
      },
      "execution_count": null,
      "outputs": []
    },
    {
      "cell_type": "markdown",
      "source": [
        "<p align=\"center\"><img src=\"https://drive.google.com/uc?export=view&id=1BJQG9S34HO2RwnwcbVXP9zDsADj-iPVo\" alt=\"img31.png\" width=\"720\"></p>\n"
      ],
      "metadata": {
        "id": "91F8_ZBMAYaI"
      }
    },
    {
      "cell_type": "code",
      "source": [
        "np.argsort(x)  # Ordena por filas y devuelve los índices"
      ],
      "metadata": {
        "id": "Uswf7Ty7MGd1"
      },
      "execution_count": null,
      "outputs": []
    },
    {
      "cell_type": "markdown",
      "source": [
        "## 3.4 Reshape"
      ],
      "metadata": {
        "id": "Gp0chctRQD4H"
      }
    },
    {
      "cell_type": "markdown",
      "source": [
        "Le da una nueva forma (siempre que sea compatible) al arreglo sin modificar los datos.\n",
        "\n"
      ],
      "metadata": {
        "id": "8HhlC2IrQHcF"
      }
    },
    {
      "cell_type": "code",
      "source": [
        "x = np.array([[1, 2, 3],\n",
        "              [4, 5, 6]])\n",
        "\n",
        "print(x.reshape((3, 2)))\n"
      ],
      "metadata": {
        "id": "YBQYGjSGQXL2"
      },
      "execution_count": null,
      "outputs": []
    },
    {
      "cell_type": "code",
      "source": [
        "print()\n",
        "print(np.reshape(x, (6,)))  # Salida: [1, 2, 3, 4, 5, 6]\n",
        "print(x.shape)  #La forma original del array no se modifica\n",
        "\n",
        "print(x.reshape((5,)))"
      ],
      "metadata": {
        "id": "coVA82Xort6i"
      },
      "execution_count": null,
      "outputs": []
    },
    {
      "cell_type": "markdown",
      "source": [
        "## 3.5 Operaciones algebraicas"
      ],
      "metadata": {
        "id": "8DqDsE70Ax0x"
      }
    },
    {
      "cell_type": "markdown",
      "source": [
        "- `np.dot(x, y)`\n",
        "    - Producto interno si `x` e `y` son arreglos 1D"
      ],
      "metadata": {
        "id": "OfC4YalIA6Dz"
      }
    },
    {
      "cell_type": "markdown",
      "source": [
        "<p align=\"center\"><img src=\"https://drive.google.com/uc?export=view&id=14lUh4wHo7sa4CBuWI17Y1R_00wsKELc1\" alt=\"img32.png\" width=\"330\"></p>\n",
        "\n",
        "\n"
      ],
      "metadata": {
        "id": "k4RdMbM4A_bw"
      }
    },
    {
      "cell_type": "code",
      "source": [
        "# Definir dos vectores 1D\n",
        "x = np.array([1, 2, 3])\n",
        "y = np.array([0, 2, 1])  # Funciona incluso si y es un vector fila\n",
        "\n",
        "# Producto punto entre x e y\n",
        "np.dot(x, y)  # Salida: 7"
      ],
      "metadata": {
        "id": "WVdcuU7-AmiH"
      },
      "execution_count": null,
      "outputs": []
    },
    {
      "cell_type": "markdown",
      "source": [
        "- `np.dot(x, y)`\n",
        "  - Multiplicación de matriz por vector\n",
        "\n",
        "<p align=\"center\"><img src=\"https://drive.google.com/uc?export=view&id=1XHsXtd7MzNflAIKtsbkCpbGt240tNc76\" alt=\"img33.png\" width=\"350\"></p>\n"
      ],
      "metadata": {
        "id": "CrjIKgnEBZpz"
      }
    },
    {
      "cell_type": "code",
      "source": [
        "# Definir una matriz 2D\n",
        "x = np.array([[1, 1],\n",
        "              [2, 2]])\n",
        "\n",
        "# Definir un vector fila\n",
        "y = np.array([2, 3])  # Funciona incluso si y es un vector fila\n",
        "\n",
        "# Producto punto entre la matriz x y el vector y\n",
        "np.dot(x, y)  # Resultado: [5, 10] -> el resultado es un vector fila"
      ],
      "metadata": {
        "id": "4GFzUbR6Bzzq"
      },
      "execution_count": null,
      "outputs": []
    },
    {
      "cell_type": "markdown",
      "source": [
        "- `np.dot(x, y)`\n",
        "    - Multiplicación de matriz por matriz\n",
        "\n",
        "<p align=\"center\"><img src=\"https://drive.google.com/uc?export=view&id=1Dcv5aajkdNK5LGolx_XW9J-3dB-bvgzP\" alt=\"img34.png\" width=\"480\"></p>"
      ],
      "metadata": {
        "id": "6Rvvkzv5BhNC"
      }
    },
    {
      "cell_type": "code",
      "source": [
        "# Definir dos matrices 2D con NumPy\n",
        "x = np.array([[1, 1],\n",
        "              [2, 2]])\n",
        "\n",
        "y = np.array([[2, 2],\n",
        "              [1, 1]])\n",
        "\n",
        "# Producto punto entre las matrices x e y\n",
        "np.dot(x, y)  # Resultado: [[3, 3], [6, 6]]\n"
      ],
      "metadata": {
        "id": "YvYlJVo7BQnZ"
      },
      "execution_count": null,
      "outputs": []
    },
    {
      "cell_type": "markdown",
      "source": [
        "# 4. Extra:"
      ],
      "metadata": {
        "id": "2oiGYeaGJ7_k"
      }
    },
    {
      "cell_type": "markdown",
      "source": [
        "## <b>Trabajando con arreglos</b>"
      ],
      "metadata": {
        "id": "34t6H6Nm9CCu"
      }
    },
    {
      "cell_type": "markdown",
      "source": [
        "- **Summary**  \n",
        "   - Array concatenation  \n",
        "   - Array splitting  \n",
        "   - Array reshaping  \n",
        "   - Adding new dimensions"
      ],
      "metadata": {
        "id": "bezd44Ko9FSn"
      }
    },
    {
      "cell_type": "markdown",
      "source": [
        "### Concatenación"
      ],
      "metadata": {
        "id": "G5gMRauc-Ne2"
      }
    },
    {
      "cell_type": "markdown",
      "source": [
        "- Concatenación de arrays a lo largo de un **eje existente**  \n",
        "\n",
        "  - El resultado tiene el **mismo número de dimensiones** que los arrays de entrada\n",
        "\n",
        "\n",
        "<p align=\"center\"><img src=\"https://drive.google.com/uc?export=view&id=1fG0hzsIM1KkVIesfHjWbqVnNyN4wT-m2\" alt=\"img55.png\" width=\"350\"></p>\n"
      ],
      "metadata": {
        "id": "WKERegtB9Lxp"
      }
    },
    {
      "cell_type": "code",
      "source": [
        "x = np.array([[1, 2, 3], [4, 5, 6]])\n",
        "y = np.array([[11, 12, 13], [14, 15, 16]])\n",
        "\n",
        "np.concatenate((x, y), axis=0)  # Eje predeterminado: 0"
      ],
      "metadata": {
        "id": "oi0TDGCC9J2S",
        "colab": {
          "base_uri": "https://localhost:8080/",
          "height": 200
        },
        "outputId": "c7030c6a-1132-4741-c8ce-1416a3a8099a"
      },
      "execution_count": 1,
      "outputs": [
        {
          "output_type": "error",
          "ename": "NameError",
          "evalue": "name 'np' is not defined",
          "traceback": [
            "\u001b[0;31m---------------------------------------------------------------------------\u001b[0m",
            "\u001b[0;31mNameError\u001b[0m                                 Traceback (most recent call last)",
            "\u001b[0;32m/tmp/ipython-input-3046174662.py\u001b[0m in \u001b[0;36m<cell line: 0>\u001b[0;34m()\u001b[0m\n\u001b[0;32m----> 1\u001b[0;31m \u001b[0mx\u001b[0m \u001b[0;34m=\u001b[0m \u001b[0mnp\u001b[0m\u001b[0;34m.\u001b[0m\u001b[0marray\u001b[0m\u001b[0;34m(\u001b[0m\u001b[0;34m[\u001b[0m\u001b[0;34m[\u001b[0m\u001b[0;36m1\u001b[0m\u001b[0;34m,\u001b[0m \u001b[0;36m2\u001b[0m\u001b[0;34m,\u001b[0m \u001b[0;36m3\u001b[0m\u001b[0;34m]\u001b[0m\u001b[0;34m,\u001b[0m \u001b[0;34m[\u001b[0m\u001b[0;36m4\u001b[0m\u001b[0;34m,\u001b[0m \u001b[0;36m5\u001b[0m\u001b[0;34m,\u001b[0m \u001b[0;36m6\u001b[0m\u001b[0;34m]\u001b[0m\u001b[0;34m]\u001b[0m\u001b[0;34m)\u001b[0m\u001b[0;34m\u001b[0m\u001b[0;34m\u001b[0m\u001b[0m\n\u001b[0m\u001b[1;32m      2\u001b[0m \u001b[0my\u001b[0m \u001b[0;34m=\u001b[0m \u001b[0mnp\u001b[0m\u001b[0;34m.\u001b[0m\u001b[0marray\u001b[0m\u001b[0;34m(\u001b[0m\u001b[0;34m[\u001b[0m\u001b[0;34m[\u001b[0m\u001b[0;36m11\u001b[0m\u001b[0;34m,\u001b[0m \u001b[0;36m12\u001b[0m\u001b[0;34m,\u001b[0m \u001b[0;36m13\u001b[0m\u001b[0;34m]\u001b[0m\u001b[0;34m,\u001b[0m \u001b[0;34m[\u001b[0m\u001b[0;36m14\u001b[0m\u001b[0;34m,\u001b[0m \u001b[0;36m15\u001b[0m\u001b[0;34m,\u001b[0m \u001b[0;36m16\u001b[0m\u001b[0;34m]\u001b[0m\u001b[0;34m]\u001b[0m\u001b[0;34m)\u001b[0m\u001b[0;34m\u001b[0m\u001b[0;34m\u001b[0m\u001b[0m\n\u001b[1;32m      3\u001b[0m \u001b[0;34m\u001b[0m\u001b[0m\n\u001b[1;32m      4\u001b[0m \u001b[0mnp\u001b[0m\u001b[0;34m.\u001b[0m\u001b[0mconcatenate\u001b[0m\u001b[0;34m(\u001b[0m\u001b[0;34m(\u001b[0m\u001b[0mx\u001b[0m\u001b[0;34m,\u001b[0m \u001b[0my\u001b[0m\u001b[0;34m)\u001b[0m\u001b[0;34m,\u001b[0m \u001b[0maxis\u001b[0m\u001b[0;34m=\u001b[0m\u001b[0;36m0\u001b[0m\u001b[0;34m)\u001b[0m  \u001b[0;31m# Eje predeterminado: 0\u001b[0m\u001b[0;34m\u001b[0m\u001b[0;34m\u001b[0m\u001b[0m\n",
            "\u001b[0;31mNameError\u001b[0m: name 'np' is not defined"
          ]
        }
      ]
    },
    {
      "cell_type": "code",
      "source": [
        "np.concatenate"
      ],
      "metadata": {
        "id": "F4KPmg479q7w"
      },
      "execution_count": null,
      "outputs": []
    },
    {
      "cell_type": "markdown",
      "source": [
        "- Concatenación a lo largo de **filas** (`axis=1`)\n",
        "\n",
        "<p align=\"center\"><img src=\"https://drive.google.com/uc?export=view&id=1rwovM8iL0ZQUkyNckIrJKJFe3SZgD3WN\" alt=\"img56.png\" width=\"400\"></p>\n"
      ],
      "metadata": {
        "id": "jXwIpEOm9s56"
      }
    },
    {
      "cell_type": "code",
      "source": [
        "x = np.array([[1, 2, 3], [4, 5, 6]])\n",
        "y = np.array([[11, 12, 13], [14, 15, 16]])\n",
        "\n",
        "np.concatenate((x, y), axis=1)  # Concatenación a lo largo del eje 1"
      ],
      "metadata": {
        "id": "5QHD2IDo-FUy"
      },
      "execution_count": null,
      "outputs": []
    },
    {
      "cell_type": "markdown",
      "source": [
        "- Concatenación de arrays: **hstack, vstack**\n",
        "  - Similar a `np.concatenate()`\n",
        "\n",
        "<p align=\"center\"><img src=\"https://drive.google.com/uc?export=view&id=1DGStCel8_vMar7yE-out6Tj2p8sP3Kpm\" alt=\"img57.png\" width=\"600\"></p>\n"
      ],
      "metadata": {
        "id": "zHRH6XRM-Gr_"
      }
    },
    {
      "cell_type": "code",
      "source": [
        "x = np.array([[1, 2, 3], [4, 5, 6]])\n",
        "y = np.array([[11, 12, 13], [14, 15, 16]])\n",
        "\n",
        "h = np.hstack((x, y))  # A lo largo de las filas (horizontal)\n",
        "v = np.vstack((x, y))  # A lo largo de las columnas (vertical)\n",
        "\n",
        "print(h)"
      ],
      "metadata": {
        "id": "qZ3JXnQb-g4D"
      },
      "execution_count": null,
      "outputs": []
    },
    {
      "cell_type": "markdown",
      "source": [
        "- **vstack** permite concatenar vectores 1-D a lo largo de un **nuevo eje** (no es posible con `np.concatenate`)\n",
        "\n",
        "<p align=\"center\"><img src=\"https://drive.google.com/uc?export=view&id=189areG5V_u5ZgzGh4AdNyiJ9uXtN_Agv\" alt=\"img58.png\" width=\"400\"></p>\n"
      ],
      "metadata": {
        "id": "hMwO1q0m-mTp"
      }
    },
    {
      "cell_type": "code",
      "source": [
        "x = np.array([1, 2, 3])\n",
        "y = np.array([11, 12, 13])\n",
        "v = np.vstack((x, y))  # Verticalmente\n",
        "v"
      ],
      "metadata": {
        "id": "tPjTjnhP-nJ9"
      },
      "execution_count": null,
      "outputs": []
    },
    {
      "cell_type": "markdown",
      "source": [
        "### **Splitting arrays (split, hsplit, vsplit)**"
      ],
      "metadata": {
        "id": "43CKtZDv-1QN"
      }
    },
    {
      "cell_type": "markdown",
      "source": [
        "- **np.split()**: regresa una **lista** de arreglos de NumPy\n",
        "\n",
        "<p align=\"center\"><img src=\"https://drive.google.com/uc?export=view&id=16XYTZNFJNzOYrEKziUNqkJphkIZqu51t\" alt=\"img59.png\" width=\"450\"></p>\n"
      ],
      "metadata": {
        "id": "YZTU11Ze-_ls"
      }
    },
    {
      "cell_type": "code",
      "source": [
        "x = np.array([7, 7, 9, 9, 8, 8])\n",
        "np.split(x, [2, 4])  # separar antes de los elementos 2 y 4"
      ],
      "metadata": {
        "id": "IB51i_o8_RUt"
      },
      "execution_count": null,
      "outputs": []
    },
    {
      "cell_type": "markdown",
      "source": [
        "- **hsplit, vsplit** con arreglos 2D  \n",
        "    - devuelven una **lista** con los arreglos resultantes tras la división\n",
        "\n",
        "<p align=\"center\"><img src=\"https://drive.google.com/uc?export=view&id=1ZL8wn_YqxVGywBjFuro1E9Ui5J4K0qVG\" alt=\"img60.png\" width=\"600\"></p>\n"
      ],
      "metadata": {
        "id": "KNPcM4dW_Zvn"
      }
    },
    {
      "cell_type": "markdown",
      "source": [
        "- **En ambos ejemplos la salida es:**\n",
        "  `Out: [array([[1,2,3],[4,5,6]]), array([[11,12,13],[14,15,16]])]`"
      ],
      "metadata": {
        "id": "lxsQWs06_n8C"
      }
    },
    {
      "cell_type": "markdown",
      "source": [
        "### **Cambio de forma de un array**"
      ],
      "metadata": {
        "id": "JQjwt8Kx_qg2"
      }
    },
    {
      "cell_type": "markdown",
      "source": [
        "<p align=\"center\"><img src=\"https://drive.google.com/uc?export=view&id=1RvZB7IGhd-WELNmMGGMkBhjod4vm5Tqy\" alt=\"img61.png\" width=\"600\"></p>\n"
      ],
      "metadata": {
        "id": "CnFqFDKH_woZ"
      }
    },
    {
      "cell_type": "markdown",
      "source": [
        "- **La matriz `y` se llena siguiendo el orden de los índices:**\n",
        "  - `y[0,0] = x[0], y[0,1] = x[1], y[0,2] = x[2]`\n",
        "  - `y[1,0] = x[3], y[1,1] = x[4], y[1,2] = x[5]`"
      ],
      "metadata": {
        "id": "sxFb0L6U_6sm"
      }
    },
    {
      "cell_type": "code",
      "source": [
        "x = np.arange(6)\n",
        "y = x.reshape((2, 3))  # cambia la forma de x a una matriz de 2 filas por 3 columnas\n",
        "y"
      ],
      "metadata": {
        "colab": {
          "base_uri": "https://localhost:8080/",
          "height": 181
        },
        "id": "V5nTtqz3_7Na",
        "outputId": "1b5d1ad2-576a-4117-bf6f-d17bf1556500"
      },
      "execution_count": 2,
      "outputs": [
        {
          "output_type": "error",
          "ename": "NameError",
          "evalue": "name 'np' is not defined",
          "traceback": [
            "\u001b[0;31m---------------------------------------------------------------------------\u001b[0m",
            "\u001b[0;31mNameError\u001b[0m                                 Traceback (most recent call last)",
            "\u001b[0;32m/tmp/ipython-input-1018983552.py\u001b[0m in \u001b[0;36m<cell line: 0>\u001b[0;34m()\u001b[0m\n\u001b[0;32m----> 1\u001b[0;31m \u001b[0mx\u001b[0m \u001b[0;34m=\u001b[0m \u001b[0mnp\u001b[0m\u001b[0;34m.\u001b[0m\u001b[0marange\u001b[0m\u001b[0;34m(\u001b[0m\u001b[0;36m6\u001b[0m\u001b[0;34m)\u001b[0m\u001b[0;34m\u001b[0m\u001b[0;34m\u001b[0m\u001b[0m\n\u001b[0m\u001b[1;32m      2\u001b[0m \u001b[0my\u001b[0m \u001b[0;34m=\u001b[0m \u001b[0mx\u001b[0m\u001b[0;34m.\u001b[0m\u001b[0mreshape\u001b[0m\u001b[0;34m(\u001b[0m\u001b[0;34m(\u001b[0m\u001b[0;36m2\u001b[0m\u001b[0;34m,\u001b[0m \u001b[0;36m3\u001b[0m\u001b[0;34m)\u001b[0m\u001b[0;34m)\u001b[0m  \u001b[0;31m# cambia la forma de x a una matriz de 2 filas por 3 columnas\u001b[0m\u001b[0;34m\u001b[0m\u001b[0;34m\u001b[0m\u001b[0m\n\u001b[1;32m      3\u001b[0m \u001b[0my\u001b[0m\u001b[0;34m\u001b[0m\u001b[0;34m\u001b[0m\u001b[0m\n",
            "\u001b[0;31mNameError\u001b[0m: name 'np' is not defined"
          ]
        }
      ]
    },
    {
      "cell_type": "markdown",
      "source": [
        "### **Agregando nuevas dimensiones**  \n",
        "  - `np.newaxis` agrega una nueva dimensión con `shape=1` en la posición especificada"
      ],
      "metadata": {
        "id": "9-fifpF9__7z"
      }
    },
    {
      "cell_type": "markdown",
      "source": [
        "<p align=\"center\"><img src=\"https://drive.google.com/uc?export=view&id=1mVYWfqBawYJpWbPGL4ianh11ES6L4lsl\" alt=\"img62.png\" width=\"800\"></p>\n"
      ],
      "metadata": {
        "id": "hGp_KQi0AGTi"
      }
    },
    {
      "cell_type": "code",
      "source": [
        "arr = np.array([[1, 2, 3], [4, 5, 6]])\n",
        "res = arr[np.newaxis, :, :]  # salida con forma (1, 2, 3)\n",
        "print(res)"
      ],
      "metadata": {
        "id": "kUkaV9UqAQPE"
      },
      "execution_count": null,
      "outputs": []
    },
    {
      "cell_type": "markdown",
      "source": [
        "## Broadcasting (propagación)"
      ],
      "metadata": {
        "id": "UwvvVZ5QKF4f"
      }
    },
    {
      "cell_type": "markdown",
      "source": [
        "- Patrón diseñado para realizar operaciones entre arrays con **diferente forma**.\n",
        "\n",
        "<p align=\"center\">\n",
        "    <img src=\"https://drive.google.com/uc?export=view&id=1b4_bsMhY5uRJpshyqd6ciPL66edJI6qQ\" width=\"500\">\n",
        "</p>\n"
      ],
      "metadata": {
        "id": "x7znOzIDAYFb"
      }
    },
    {
      "cell_type": "markdown",
      "source": [
        "- **Reglas del broadcasting**\n",
        "    1. La forma del array con **menos dimensiones** se **rellena** con unos iniciales.\n",
        "        \n",
        "        ```python\n",
        "        x.shape = (2, 3), y.shape = (3)  # ⟶ y.shape = (1, 3)\n",
        "        ```\n",
        "\n",
        "    2. Si la forma en una dimensión es `1` para uno de los arrays y `>1` para el otro, el array con `shape = 1` en esa dimensión se **expande para coincidir con el otro array**.\n",
        "        \n",
        "        ```python\n",
        "        x.shape = (2, 3), y.shape = (1, 3)  # ⟶ y.shape = (2, 3)  # se expande\n",
        "        ```\n",
        "\n",
        "    3. Si existe una dimensión donde ambos arrays tienen `shape > 1`, entonces el broadcasting **no puede realizarse**.\n",
        "\n",
        "<p align=\"center\"><img src=\"https://drive.google.com/uc?export=view&id=1o25xrl42dAd4o9GFP4801mJI-HLE1kue\" alt=\"img37.png\" width=\"120\"></p>"
      ],
      "metadata": {
        "id": "vxQ_bIGzAmlZ"
      }
    },
    {
      "cell_type": "markdown",
      "source": [
        "- **Ejemplo: calcular `x + y`**"
      ],
      "metadata": {
        "id": "jnnSI09gA3MG"
      }
    },
    {
      "cell_type": "code",
      "source": [
        "x = np.array([1, 2, 3])\n",
        "y = np.array([[11], [12], [13]])\n",
        "\n",
        "z = x + y\n",
        "\n",
        "print(f\"x: {x}\",\"\\n\")\n",
        "print(f\"y: {y}\",\"\\n\")\n",
        "print(f\"z: {z}\",\"\\n\")"
      ],
      "metadata": {
        "id": "KxOY58OHKAug"
      },
      "execution_count": null,
      "outputs": []
    },
    {
      "cell_type": "markdown",
      "source": [
        "- **Aplicar Regla 1**\n",
        "    - `x.shape` se convierte en `(1, 3)`: `x = [[1, 2, 3]]`"
      ],
      "metadata": {
        "id": "EJ0lXBieA8pc"
      }
    },
    {
      "cell_type": "code",
      "source": [
        "# Aplicando la Regla 1: agregar una dimensión extra a x\n",
        "x = np.array([1, 2, 3]).reshape(1, 3)\n",
        "x\n"
      ],
      "metadata": {
        "id": "M0iOo5gTA-cO"
      },
      "execution_count": null,
      "outputs": []
    },
    {
      "cell_type": "markdown",
      "source": [
        "<p align=\"center\"><img src=\"https://drive.google.com/uc?export=view&id=1Hs7NG_jRz4SZUIzVPWse0oqadGzUcYkH\" alt=\"img38-1.png\" width=\"400\"></p>\n"
      ],
      "metadata": {
        "id": "wBWomxi3BBbY"
      }
    },
    {
      "cell_type": "markdown",
      "source": [
        "- **Aplicar Regla 2**:\n",
        "    - Extender `x` en el eje vertical y `y` en el eje horizontal.\n",
        "<p align=\"center\"><img src=\"https://drive.google.com/uc?export=view&id=1mD7yVPmfCntQE7HSWIWektbUzBtwuHgT\" alt=\"img38-2.png\" width=\"600\"></p>\n"
      ],
      "metadata": {
        "id": "VALjTsgjBN1B"
      }
    },
    {
      "cell_type": "markdown",
      "source": [
        "- **Ejemplo: calcular `x + y`**"
      ],
      "metadata": {
        "id": "1Dwu1-3VBQ9-"
      }
    },
    {
      "cell_type": "code",
      "source": [
        "x = np.array([[1, 2], [3, 4], [5, 6]])  # x.shape = (3, 2)\n",
        "\n",
        "#x = np.array([1, 2, 3])  # x.shape = (1, 3)\n",
        "y = np.array([11, 12, 13])  # y.shape = (3,)\n",
        "z = x + y  # Intento de operación con broadcasting"
      ],
      "metadata": {
        "id": "INYrznFkBKOT"
      },
      "execution_count": null,
      "outputs": []
    },
    {
      "cell_type": "markdown",
      "source": [
        "- **Aplicar Regla 1**:\n",
        "    - `y.shape` se convierte en `(1, 3)`: `y = [[11, 12, 13]]`\n",
        "    \n",
        "- **Aplicar Regla 3**:\n",
        "    - Las formas `(3, 2)` y `(1, 3)` son incompatibles.\n",
        "    - NumPy generará una **excepción**.\n",
        "\n",
        "<p align=\"center\"><img src=\"https://drive.google.com/uc?export=view&id=1LChaU49nkqeT2cJ3K5kbh6OQ24ihlHp5\" alt=\"img39.png\" width=\"250\"></p>\n",
        "\n"
      ],
      "metadata": {
        "id": "y-M3NkrECJ3O"
      }
    },
    {
      "cell_type": "code",
      "source": [],
      "metadata": {
        "id": "Upk9Eb2WBtBx"
      },
      "execution_count": null,
      "outputs": []
    }
  ]
}