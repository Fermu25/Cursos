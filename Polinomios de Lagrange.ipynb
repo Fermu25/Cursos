{
  "nbformat": 4,
  "nbformat_minor": 0,
  "metadata": {
    "colab": {
      "provenance": [],
      "authorship_tag": "ABX9TyOZB2svd2JWcOwbze0u1RwL",
      "include_colab_link": true
    },
    "kernelspec": {
      "name": "python3",
      "display_name": "Python 3"
    },
    "language_info": {
      "name": "python"
    }
  },
  "cells": [
    {
      "cell_type": "markdown",
      "metadata": {
        "id": "view-in-github",
        "colab_type": "text"
      },
      "source": [
        "<a href=\"https://colab.research.google.com/github/Fermu25/Cursos/blob/main/Polinomios%20de%20Lagrange.ipynb\" target=\"_parent\"><img src=\"https://colab.research.google.com/assets/colab-badge.svg\" alt=\"Open In Colab\"/></a>"
      ]
    },
    {
      "cell_type": "markdown",
      "source": [
        "Interpolación"
      ],
      "metadata": {
        "id": "apa5sbxonUCA"
      }
    },
    {
      "cell_type": "markdown",
      "source": [
        "Procesode encontrar una expresión con un conjunto de puntos que pasan por este polinomio"
      ],
      "metadata": {
        "id": "aeqAeED2o5F2"
      }
    },
    {
      "cell_type": "code",
      "source": [
        "import numpy as np\n",
        "import pandas as pd\n",
        "import matplotlib.pyplot as plt\n",
        "from math import *\n"
      ],
      "metadata": {
        "id": "uBgezOHlo0eb"
      },
      "execution_count": null,
      "outputs": []
    },
    {
      "cell_type": "code",
      "source": [
        "X1=(0,pi/4,pi/2)\n",
        "Y1=(sin(0),sin(pi/4),sin(pi/2))\n",
        "pd.DataFrame([X1,Y1],index=['x','y']) #Comprobar las interpolaciones con interpolating(grado_polinomio,variable_simbólica,X1,Y1conjunto de nodos/puntos)"
      ],
      "metadata": {
        "colab": {
          "base_uri": "https://localhost:8080/",
          "height": 112
        },
        "id": "Yh2qX0zjqgjT",
        "outputId": "b65ba23c-8b4d-4cb9-805e-da735de9a607"
      },
      "execution_count": null,
      "outputs": [
        {
          "output_type": "execute_result",
          "data": {
            "text/plain": [
              "     0         1         2\n",
              "x  0.0  0.785398  1.570796\n",
              "y  0.0  0.707107  1.000000"
            ],
            "text/html": [
              "\n",
              "  <div id=\"df-d14a18dd-9098-4633-9609-ac3877d28574\" class=\"colab-df-container\">\n",
              "    <div>\n",
              "<style scoped>\n",
              "    .dataframe tbody tr th:only-of-type {\n",
              "        vertical-align: middle;\n",
              "    }\n",
              "\n",
              "    .dataframe tbody tr th {\n",
              "        vertical-align: top;\n",
              "    }\n",
              "\n",
              "    .dataframe thead th {\n",
              "        text-align: right;\n",
              "    }\n",
              "</style>\n",
              "<table border=\"1\" class=\"dataframe\">\n",
              "  <thead>\n",
              "    <tr style=\"text-align: right;\">\n",
              "      <th></th>\n",
              "      <th>0</th>\n",
              "      <th>1</th>\n",
              "      <th>2</th>\n",
              "    </tr>\n",
              "  </thead>\n",
              "  <tbody>\n",
              "    <tr>\n",
              "      <th>x</th>\n",
              "      <td>0.0</td>\n",
              "      <td>0.785398</td>\n",
              "      <td>1.570796</td>\n",
              "    </tr>\n",
              "    <tr>\n",
              "      <th>y</th>\n",
              "      <td>0.0</td>\n",
              "      <td>0.707107</td>\n",
              "      <td>1.000000</td>\n",
              "    </tr>\n",
              "  </tbody>\n",
              "</table>\n",
              "</div>\n",
              "    <div class=\"colab-df-buttons\">\n",
              "\n",
              "  <div class=\"colab-df-container\">\n",
              "    <button class=\"colab-df-convert\" onclick=\"convertToInteractive('df-d14a18dd-9098-4633-9609-ac3877d28574')\"\n",
              "            title=\"Convert this dataframe to an interactive table.\"\n",
              "            style=\"display:none;\">\n",
              "\n",
              "  <svg xmlns=\"http://www.w3.org/2000/svg\" height=\"24px\" viewBox=\"0 -960 960 960\">\n",
              "    <path d=\"M120-120v-720h720v720H120Zm60-500h600v-160H180v160Zm220 220h160v-160H400v160Zm0 220h160v-160H400v160ZM180-400h160v-160H180v160Zm440 0h160v-160H620v160ZM180-180h160v-160H180v160Zm440 0h160v-160H620v160Z\"/>\n",
              "  </svg>\n",
              "    </button>\n",
              "\n",
              "  <style>\n",
              "    .colab-df-container {\n",
              "      display:flex;\n",
              "      gap: 12px;\n",
              "    }\n",
              "\n",
              "    .colab-df-convert {\n",
              "      background-color: #E8F0FE;\n",
              "      border: none;\n",
              "      border-radius: 50%;\n",
              "      cursor: pointer;\n",
              "      display: none;\n",
              "      fill: #1967D2;\n",
              "      height: 32px;\n",
              "      padding: 0 0 0 0;\n",
              "      width: 32px;\n",
              "    }\n",
              "\n",
              "    .colab-df-convert:hover {\n",
              "      background-color: #E2EBFA;\n",
              "      box-shadow: 0px 1px 2px rgba(60, 64, 67, 0.3), 0px 1px 3px 1px rgba(60, 64, 67, 0.15);\n",
              "      fill: #174EA6;\n",
              "    }\n",
              "\n",
              "    .colab-df-buttons div {\n",
              "      margin-bottom: 4px;\n",
              "    }\n",
              "\n",
              "    [theme=dark] .colab-df-convert {\n",
              "      background-color: #3B4455;\n",
              "      fill: #D2E3FC;\n",
              "    }\n",
              "\n",
              "    [theme=dark] .colab-df-convert:hover {\n",
              "      background-color: #434B5C;\n",
              "      box-shadow: 0px 1px 3px 1px rgba(0, 0, 0, 0.15);\n",
              "      filter: drop-shadow(0px 1px 2px rgba(0, 0, 0, 0.3));\n",
              "      fill: #FFFFFF;\n",
              "    }\n",
              "  </style>\n",
              "\n",
              "    <script>\n",
              "      const buttonEl =\n",
              "        document.querySelector('#df-d14a18dd-9098-4633-9609-ac3877d28574 button.colab-df-convert');\n",
              "      buttonEl.style.display =\n",
              "        google.colab.kernel.accessAllowed ? 'block' : 'none';\n",
              "\n",
              "      async function convertToInteractive(key) {\n",
              "        const element = document.querySelector('#df-d14a18dd-9098-4633-9609-ac3877d28574');\n",
              "        const dataTable =\n",
              "          await google.colab.kernel.invokeFunction('convertToInteractive',\n",
              "                                                    [key], {});\n",
              "        if (!dataTable) return;\n",
              "\n",
              "        const docLinkHtml = 'Like what you see? Visit the ' +\n",
              "          '<a target=\"_blank\" href=https://colab.research.google.com/notebooks/data_table.ipynb>data table notebook</a>'\n",
              "          + ' to learn more about interactive tables.';\n",
              "        element.innerHTML = '';\n",
              "        dataTable['output_type'] = 'display_data';\n",
              "        await google.colab.output.renderOutput(dataTable, element);\n",
              "        const docLink = document.createElement('div');\n",
              "        docLink.innerHTML = docLinkHtml;\n",
              "        element.appendChild(docLink);\n",
              "      }\n",
              "    </script>\n",
              "  </div>\n",
              "\n",
              "\n",
              "<div id=\"df-5e24dc5e-0a87-4aa8-91e1-5731c7c8101c\">\n",
              "  <button class=\"colab-df-quickchart\" onclick=\"quickchart('df-5e24dc5e-0a87-4aa8-91e1-5731c7c8101c')\"\n",
              "            title=\"Suggest charts\"\n",
              "            style=\"display:none;\">\n",
              "\n",
              "<svg xmlns=\"http://www.w3.org/2000/svg\" height=\"24px\"viewBox=\"0 0 24 24\"\n",
              "     width=\"24px\">\n",
              "    <g>\n",
              "        <path d=\"M19 3H5c-1.1 0-2 .9-2 2v14c0 1.1.9 2 2 2h14c1.1 0 2-.9 2-2V5c0-1.1-.9-2-2-2zM9 17H7v-7h2v7zm4 0h-2V7h2v10zm4 0h-2v-4h2v4z\"/>\n",
              "    </g>\n",
              "</svg>\n",
              "  </button>\n",
              "\n",
              "<style>\n",
              "  .colab-df-quickchart {\n",
              "      --bg-color: #E8F0FE;\n",
              "      --fill-color: #1967D2;\n",
              "      --hover-bg-color: #E2EBFA;\n",
              "      --hover-fill-color: #174EA6;\n",
              "      --disabled-fill-color: #AAA;\n",
              "      --disabled-bg-color: #DDD;\n",
              "  }\n",
              "\n",
              "  [theme=dark] .colab-df-quickchart {\n",
              "      --bg-color: #3B4455;\n",
              "      --fill-color: #D2E3FC;\n",
              "      --hover-bg-color: #434B5C;\n",
              "      --hover-fill-color: #FFFFFF;\n",
              "      --disabled-bg-color: #3B4455;\n",
              "      --disabled-fill-color: #666;\n",
              "  }\n",
              "\n",
              "  .colab-df-quickchart {\n",
              "    background-color: var(--bg-color);\n",
              "    border: none;\n",
              "    border-radius: 50%;\n",
              "    cursor: pointer;\n",
              "    display: none;\n",
              "    fill: var(--fill-color);\n",
              "    height: 32px;\n",
              "    padding: 0;\n",
              "    width: 32px;\n",
              "  }\n",
              "\n",
              "  .colab-df-quickchart:hover {\n",
              "    background-color: var(--hover-bg-color);\n",
              "    box-shadow: 0 1px 2px rgba(60, 64, 67, 0.3), 0 1px 3px 1px rgba(60, 64, 67, 0.15);\n",
              "    fill: var(--button-hover-fill-color);\n",
              "  }\n",
              "\n",
              "  .colab-df-quickchart-complete:disabled,\n",
              "  .colab-df-quickchart-complete:disabled:hover {\n",
              "    background-color: var(--disabled-bg-color);\n",
              "    fill: var(--disabled-fill-color);\n",
              "    box-shadow: none;\n",
              "  }\n",
              "\n",
              "  .colab-df-spinner {\n",
              "    border: 2px solid var(--fill-color);\n",
              "    border-color: transparent;\n",
              "    border-bottom-color: var(--fill-color);\n",
              "    animation:\n",
              "      spin 1s steps(1) infinite;\n",
              "  }\n",
              "\n",
              "  @keyframes spin {\n",
              "    0% {\n",
              "      border-color: transparent;\n",
              "      border-bottom-color: var(--fill-color);\n",
              "      border-left-color: var(--fill-color);\n",
              "    }\n",
              "    20% {\n",
              "      border-color: transparent;\n",
              "      border-left-color: var(--fill-color);\n",
              "      border-top-color: var(--fill-color);\n",
              "    }\n",
              "    30% {\n",
              "      border-color: transparent;\n",
              "      border-left-color: var(--fill-color);\n",
              "      border-top-color: var(--fill-color);\n",
              "      border-right-color: var(--fill-color);\n",
              "    }\n",
              "    40% {\n",
              "      border-color: transparent;\n",
              "      border-right-color: var(--fill-color);\n",
              "      border-top-color: var(--fill-color);\n",
              "    }\n",
              "    60% {\n",
              "      border-color: transparent;\n",
              "      border-right-color: var(--fill-color);\n",
              "    }\n",
              "    80% {\n",
              "      border-color: transparent;\n",
              "      border-right-color: var(--fill-color);\n",
              "      border-bottom-color: var(--fill-color);\n",
              "    }\n",
              "    90% {\n",
              "      border-color: transparent;\n",
              "      border-bottom-color: var(--fill-color);\n",
              "    }\n",
              "  }\n",
              "</style>\n",
              "\n",
              "  <script>\n",
              "    async function quickchart(key) {\n",
              "      const quickchartButtonEl =\n",
              "        document.querySelector('#' + key + ' button');\n",
              "      quickchartButtonEl.disabled = true;  // To prevent multiple clicks.\n",
              "      quickchartButtonEl.classList.add('colab-df-spinner');\n",
              "      try {\n",
              "        const charts = await google.colab.kernel.invokeFunction(\n",
              "            'suggestCharts', [key], {});\n",
              "      } catch (error) {\n",
              "        console.error('Error during call to suggestCharts:', error);\n",
              "      }\n",
              "      quickchartButtonEl.classList.remove('colab-df-spinner');\n",
              "      quickchartButtonEl.classList.add('colab-df-quickchart-complete');\n",
              "    }\n",
              "    (() => {\n",
              "      let quickchartButtonEl =\n",
              "        document.querySelector('#df-5e24dc5e-0a87-4aa8-91e1-5731c7c8101c button');\n",
              "      quickchartButtonEl.style.display =\n",
              "        google.colab.kernel.accessAllowed ? 'block' : 'none';\n",
              "    })();\n",
              "  </script>\n",
              "</div>\n",
              "    </div>\n",
              "  </div>\n"
            ],
            "application/vnd.google.colaboratory.intrinsic+json": {
              "type": "dataframe",
              "summary": "{\n  \"name\": \"pd\",\n  \"rows\": 2,\n  \"fields\": [\n    {\n      \"column\": 0,\n      \"properties\": {\n        \"dtype\": \"number\",\n        \"std\": 0.0,\n        \"min\": 0.0,\n        \"max\": 0.0,\n        \"num_unique_values\": 1,\n        \"samples\": [\n          0.0\n        ],\n        \"semantic_type\": \"\",\n        \"description\": \"\"\n      }\n    },\n    {\n      \"column\": 1,\n      \"properties\": {\n        \"dtype\": \"number\",\n        \"std\": 0.055360367269795804,\n        \"min\": 0.7071067811865475,\n        \"max\": 0.7853981633974483,\n        \"num_unique_values\": 2,\n        \"samples\": [\n          0.7071067811865475\n        ],\n        \"semantic_type\": \"\",\n        \"description\": \"\"\n      }\n    },\n    {\n      \"column\": 2,\n      \"properties\": {\n        \"dtype\": \"number\",\n        \"std\": 0.403613953353044,\n        \"min\": 1.0,\n        \"max\": 1.5707963267948966,\n        \"num_unique_values\": 2,\n        \"samples\": [\n          1.0\n        ],\n        \"semantic_type\": \"\",\n        \"description\": \"\"\n      }\n    }\n  ]\n}"
            }
          },
          "metadata": {},
          "execution_count": 40
        }
      ]
    },
    {
      "cell_type": "code",
      "source": [
        "l=[i for i in range(0,3)] #se puede hacer la comprensión de listas tan grande como se pueda\n",
        "print(l)\n",
        "\n",
        "l1=[]\n",
        "for i in range(0,3):\n",
        " l1.append(i)\n",
        "print(l1)"
      ],
      "metadata": {
        "colab": {
          "base_uri": "https://localhost:8080/"
        },
        "id": "NeT4z-SysiCG",
        "outputId": "9f6900f2-5d5b-442d-9dd4-31cb69609f6e"
      },
      "execution_count": null,
      "outputs": [
        {
          "output_type": "stream",
          "name": "stdout",
          "text": [
            "[0, 1, 2]\n",
            "[0, 1, 2]\n"
          ]
        }
      ]
    },
    {
      "cell_type": "code",
      "source": [
        "from sympy import *\n",
        "from sympy.abc import x,epsilon,alpha\n",
        "p1=interpolating_poly(3,x,X1,Y1)\n",
        "pln=lambdify(x,p1) #lambdify recibe x y regresa p1 valuado en x, me regresa lo simbólico en numérico\n",
        "x1r=np.linspace(0,1.58)\n",
        "plt.plot(x1r,np.sin(x1r),label='$\\sin x$')#aproximacion real\n",
        "plt.plot(x1r,pln(x1r),label='$p_2(x)$')#aproximacion numérica de sympy\n",
        "plt.plot([N(x) for x in X1],[N(x) for x in Y1],'o') #N(x), comprensión de listas, crear una lista en un solo renglon, N(x) puede ser función, indice, etc, le puedo poner x, y en lugar de N(x)\n",
        "plt.legend() #'o' visualización en puntos, cuando las funciones son horribles, le pego un polinomio y el polinomio si lo puedo integrar y no integrar la otra función fea, también para la derivada,etc"
      ],
      "metadata": {
        "colab": {
          "base_uri": "https://localhost:8080/",
          "height": 447
        },
        "id": "xyrAVysxpLmb",
        "outputId": "80bbcffd-1510-4a8c-bb13-533f86893df4"
      },
      "execution_count": null,
      "outputs": [
        {
          "output_type": "execute_result",
          "data": {
            "text/plain": [
              "<matplotlib.legend.Legend at 0x7f113782b370>"
            ]
          },
          "metadata": {},
          "execution_count": 41
        },
        {
          "output_type": "display_data",
          "data": {
            "text/plain": [
              "<Figure size 640x480 with 1 Axes>"
            ],
            "image/png": "[encoded data removed]"
          },
          "metadata": {}
        }
      ]
    },
    {
      "cell_type": "markdown",
      "source": [
        "$$P1(x)=\\frac{x-x1}{x_0-x_1}$$\n",
        "$$L_0 =\\frac{(x-x_{1})(x-x_{2})}{(x_0 - x_1)(x_0 - x_2)}$$\n",
        "$$L_1 = \\frac{(x-x_0)(x-x_2)}{(x_1 -x_0)(x_1 -x_2)}$$\n",
        "$$L_2= \\frac{}{}$$\n"
      ],
      "metadata": {
        "id": "ECah29b8vJnd"
      }
    },
    {
      "cell_type": "code",
      "source": [
        "#Interpolación lineal\n",
        "#Para un polinomio de grado n, necesito n+1 nodos(puntos)\n",
        "from sympy import *\n",
        "from sympy.abc import x\n",
        "def Lagrange(x_inicial,X,Y): #Recibir un conjunto de nodos y sacar los Lk(x), es numérico, entonces el usuario da el x_0\n",
        " grad_pol=len(X)\n",
        " Polinomio_Lag=0\n",
        " def L_k(grad_pol):\n",
        "  l=1\n",
        "  L=[]\n",
        "  for i in range(0,grad_pol):\n",
        "   for k in range(0,grad_pol,1):\n",
        "     if k!=i:\n",
        "      a=(x_inicial-X[i])\n",
        "      b=(X[k]-X[i])\n",
        "      l*=a/b\n",
        "      #l*=(x_inicial-X[i])/(X[k]-X[i])\n",
        "      L.append(l)\n",
        "     else:\n",
        "      print('error, división por cero')\n",
        "  return L\n",
        " for j in range(0,grad_pol):\n",
        "  Polinomio_Lag+=Y[j]*L_k(grad_pol)[j]*(x**i)\n",
        " return Polinomio_Lag\n",
        "\n",
        "#X1=(1,2,3)\n",
        "#Y1=(4,5,6)\n",
        "X2=(0,pi/4,pi/2)\n",
        "Y2=(sin(0),sin(pi/4),sin(pi/2))\n",
        "print(Lagrange(1,X2,Y2))\n",
        "\n"
      ],
      "metadata": {
        "id": "s4pyg5Pttp0P"
      },
      "execution_count": null,
      "outputs": []
    },
    {
      "cell_type": "code",
      "source": [
        "from sympy import symbols, sin, pi, expand\n",
        "x = symbols('x')\n",
        "\n",
        "def Lagrange(X, Y):\n",
        "    n = len(X)\n",
        "    Polinomio_Lag = 0\n",
        "\n",
        "    def L_k(k):\n",
        "        lk = 1\n",
        "        for j in range(n):\n",
        "            if j != k:\n",
        "                lk *= (x - X[j]) / (X[k] - X[j])\n",
        "        return lk\n",
        "\n",
        "    for k in range(n):\n",
        "        Polinomio_Lag += Y[k] * L_k(k)\n",
        "\n",
        "    return expand(Polinomio_Lag)\n",
        "\n",
        "# Definimos los nodos y sus valores correspondientes\n",
        "X2 = (0, pi/4, pi/2)\n",
        "Y2 = (sin(0), sin(pi/4), sin(pi/2))\n",
        "\n",
        "# Calculamos el polinomio de Lagrange\n",
        "polinomio = Lagrange(X2, Y2)\n",
        "print(polinomio)\n"
      ],
      "metadata": {
        "colab": {
          "base_uri": "https://localhost:8080/"
        },
        "id": "x8suHNSfzaAN",
        "outputId": "c0873173-e2d1-419d-d7d7-ace4a6e3285f"
      },
      "execution_count": null,
      "outputs": [
        {
          "output_type": "stream",
          "name": "stdout",
          "text": [
            "-8*sqrt(2)*x**2/pi**2 + 8*x**2/pi**2 - 2*x/pi + 4*sqrt(2)*x/pi\n"
          ]
        }
      ]
    },
    {
      "cell_type": "code",
      "execution_count": 1,
      "metadata": {
        "id": "R4Oisd9pnTIr",
        "outputId": "38028954-9a73-448b-a813-115c46d25562",
        "colab": {
          "base_uri": "https://localhost:8080/",
          "height": 111
        }
      },
      "outputs": [
        {
          "output_type": "error",
          "ename": "IndentationError",
          "evalue": "unexpected indent (ipython-input-1707104947.py, line 5)",
          "traceback": [
            "\u001b[0;36m  File \u001b[0;32m\"/tmp/ipython-input-1707104947.py\"\u001b[0;36m, line \u001b[0;32m5\u001b[0m\n\u001b[0;31m    plt.legend()\u001b[0m\n\u001b[0m    ^\u001b[0m\n\u001b[0;31mIndentationError\u001b[0m\u001b[0;31m:\u001b[0m unexpected indent\n"
          ]
        }
      ],
      "source": [
        "import numpy as np\n",
        "import pandas as pd\n",
        "import matplotlib.pyplot as plt #Teorema del límite central cuchareo máximo\n",
        "\n",
        " plt.legend()\n",
        "\n",
        " plt.subplot(122)\n",
        " ax=figsize=(20,9) #Extrapolar, herramientas de estadística y meterles una recta, interpolar es cálculo y ajustar una curva\n",
        " xr=np.linspace(1.08,1.22)\n",
        " plt.plot(xr,lin_interp(xr,Points2[1],Points2[2])) #Polinomios de lagrange y series de taylor son para aproximar funciones,también por método de newton que son diferencias divididas(Recursión), aproximación baricentrica(Polinomios de Bessel, legendre,hermite,sershe,etc)"
      ]
    }
  ]
}