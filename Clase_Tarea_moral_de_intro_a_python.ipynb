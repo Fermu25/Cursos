{
  "nbformat": 4,
  "nbformat_minor": 0,
  "metadata": {
    "colab": {
      "provenance": [],
      "include_colab_link": true
    },
    "kernelspec": {
      "name": "python3",
      "display_name": "Python 3"
    },
    "language_info": {
      "name": "python"
    }
  },
  "cells": [
    {
      "cell_type": "markdown",
      "metadata": {
        "id": "view-in-github",
        "colab_type": "text"
      },
      "source": [
        "<a href=\"https://colab.research.google.com/github/Fermu25/Cursos/blob/main/Clase_Tarea_moral_de_intro_a_python.ipynb\" target=\"_parent\"><img src=\"https://colab.research.google.com/assets/colab-badge.svg\" alt=\"Open In Colab\"/></a>"
      ]
    },
    {
      "cell_type": "markdown",
      "source": [
        "# Entregar antes del 12 de febrero de 2024.\n"
      ],
      "metadata": {
        "id": "ieJCpJy-l9Zu"
      }
    },
    {
      "cell_type": "markdown",
      "source": [
        "1.\n",
        "* Crea una variable de tipo entero y modifícala para que sea flotante.\n",
        "* Crea una variable que almacene lo siguiente:\n",
        "  * Hacer una cosa sin comprenderla era una acción deshonesta, una falsedad\n",
        "  * Lev Tolstoi\n",
        "  * Todos piensan en cambiar el mundo, pero nadie piensa en cambiarse a sí mismo\n",
        "\n",
        "Haz que las frases se lean en una sola salida que tenga sentido.\n",
        "\n",
        "** Ambas son frases de Tolstoi."
      ],
      "metadata": {
        "id": "NC9iSF5_lp7W"
      }
    },
    {
      "cell_type": "code",
      "execution_count": null,
      "metadata": {
        "id": "nEq0Zw61llPS",
        "colab": {
          "base_uri": "https://localhost:8080/"
        },
        "outputId": "f0fa8011-2f10-4bde-c6d9-be95a9be01f9"
      },
      "outputs": [
        {
          "output_type": "stream",
          "name": "stdout",
          "text": [
            "Ingresa tu variable entera6\n",
            "<class 'float'>\n",
            "Hacer una cosa sin comprenderla era una acción deshonesta, una falsedad\n",
            " Lev Tolstoi\n",
            " Todos piensan en cambiar el mundo, pero nadie piensa en cambiarse a sí mismo\n"
          ]
        }
      ],
      "source": [
        "#Tu código va aquí.\n",
        "var1=int(input(\"Ingresa tu variable entera\"))\n",
        "var2=float(var1)\n",
        "print(type(var2))\n",
        "\n",
        "text=\"Hacer una cosa sin comprenderla era una acción deshonesta, una falsedad \\n Lev Tolstoi \\n Todos piensan en cambiar el mundo, pero nadie piensa en cambiarse a sí mismo\"\n",
        "print(text)"
      ]
    },
    {
      "cell_type": "markdown",
      "source": [
        "2. Dadas dos variables (valor1 = 1 y valor2 = 5) usa los (6) operadores de comparación. ¿Podrías usarlos si las variables no fueran del mismo tipo (entero)? ¿Hay casos en los que sí o en los que no?"
      ],
      "metadata": {
        "id": "ASQTCf66M4-O"
      }
    },
    {
      "cell_type": "code",
      "source": [
        "#valor1=1\n",
        "#valor2=5\n",
        "#print(valor1 == valor2)\n",
        "#print(valor1 != valor2)\n",
        "#print(valor1 > valor2)\n",
        "#print(valor1 < valor2)\n",
        "#print(valor1 >= valor2)\n",
        "#print(valor1 <= valor2)\n",
        "\n",
        "#valor1=int(8)\n",
        "#valor2=float(5.)\n",
        "#print(valor1 == valor2)\n",
        "#print(valor1 != valor2)\n",
        "#print(valor1 > valor2)\n",
        "#print(valor1 < valor2)\n",
        "#print(valor1 >= valor2)\n",
        "#print(valor1 <= valor2)\n",
        "\n",
        "valor1=True\n",
        "valor2=False\n",
        "print(valor1 == valor2)\n",
        "print(valor1 != valor2)\n",
        "print(valor1 > valor2)\n",
        "print(valor1 < valor2)\n",
        "print(valor1 >= valor2)\n",
        "print(valor1 <= valor2)\n",
        "#Los operadores de comparación se pueden utilizar ya sea con flotantes y enteros mezclados, pero justo que se trate de números, porque con listas o cadenas no funciona, así que para números en general funcionan.\n",
        "#También al comparar valores lógicos como el True(1) y el False(0)"
      ],
      "metadata": {
        "id": "HSos4JHyM36t",
        "colab": {
          "base_uri": "https://localhost:8080/"
        },
        "outputId": "c0e4e537-d3f1-445d-9b45-6fe1de1011d7"
      },
      "execution_count": null,
      "outputs": [
        {
          "output_type": "stream",
          "name": "stdout",
          "text": [
            "False\n",
            "True\n",
            "True\n",
            "False\n",
            "True\n",
            "False\n"
          ]
        }
      ]
    },
    {
      "cell_type": "markdown",
      "source": [
        "3. Por favor haz una tupla, una lista y un diccionario, con al menos cinco elementos cada uno, tales que:\n",
        "* Al menos un elemento sea de tipo string, uno de tipo booleao y uno de tipo fotante o entero.\n",
        "* Al menos una estructura (lista, tupla o diccionario) debe tener como uno de sus elementos a otra de las estructuras, por ejemplo, un elemento de la lista debe tener como elemento a la tupla o al diccionario, o un elemeto de la tupla debe ser la listao el diccionario o un elemento del diccionario debe ser la tupla o la lista.\n",
        "* Si se puede, cambia el elemento **2** de cada una de las estructuras. ¿Con todas las estructuras se pudo?"
      ],
      "metadata": {
        "id": "SqCphM-hOT3w"
      }
    },
    {
      "cell_type": "code",
      "source": [
        "tupla= (\"Holamundo\", True, 5., 5, [1, 2, 3])\n",
        "lista = [\"Tarea\", False, 2., (\"Holamundo\", True, 5.), {\"Tarea\": \"No\", \"Pereza\": \"Si\"}]\n",
        "diccionario = {\"Nombre\": \"Fernando\", \"edad\": 23, \"tupla\": (11, 12, 13),\"otro\": 1, \"ya\": 2}\n",
        "\n",
        "tupla = list(tupla) #Las tuplas son inmutables, pero como lista se puede modificar y luego reconvertir a tupla\n",
        "tupla[1] = False\n",
        "tupla = tuple(tupla)\n",
        "lista[1] = True\n",
        "diccionario[\"edad\"] = 32\n",
        "\n",
        "print(tupla)\n",
        "print(lista)\n",
        "print(diccionario)\n"
      ],
      "metadata": {
        "id": "oriK0FvCOZXr",
        "colab": {
          "base_uri": "https://localhost:8080/"
        },
        "outputId": "1530668f-a869-428e-cee0-24643f7beff5"
      },
      "execution_count": null,
      "outputs": [
        {
          "output_type": "stream",
          "name": "stdout",
          "text": [
            "('Holamundo', False, 5.0, 5, [1, 2, 3])\n",
            "['Tarea', True, 2.0, ('Holamundo', True, 5.0), {'Tarea': 'No', 'Pereza': 'Si'}]\n",
            "{'Nombre': 'Fernando', 'edad': 32, 'tupla': (11, 12, 13), 'otro': 1, 'ya': 2}\n"
          ]
        }
      ]
    },
    {
      "cell_type": "markdown",
      "source": [
        "4. Crea un total de dos tuplas, puedes reciclar la del ejercicio previo si lo deseas.\n",
        "\n",
        "¿Qué operaciones puedes realizar con las tuplas?\n",
        "\n",
        "Por favor muestra tus resultados."
      ],
      "metadata": {
        "id": "x-QC_nnFfoVM"
      }
    },
    {
      "cell_type": "code",
      "source": [
        "m= (\"Holamundo\", True, 5., 5, [1, 2, 3])\n",
        "n= (\"Holamundo\", True, 5., 5, [1, 2, 3])\n",
        "\n",
        "#Podemos sumar o concatenar ambas tuplas\n",
        "print(m+n)\n",
        "#Podemos multiplicar una tupla por un número entero y eso la concatena n-veces consigo misma\n",
        "print(5*n)\n",
        "#Podemos comparar tuplas elemento por elemento\n",
        "print(m<n)\n",
        "print(m>n)\n",
        "print(m==n)\n",
        "print(m!=n)\n",
        "print(m<=n)\n",
        "print(m>=n)"
      ],
      "metadata": {
        "id": "21K87IPCXxH0",
        "colab": {
          "base_uri": "https://localhost:8080/"
        },
        "outputId": "f1afb4ae-2d85-4beb-e5cd-68a2cf5a7a58"
      },
      "execution_count": null,
      "outputs": [
        {
          "output_type": "stream",
          "name": "stdout",
          "text": [
            "('Holamundo', True, 5.0, 5, [1, 2, 3], 'Holamundo', True, 5.0, 5, [1, 2, 3])\n",
            "('Holamundo', True, 5.0, 5, [1, 2, 3], 'Holamundo', True, 5.0, 5, [1, 2, 3], 'Holamundo', True, 5.0, 5, [1, 2, 3], 'Holamundo', True, 5.0, 5, [1, 2, 3], 'Holamundo', True, 5.0, 5, [1, 2, 3])\n",
            "False\n",
            "False\n",
            "True\n",
            "False\n",
            "True\n",
            "True\n"
          ]
        }
      ]
    },
    {
      "cell_type": "markdown",
      "source": [
        "5. Modifica tu lista y diccionario para que los últimos tres valores de ambos sean: \"Abcdf\", 1.3 y False. No agregues más elementos, de momento sólo modifica los ya existentes.\n",
        "\n",
        "* Ahora sí, por favor agrega un elemento a tu lista y otro a tu diccionario.\n",
        "* Imprime el último elemento de tu lista y los valores 1-5 de tu lista.\n",
        "* Imprime los items y los valores de tu diccionario.\n",
        "* Cambia el primer valor de tu diccionario por otro.\n",
        "* ¿Puedes cambiar la llave de ese primer valor de tu diccionario?"
      ],
      "metadata": {
        "id": "UhhislnjiEH0"
      }
    },
    {
      "cell_type": "code",
      "source": [
        "lista = [\"Tarea\", False, 2., (\"Holamundo\", True, 5.), {\"Tarea\": \"No\", \"Pereza\": \"Si\"}]\n",
        "diccionario = {\"Nombre\": \"Fernando\", \"edad\": 23, \"tupla\": (11, 12, 13),\"otro\": 1, \"ya\": 2}\n",
        "\n",
        "lista[-3:] = [\"Abcdf\", 1.3, False]\n",
        "diccionario[\"tupla\"] = \"Abcdf\"\n",
        "diccionario[\"otro\"] = 1.3\n",
        "diccionario[\"ya\"] = False\n",
        "\n",
        "lista.append(\"elemento\")\n",
        "diccionario[\"Nuevo\"]=\"Elementoo\"\n",
        "\n",
        "print(lista[-1])\n",
        "print(lista[1:5]) #Del 1-5 0 del 0-4 o los  primeros 5 elementos, me entró la duda en esta parte para imprimir los elementos del 1-5\n",
        "\n",
        "print(\"Diccionario:\",diccionario.items(),diccionario.values())\n",
        "\n",
        "\n",
        "diccionario[\"Nombre\"] = \"Fermi\"\n",
        "\n",
        "# No se puede cambiar directamente la llave del primer valor del diccionario, pero si se puede usar el pop con el cual quitamos el primer elemento del diccionario\n",
        "#una vez removido, modificamos su etiqueta y después reintroducimos al diccionario como un elemento nuevo\n",
        "Llave1 = diccionario.pop(\"Nombre\")\n",
        "diccionario[\"Nombre2\"] = Llave1\n",
        "print(diccionario)\n"
      ],
      "metadata": {
        "id": "JW4ckhxYjTpb",
        "colab": {
          "base_uri": "https://localhost:8080/"
        },
        "outputId": "0222b1a2-9d09-4f9d-a863-d12efe204d4f"
      },
      "execution_count": null,
      "outputs": [
        {
          "output_type": "stream",
          "name": "stdout",
          "text": [
            "elemento\n",
            "[False, 'Abcdf', 1.3, False]\n",
            "Diccionario: dict_items([('Nombre', 'Fernando'), ('edad', 23), ('tupla', 'Abcdf'), ('otro', 1.3), ('ya', False), ('Nuevo', 'Elementoo')]) dict_values(['Fernando', 23, 'Abcdf', 1.3, False, 'Elementoo'])\n",
            "{'edad': 23, 'tupla': 'Abcdf', 'otro': 1.3, 'ya': False, 'Nuevo': 'Elementoo', 'Nombre2': 'Fermi'}\n"
          ]
        }
      ]
    },
    {
      "cell_type": "markdown",
      "source": [
        "6. ¿Recuerdas que mencionamos la función input y range? por favor úsalas para crear una lista en la que preguntes al usuario la dimensión de tu lista o arreglo y luego pídele al usuario que llene dicha lista con valores enteros.\n",
        "\n",
        "¿Puedes conseguir que los valores enteros que ingresó el usuario sean flotantes?\n",
        "\n",
        "¿Cómo sumarías los elementos 0 y 1 de tu lista?\n",
        "\n",
        "Por favor muestra lo anterios en una (o varias) celda(s) de código."
      ],
      "metadata": {
        "id": "g6WL1JAyjXIG"
      }
    },
    {
      "cell_type": "code",
      "source": [
        "dim = int(input(\"Ingresa la dimensión de la lista en valores enteros \\t \"))\n",
        "null_list = []\n",
        "\n",
        "for i in range(dim):\n",
        "    valor = float(input(\"¿Cuál es el valor i de la lista?\"))  #con el float convierto los valores a flotantes\n",
        "    null_list.append(valor)\n",
        "\n",
        "print(null_list)\n",
        "\n",
        "s = null_list[0] + null_list[1]\n",
        "print(s)\n"
      ],
      "metadata": {
        "id": "guc-P3mnlCxa",
        "colab": {
          "base_uri": "https://localhost:8080/"
        },
        "outputId": "b4dbec61-1b1b-4207-d230-c653513871a4"
      },
      "execution_count": null,
      "outputs": [
        {
          "output_type": "stream",
          "name": "stdout",
          "text": [
            "Ingresa la dimensión de la lista en valores enteros \t 5\n",
            "¿Cuál es el valor i de la lista?5\n",
            "¿Cuál es el valor i de la lista?5\n",
            "¿Cuál es el valor i de la lista?5\n",
            "¿Cuál es el valor i de la lista?5\n",
            "¿Cuál es el valor i de la lista?5\n",
            "[5.0, 5.0, 5.0, 5.0, 5.0]\n",
            "10.0\n"
          ]
        }
      ]
    }
  ]
}