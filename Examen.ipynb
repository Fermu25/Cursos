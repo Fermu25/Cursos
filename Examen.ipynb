{
  "nbformat": 4,
  "nbformat_minor": 0,
  "metadata": {
    "colab": {
      "provenance": [],
      "include_colab_link": true
    },
    "kernelspec": {
      "name": "python3",
      "display_name": "Python 3"
    },
    "language_info": {
      "name": "python"
    }
  },
  "cells": [
    {
      "cell_type": "markdown",
      "metadata": {
        "id": "view-in-github",
        "colab_type": "text"
      },
      "source": [
        "<a href=\"https://colab.research.google.com/github/Fermu25/Cursos/blob/main/Examen.ipynb\" target=\"_parent\"><img src=\"https://colab.research.google.com/assets/colab-badge.svg\" alt=\"Open In Colab\"/></a>"
      ]
    },
    {
      "cell_type": "markdown",
      "source": [
        "Examen métodos"
      ],
      "metadata": {
        "id": "u4hWxV6Ph2ig"
      }
    },
    {
      "cell_type": "code",
      "source": [
        "# Define the number of elements in the list\n",
        "num_elements = int(input(\"¿Cuantos elementos quieres que tenga la lista? \"))\n",
        "\n",
        "# Define an empty list\n",
        "# The list size should be between 2 and 10^5\n",
        "if num_elements <= 1 or num_elements >= 10**5:\n",
        "    # Exit the program if the condition is not met\n",
        "    quit()\n",
        "else:\n",
        "    # Continue if the condition is met\n",
        "    pass\n",
        "\n",
        "input_list = []\n",
        "\n",
        "# Loop to get input values for the list\n",
        "for _ in range(num_elements):\n",
        "    value = int(input(\"Ingrese un valor entero para agregarlo a la lista:\"))\n",
        "    input_list.append(value)\n",
        "\n",
        "# Print the created list\n",
        "print(input_list)\n",
        "\n",
        "# Get the number of times the list should be repeated\n",
        "repeat_count = int(input(\"¿Cuantas veces quieres que se repita la lista\"))\n",
        "\n",
        "# Create a new list by repeating the input list\n",
        "repeated_list = input_list * repeat_count\n",
        "print(repeated_list)\n",
        "\n",
        "# Define a function to find the maximum sum of a subarray\n",
        "def mssl(l):\n",
        "    \"\"\"\n",
        "    Finds the maximum sum of a contiguous subarray within a list.\n",
        "\n",
        "    Args:\n",
        "        l: The input list of integers.\n",
        "\n",
        "    Returns:\n",
        "        The maximum sum found.\n",
        "    \"\"\"\n",
        "    max_so_far = 0\n",
        "    current_max = 0\n",
        "    for i in l:\n",
        "        current_max = max(current_max + i, 0)\n",
        "        max_so_far = max(max_so_far, current_max)\n",
        "    return max_so_far\n",
        "\n",
        "# Calculate and print the maximum subarray sum of the repeated list\n",
        "max_sum = mssl(repeated_list)\n",
        "print(max_sum)"
      ],
      "metadata": {
        "id": "pkrN63vwh2uR",
        "colab": {
          "base_uri": "https://localhost:8080/"
        },
        "outputId": "9d8028c0-ce86-4e0e-92c3-7b99575e5c98"
      },
      "execution_count": 7,
      "outputs": [
        {
          "output_type": "stream",
          "name": "stdout",
          "text": [
            "¿Cuantos elementos quieres que tenga la lista? 3\n",
            "Ingrese un valor entero para agregarlo a la lista:3\n",
            "Ingrese un valor entero para agregarlo a la lista:2\n",
            "Ingrese un valor entero para agregarlo a la lista:1\n",
            "[3, 2, 1]\n",
            "¿Cuantas veces quieres que se repita la lista3\n",
            "[3, 2, 1, 3, 2, 1, 3, 2, 1]\n",
            "18\n"
          ]
        }
      ]
    }
  ]
}