{
  "nbformat": 4,
  "nbformat_minor": 0,
  "metadata": {
    "colab": {
      "provenance": [],
      "authorship_tag": "ABX9TyNKKtUc1ZFn03d9Y/Zn0i38",
      "include_colab_link": true
    },
    "kernelspec": {
      "name": "python3",
      "display_name": "Python 3"
    },
    "language_info": {
      "name": "python"
    }
  },
  "cells": [
    {
      "cell_type": "markdown",
      "metadata": {
        "id": "view-in-github",
        "colab_type": "text"
      },
      "source": [
        "<a href=\"https://colab.research.google.com/github/Fermu25/Cursos/blob/main/Primer_programa.ipynb\" target=\"_parent\"><img src=\"https://colab.research.google.com/assets/colab-badge.svg\" alt=\"Open In Colab\"/></a>"
      ]
    },
    {
      "cell_type": "markdown",
      "source": [
        "Primer programa\n",
        "\n",
        "from math import pi, tan, sqrt,sin\n",
        "\\* significa todo"
      ],
      "metadata": {
        "id": "907iufbeyPLB"
      }
    },
    {
      "cell_type": "code",
      "source": [],
      "metadata": {
        "id": "9yQ5lqFg90uy"
      },
      "execution_count": null,
      "outputs": []
    },
    {
      "cell_type": "code",
      "source": [
        "from math import * #programa que resuelve la ecuación a*x**\"+b*x+c=0\n",
        "a=float(input(\"Da el coeficiente a \\t\")) #\\t tabulacion, \\b espacio \\n salto linea, darle formato a la salida\n",
        "b=float(input(\"Da el coeficiente b \\t\"))\n",
        "c=float(input(\"Da el coeficiente c \\t\"))\n",
        "if a!=0:\n",
        " x1=(-b+sqrt(b**2-4*a*c))/(2*a)\n",
        " x2=(-b-sqrt(b**2-4*a*c))/(2*a)\n",
        "# print(\"x1=%4.3f y x2=%4.3f\" %(x1,x2)) #%me vas a dar una variable con 4 cifras significativas, de las cuales 3 son decimales y va a ser de tipo flotante, como es el mismo comentario no puse una \",\" por eso quedó todo junto\n",
        " print(\"x1=\",x1)\n",
        " print(\"x2=\",x2)\n",
        "elif b!=0:\n",
        "  x=-c/b\n",
        "  print('solucion de la ecuación lineal es x=%4.3f'%x)\n",
        "elif c!=0:\n",
        "    print(\"La ecuacion no tiene solucion \")\n",
        "else:\n",
        "    print(\"La ecuacuon tiene infinidad de soluciones\")"
      ],
      "metadata": {
        "id": "LDnr9_BgsG7n",
        "colab": {
          "base_uri": "https://localhost:8080/"
        },
        "outputId": "ff237d4e-94a5-4b01-da37-c29d11292498"
      },
      "execution_count": null,
      "outputs": [
        {
          "output_type": "stream",
          "name": "stdout",
          "text": [
            "Da el coeficiente a \t1\n",
            "Da el coeficiente b \t5\n",
            "Da el coeficiente c \t1\n",
            "x1= -0.20871215252208009\n",
            "x2= -4.7912878474779195\n"
          ]
        }
      ]
    },
    {
      "cell_type": "code",
      "execution_count": null,
      "metadata": {
        "colab": {
          "base_uri": "https://localhost:8080/"
        },
        "id": "6Ur-1VZiyOP9",
        "outputId": "b661e614-e1f3-4000-8d26-e2ea1a9a7691"
      },
      "outputs": [
        {
          "output_type": "stream",
          "name": "stdout",
          "text": [
            "¿Qué radio quieres?5\n",
            "<class 'float'>\n",
            "523.5987755982989\n"
          ]
        }
      ],
      "source": [
        "from math import *\n",
        "r=float(input(\"¿Qué radio quieres?\"))\n",
        "print(type(r))\n",
        "vol=(4/3)*pi*r**3\n",
        "print(vol)"
      ]
    }
  ]
}