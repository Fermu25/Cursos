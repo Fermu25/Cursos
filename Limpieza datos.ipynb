{
  "nbformat": 4,
  "nbformat_minor": 0,
  "metadata": {
    "colab": {
      "provenance": [],
      "authorship_tag": "ABX9TyOwztwdmgTKi2K7ci7J91gk",
      "include_colab_link": true
    },
    "kernelspec": {
      "name": "python3",
      "display_name": "Python 3"
    },
    "language_info": {
      "name": "python"
    }
  },
  "cells": [
    {
      "cell_type": "markdown",
      "metadata": {
        "id": "view-in-github",
        "colab_type": "text"
      },
      "source": [
        "<a href=\"https://colab.research.google.com/github/Fermu25/Cursos/blob/main/Limpieza%20datos.ipynb\" target=\"_parent\"><img src=\"https://colab.research.google.com/assets/colab-badge.svg\" alt=\"Open In Colab\"/></a>"
      ]
    },
    {
      "cell_type": "code",
      "execution_count": 8,
      "metadata": {
        "colab": {
          "base_uri": "https://localhost:8080/"
        },
        "id": "sdT3cyGsXzf8",
        "outputId": "c89c0421-2301-42da-f376-aba2aa64e877"
      },
      "outputs": [
        {
          "output_type": "stream",
          "name": "stdout",
          "text": [
            "Procesadas: 284/285 líneas. Descartadas: 1.\n",
            "CSV escrito: temperatura_estabilización.csv\n",
            "         Tiempo     T1     T2     T3     T4        t_s  t_s_rel\n",
            "0  20:46:37.371  27.80  28.83  27.58  27.99  74797.371    0.000\n",
            "1  20:46:38.878  27.80  28.83  27.52  27.99  74798.878    1.507\n",
            "2  20:46:40.386  27.80  28.77  27.52  27.99  74800.386    3.015\n",
            "3  20:46:41.893  27.80  28.77  27.52  28.12  74801.893    4.522\n",
            "4  20:46:43.435  26.51  27.62  24.21  25.06  74803.435    6.064\n"
          ]
        }
      ],
      "source": [
        "import re\n",
        "import pandas as pd\n",
        "from datetime import datetime, timedelta\n",
        "\n",
        "# --------- ARCHIVOS ----------\n",
        "archivo_entrada = \"Tiempo de estabilización.txt\"\n",
        "archivo_salida  = \"temperatura_estabilización.csv\"\n",
        "\n",
        "# --------- PATRONES ----------\n",
        "# TCOR = número con punto o coma\n",
        "re_tcor = re.compile(r\"TCOR\\s*=\\s*([+-]?\\d+(?:[.,]\\d+)?)\")\n",
        "\n",
        "# 3 formas de tiempo posibles\n",
        "p_hms_ms   = re.compile(r\"\\b(\\d{1,2}:\\d{2}:\\d{2}(?:[.,]\\d+)?)\")                       # 20:46:37.371\n",
        "p_hms_ampm = re.compile(r\"\\b(\\d{1,2}:\\d{2}:\\d{2})\\s*(a\\.?\\s*m\\.?|p\\.?\\s*m\\.?)\", re.I) # 08:46:37 p. m.\n",
        "p_ms_ms    = re.compile(r\"\\b(\\d{1,2}:\\d{2}(?:[.,]\\d+)?)\\b(?!:)\")                      # 46:37.0\n",
        "\n",
        "def parse_tiempo(linea):\n",
        "    \"\"\"Devuelve string normalizado y segundos relativos (los segundos los generaré luego si hace falta).\"\"\"\n",
        "    m = p_hms_ms.search(linea)\n",
        "    if m:\n",
        "        return m.group(1).replace(',', '.')  # HH:MM:SS(.ms)\n",
        "\n",
        "    m = p_hms_ampm.search(linea)\n",
        "    if m:\n",
        "        hhmmss, ampm = m.groups()\n",
        "        ampm_clean = 'PM' if 'p' in ampm.lower() else 'AM'\n",
        "        dt = datetime.strptime(f\"{hhmmss} {ampm_clean}\", \"%I:%M:%S %p\")\n",
        "        return dt.strftime(\"%H:%M:%S\")  # HH:MM:SS en 24h\n",
        "\n",
        "    m = p_ms_ms.search(linea)\n",
        "    if m:\n",
        "        return m.group(1).replace(',', '.')  # MM:SS(.ms)\n",
        "\n",
        "    return None\n",
        "\n",
        "# --------- PARSEO ----------\n",
        "tiempos = []\n",
        "t1, t2, t3, t4 = [], [], [], []\n",
        "\n",
        "total, usadas, descartadas = 0, 0, 0\n",
        "\n",
        "with open(archivo_entrada, \"r\", encoding=\"utf-8\", errors=\"ignore\") as f:\n",
        "    for linea in f:\n",
        "        total += 1\n",
        "        ts = parse_tiempo(linea)\n",
        "        tcors = re_tcor.findall(linea)\n",
        "\n",
        "        if ts and len(tcors) >= 4:   # por si a veces vienen más campos\n",
        "            tiempos.append(ts)\n",
        "            t1.append(float(tcors[0].replace(',', '.')))\n",
        "            t2.append(float(tcors[1].replace(',', '.')))\n",
        "            t3.append(float(tcors[2].replace(',', '.')))\n",
        "            t4.append(float(tcors[3].replace(',', '.')))\n",
        "            usadas += 1\n",
        "        else:\n",
        "            descartadas += 1\n",
        "\n",
        "# --------- DATAFRAME ----------\n",
        "df = pd.DataFrame({\n",
        "    \"Tiempo\": tiempos,\n",
        "    \"T1\": t1, \"T2\": t2, \"T3\": t3, \"T4\": t4\n",
        "})\n",
        "\n",
        "# (Opcional) convertir \"Tiempo\" a segundos transcurridos para graficar\n",
        "def tiempo_a_segundos(s):\n",
        "    # HH:MM:SS(.ms)\n",
        "    if re.fullmatch(r\"\\d{1,2}:\\d{2}:\\d{2}(?:\\.\\d+)?\", s):\n",
        "        h, m, sec = s.split(\":\")\n",
        "        return int(h)*3600 + int(m)*60 + float(sec)\n",
        "    # MM:SS(.ms)\n",
        "    if re.fullmatch(r\"\\d{1,2}:\\d{2}(?:\\.\\d+)?\", s):\n",
        "        m, sec = s.split(\":\")\n",
        "        return int(m)*60 + float(sec)\n",
        "    return None\n",
        "\n",
        "df[\"t_s\"] = [tiempo_a_segundos(s) for s in df[\"Tiempo\"]]\n",
        "# normaliza a t=0 en la primera medición válida\n",
        "if df[\"t_s\"].notna().any():\n",
        "    t0 = df[\"t_s\"].dropna().iloc[0]\n",
        "    df[\"t_s_rel\"] = df[\"t_s\"] - t0\n",
        "\n",
        "# --------- GUARDAR ----------\n",
        "df.to_csv(archivo_salida, index=False, encoding=\"utf-8\")\n",
        "print(f\"Procesadas: {usadas}/{total} líneas. Descartadas: {descartadas}.\")\n",
        "print(f\"CSV escrito: {archivo_salida}\")\n",
        "print(df.head())\n"
      ]
    },
    {
      "cell_type": "code",
      "source": [],
      "metadata": {
        "id": "cEoYrZa3YTFs"
      },
      "execution_count": 7,
      "outputs": []
    }
  ]
}